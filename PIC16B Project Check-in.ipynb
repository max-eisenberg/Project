{
 "cells": [
  {
   "cell_type": "code",
   "execution_count": 23,
   "id": "604edca1-00b6-43fb-b27c-27f55483b8c4",
   "metadata": {
    "tags": []
   },
   "outputs": [],
   "source": [
    "import numpy as np \n",
    "import pandas as pd \n",
    "from sklearn.linear_model import LinearRegression\n",
    "import matplotlib.pyplot as plt  \n",
    "import seaborn as sns \n",
    "from datetime import datetime\n",
    "from plotly import express as px\n",
    "from datetime import date"
   ]
  },
  {
   "cell_type": "code",
   "execution_count": 2,
   "id": "f1ee72a1-6677-4fd1-9a70-8536f4eec030",
   "metadata": {
    "tags": []
   },
   "outputs": [],
   "source": [
    "df = pd.read_csv('max_data.csv') "
   ]
  },
  {
   "cell_type": "code",
   "execution_count": 3,
   "id": "f59c1ffa-3411-4977-8934-08e7bd06eb2f",
   "metadata": {
    "tags": []
   },
   "outputs": [
    {
     "data": {
      "text/html": [
       "<div>\n",
       "<style scoped>\n",
       "    .dataframe tbody tr th:only-of-type {\n",
       "        vertical-align: middle;\n",
       "    }\n",
       "\n",
       "    .dataframe tbody tr th {\n",
       "        vertical-align: top;\n",
       "    }\n",
       "\n",
       "    .dataframe thead th {\n",
       "        text-align: right;\n",
       "    }\n",
       "</style>\n",
       "<table border=\"1\" class=\"dataframe\">\n",
       "  <thead>\n",
       "    <tr style=\"text-align: right;\">\n",
       "      <th></th>\n",
       "      <th>Unnamed: 0</th>\n",
       "      <th>Name</th>\n",
       "      <th>Distance (mi)</th>\n",
       "      <th>Moving Time (hr)</th>\n",
       "      <th>Elevation Gain (ft)</th>\n",
       "      <th>Average Heartrate (bpm)</th>\n",
       "      <th>Average Power (w)</th>\n",
       "      <th>Date</th>\n",
       "    </tr>\n",
       "  </thead>\n",
       "  <tbody>\n",
       "    <tr>\n",
       "      <th>0</th>\n",
       "      <td>0</td>\n",
       "      <td>Afternoon Ride</td>\n",
       "      <td>28.91</td>\n",
       "      <td>2.80</td>\n",
       "      <td>2791.99</td>\n",
       "      <td>NaN</td>\n",
       "      <td>NaN</td>\n",
       "      <td>2023-11-02</td>\n",
       "    </tr>\n",
       "    <tr>\n",
       "      <th>1</th>\n",
       "      <td>1</td>\n",
       "      <td>Afternoon Ride</td>\n",
       "      <td>24.29</td>\n",
       "      <td>2.04</td>\n",
       "      <td>2654.20</td>\n",
       "      <td>NaN</td>\n",
       "      <td>NaN</td>\n",
       "      <td>2023-11-01</td>\n",
       "    </tr>\n",
       "    <tr>\n",
       "      <th>2</th>\n",
       "      <td>2</td>\n",
       "      <td>pumkin</td>\n",
       "      <td>17.59</td>\n",
       "      <td>1.76</td>\n",
       "      <td>1863.52</td>\n",
       "      <td>NaN</td>\n",
       "      <td>NaN</td>\n",
       "      <td>2023-10-31</td>\n",
       "    </tr>\n",
       "    <tr>\n",
       "      <th>3</th>\n",
       "      <td>3</td>\n",
       "      <td>mtb on da road</td>\n",
       "      <td>73.79</td>\n",
       "      <td>4.86</td>\n",
       "      <td>6893.04</td>\n",
       "      <td>155.1</td>\n",
       "      <td>NaN</td>\n",
       "      <td>2023-10-28</td>\n",
       "    </tr>\n",
       "    <tr>\n",
       "      <th>4</th>\n",
       "      <td>4</td>\n",
       "      <td>Morning Ride</td>\n",
       "      <td>5.84</td>\n",
       "      <td>0.47</td>\n",
       "      <td>226.38</td>\n",
       "      <td>NaN</td>\n",
       "      <td>NaN</td>\n",
       "      <td>2023-10-27</td>\n",
       "    </tr>\n",
       "    <tr>\n",
       "      <th>...</th>\n",
       "      <td>...</td>\n",
       "      <td>...</td>\n",
       "      <td>...</td>\n",
       "      <td>...</td>\n",
       "      <td>...</td>\n",
       "      <td>...</td>\n",
       "      <td>...</td>\n",
       "      <td>...</td>\n",
       "    </tr>\n",
       "    <tr>\n",
       "      <th>713</th>\n",
       "      <td>713</td>\n",
       "      <td>Michael and Max --- 3/11/17</td>\n",
       "      <td>22.20</td>\n",
       "      <td>2.99</td>\n",
       "      <td>1054.13</td>\n",
       "      <td>NaN</td>\n",
       "      <td>NaN</td>\n",
       "      <td>2017-03-11</td>\n",
       "    </tr>\n",
       "    <tr>\n",
       "      <th>714</th>\n",
       "      <td>714</td>\n",
       "      <td>Thanksgiving ride</td>\n",
       "      <td>15.79</td>\n",
       "      <td>1.79</td>\n",
       "      <td>1328.74</td>\n",
       "      <td>NaN</td>\n",
       "      <td>NaN</td>\n",
       "      <td>2016-11-24</td>\n",
       "    </tr>\n",
       "    <tr>\n",
       "      <th>715</th>\n",
       "      <td>715</td>\n",
       "      <td>Afternoon Ride</td>\n",
       "      <td>10.40</td>\n",
       "      <td>1.05</td>\n",
       "      <td>484.25</td>\n",
       "      <td>NaN</td>\n",
       "      <td>NaN</td>\n",
       "      <td>2016-11-23</td>\n",
       "    </tr>\n",
       "    <tr>\n",
       "      <th>716</th>\n",
       "      <td>716</td>\n",
       "      <td>Veterans Day weekend --- phone dies and 5 mike...</td>\n",
       "      <td>17.12</td>\n",
       "      <td>1.91</td>\n",
       "      <td>1077.76</td>\n",
       "      <td>NaN</td>\n",
       "      <td>NaN</td>\n",
       "      <td>2016-11-13</td>\n",
       "    </tr>\n",
       "    <tr>\n",
       "      <th>717</th>\n",
       "      <td>717</td>\n",
       "      <td>Dad tried to kill me</td>\n",
       "      <td>17.07</td>\n",
       "      <td>1.74</td>\n",
       "      <td>948.49</td>\n",
       "      <td>NaN</td>\n",
       "      <td>NaN</td>\n",
       "      <td>2016-08-04</td>\n",
       "    </tr>\n",
       "  </tbody>\n",
       "</table>\n",
       "<p>718 rows × 8 columns</p>\n",
       "</div>"
      ],
      "text/plain": [
       "     Unnamed: 0                                               Name  \\\n",
       "0             0                                     Afternoon Ride   \n",
       "1             1                                     Afternoon Ride   \n",
       "2             2                                             pumkin   \n",
       "3             3                                     mtb on da road   \n",
       "4             4                                       Morning Ride   \n",
       "..          ...                                                ...   \n",
       "713         713                        Michael and Max --- 3/11/17   \n",
       "714         714                                 Thanksgiving ride    \n",
       "715         715                                     Afternoon Ride   \n",
       "716         716  Veterans Day weekend --- phone dies and 5 mike...   \n",
       "717         717                              Dad tried to kill me    \n",
       "\n",
       "     Distance (mi)  Moving Time (hr)  Elevation Gain (ft)  \\\n",
       "0            28.91              2.80              2791.99   \n",
       "1            24.29              2.04              2654.20   \n",
       "2            17.59              1.76              1863.52   \n",
       "3            73.79              4.86              6893.04   \n",
       "4             5.84              0.47               226.38   \n",
       "..             ...               ...                  ...   \n",
       "713          22.20              2.99              1054.13   \n",
       "714          15.79              1.79              1328.74   \n",
       "715          10.40              1.05               484.25   \n",
       "716          17.12              1.91              1077.76   \n",
       "717          17.07              1.74               948.49   \n",
       "\n",
       "     Average Heartrate (bpm)  Average Power (w)        Date  \n",
       "0                        NaN                NaN  2023-11-02  \n",
       "1                        NaN                NaN  2023-11-01  \n",
       "2                        NaN                NaN  2023-10-31  \n",
       "3                      155.1                NaN  2023-10-28  \n",
       "4                        NaN                NaN  2023-10-27  \n",
       "..                       ...                ...         ...  \n",
       "713                      NaN                NaN  2017-03-11  \n",
       "714                      NaN                NaN  2016-11-24  \n",
       "715                      NaN                NaN  2016-11-23  \n",
       "716                      NaN                NaN  2016-11-13  \n",
       "717                      NaN                NaN  2016-08-04  \n",
       "\n",
       "[718 rows x 8 columns]"
      ]
     },
     "execution_count": 3,
     "metadata": {},
     "output_type": "execute_result"
    }
   ],
   "source": [
    "df"
   ]
  },
  {
   "cell_type": "code",
   "execution_count": 4,
   "id": "04bc27db-00cc-42c3-a1ef-098524585326",
   "metadata": {
    "tags": []
   },
   "outputs": [],
   "source": [
    "week_dict = {'Monday':1,'Tuesday':2,'Wednesday':3,'Thursday':4,'Friday':5,'Saturday':6,'Sunday':7}\n",
    "\n",
    "\n",
    "days = []\n",
    "for date in df['Date']:\n",
    "    temp = datetime(int(date[:4]),int(date[5:7]),int(date[8:]))\n",
    "    days.append(temp.strftime('%A'))\n",
    "\n",
    "df['Days'] = days"
   ]
  },
  {
   "cell_type": "code",
   "execution_count": 31,
   "id": "504b3050-4d1f-4c67-9c0c-ea39d21c4f5e",
   "metadata": {
    "tags": []
   },
   "outputs": [],
   "source": [
    "import datetime\n",
    "week = [] \n",
    "for i in df['Date']:\n",
    "    month = int(i[:4])\n",
    "    day = int(i[5:7])\n",
    "    year = int(i[8:])\n",
    "    week.append(datetime.date(month,day,year).strftime(\"%V\"))\n",
    "df['Week']=week"
   ]
  },
  {
   "cell_type": "code",
   "execution_count": 32,
   "id": "2ba61688-a19b-4f64-a821-d73b5d62247c",
   "metadata": {
    "tags": []
   },
   "outputs": [
    {
     "data": {
      "text/html": [
       "<div>\n",
       "<style scoped>\n",
       "    .dataframe tbody tr th:only-of-type {\n",
       "        vertical-align: middle;\n",
       "    }\n",
       "\n",
       "    .dataframe tbody tr th {\n",
       "        vertical-align: top;\n",
       "    }\n",
       "\n",
       "    .dataframe thead th {\n",
       "        text-align: right;\n",
       "    }\n",
       "</style>\n",
       "<table border=\"1\" class=\"dataframe\">\n",
       "  <thead>\n",
       "    <tr style=\"text-align: right;\">\n",
       "      <th></th>\n",
       "      <th>Unnamed: 0</th>\n",
       "      <th>Name</th>\n",
       "      <th>Distance (mi)</th>\n",
       "      <th>Moving Time (hr)</th>\n",
       "      <th>Elevation Gain (ft)</th>\n",
       "      <th>Average Heartrate (bpm)</th>\n",
       "      <th>Average Power (w)</th>\n",
       "      <th>Date</th>\n",
       "      <th>Days</th>\n",
       "      <th>Week</th>\n",
       "    </tr>\n",
       "  </thead>\n",
       "  <tbody>\n",
       "    <tr>\n",
       "      <th>0</th>\n",
       "      <td>0</td>\n",
       "      <td>Afternoon Ride</td>\n",
       "      <td>28.91</td>\n",
       "      <td>2.80</td>\n",
       "      <td>2791.99</td>\n",
       "      <td>NaN</td>\n",
       "      <td>NaN</td>\n",
       "      <td>2023-11-02</td>\n",
       "      <td>Thursday</td>\n",
       "      <td>44</td>\n",
       "    </tr>\n",
       "    <tr>\n",
       "      <th>1</th>\n",
       "      <td>1</td>\n",
       "      <td>Afternoon Ride</td>\n",
       "      <td>24.29</td>\n",
       "      <td>2.04</td>\n",
       "      <td>2654.20</td>\n",
       "      <td>NaN</td>\n",
       "      <td>NaN</td>\n",
       "      <td>2023-11-01</td>\n",
       "      <td>Wednesday</td>\n",
       "      <td>44</td>\n",
       "    </tr>\n",
       "    <tr>\n",
       "      <th>2</th>\n",
       "      <td>2</td>\n",
       "      <td>pumkin</td>\n",
       "      <td>17.59</td>\n",
       "      <td>1.76</td>\n",
       "      <td>1863.52</td>\n",
       "      <td>NaN</td>\n",
       "      <td>NaN</td>\n",
       "      <td>2023-10-31</td>\n",
       "      <td>Tuesday</td>\n",
       "      <td>44</td>\n",
       "    </tr>\n",
       "    <tr>\n",
       "      <th>3</th>\n",
       "      <td>3</td>\n",
       "      <td>mtb on da road</td>\n",
       "      <td>73.79</td>\n",
       "      <td>4.86</td>\n",
       "      <td>6893.04</td>\n",
       "      <td>155.1</td>\n",
       "      <td>NaN</td>\n",
       "      <td>2023-10-28</td>\n",
       "      <td>Saturday</td>\n",
       "      <td>43</td>\n",
       "    </tr>\n",
       "    <tr>\n",
       "      <th>4</th>\n",
       "      <td>4</td>\n",
       "      <td>Morning Ride</td>\n",
       "      <td>5.84</td>\n",
       "      <td>0.47</td>\n",
       "      <td>226.38</td>\n",
       "      <td>NaN</td>\n",
       "      <td>NaN</td>\n",
       "      <td>2023-10-27</td>\n",
       "      <td>Friday</td>\n",
       "      <td>43</td>\n",
       "    </tr>\n",
       "    <tr>\n",
       "      <th>...</th>\n",
       "      <td>...</td>\n",
       "      <td>...</td>\n",
       "      <td>...</td>\n",
       "      <td>...</td>\n",
       "      <td>...</td>\n",
       "      <td>...</td>\n",
       "      <td>...</td>\n",
       "      <td>...</td>\n",
       "      <td>...</td>\n",
       "      <td>...</td>\n",
       "    </tr>\n",
       "    <tr>\n",
       "      <th>713</th>\n",
       "      <td>713</td>\n",
       "      <td>Michael and Max --- 3/11/17</td>\n",
       "      <td>22.20</td>\n",
       "      <td>2.99</td>\n",
       "      <td>1054.13</td>\n",
       "      <td>NaN</td>\n",
       "      <td>NaN</td>\n",
       "      <td>2017-03-11</td>\n",
       "      <td>Saturday</td>\n",
       "      <td>10</td>\n",
       "    </tr>\n",
       "    <tr>\n",
       "      <th>714</th>\n",
       "      <td>714</td>\n",
       "      <td>Thanksgiving ride</td>\n",
       "      <td>15.79</td>\n",
       "      <td>1.79</td>\n",
       "      <td>1328.74</td>\n",
       "      <td>NaN</td>\n",
       "      <td>NaN</td>\n",
       "      <td>2016-11-24</td>\n",
       "      <td>Thursday</td>\n",
       "      <td>47</td>\n",
       "    </tr>\n",
       "    <tr>\n",
       "      <th>715</th>\n",
       "      <td>715</td>\n",
       "      <td>Afternoon Ride</td>\n",
       "      <td>10.40</td>\n",
       "      <td>1.05</td>\n",
       "      <td>484.25</td>\n",
       "      <td>NaN</td>\n",
       "      <td>NaN</td>\n",
       "      <td>2016-11-23</td>\n",
       "      <td>Wednesday</td>\n",
       "      <td>47</td>\n",
       "    </tr>\n",
       "    <tr>\n",
       "      <th>716</th>\n",
       "      <td>716</td>\n",
       "      <td>Veterans Day weekend --- phone dies and 5 mike...</td>\n",
       "      <td>17.12</td>\n",
       "      <td>1.91</td>\n",
       "      <td>1077.76</td>\n",
       "      <td>NaN</td>\n",
       "      <td>NaN</td>\n",
       "      <td>2016-11-13</td>\n",
       "      <td>Sunday</td>\n",
       "      <td>45</td>\n",
       "    </tr>\n",
       "    <tr>\n",
       "      <th>717</th>\n",
       "      <td>717</td>\n",
       "      <td>Dad tried to kill me</td>\n",
       "      <td>17.07</td>\n",
       "      <td>1.74</td>\n",
       "      <td>948.49</td>\n",
       "      <td>NaN</td>\n",
       "      <td>NaN</td>\n",
       "      <td>2016-08-04</td>\n",
       "      <td>Thursday</td>\n",
       "      <td>31</td>\n",
       "    </tr>\n",
       "  </tbody>\n",
       "</table>\n",
       "<p>718 rows × 10 columns</p>\n",
       "</div>"
      ],
      "text/plain": [
       "     Unnamed: 0                                               Name  \\\n",
       "0             0                                     Afternoon Ride   \n",
       "1             1                                     Afternoon Ride   \n",
       "2             2                                             pumkin   \n",
       "3             3                                     mtb on da road   \n",
       "4             4                                       Morning Ride   \n",
       "..          ...                                                ...   \n",
       "713         713                        Michael and Max --- 3/11/17   \n",
       "714         714                                 Thanksgiving ride    \n",
       "715         715                                     Afternoon Ride   \n",
       "716         716  Veterans Day weekend --- phone dies and 5 mike...   \n",
       "717         717                              Dad tried to kill me    \n",
       "\n",
       "     Distance (mi)  Moving Time (hr)  Elevation Gain (ft)  \\\n",
       "0            28.91              2.80              2791.99   \n",
       "1            24.29              2.04              2654.20   \n",
       "2            17.59              1.76              1863.52   \n",
       "3            73.79              4.86              6893.04   \n",
       "4             5.84              0.47               226.38   \n",
       "..             ...               ...                  ...   \n",
       "713          22.20              2.99              1054.13   \n",
       "714          15.79              1.79              1328.74   \n",
       "715          10.40              1.05               484.25   \n",
       "716          17.12              1.91              1077.76   \n",
       "717          17.07              1.74               948.49   \n",
       "\n",
       "     Average Heartrate (bpm)  Average Power (w)        Date       Days Week  \n",
       "0                        NaN                NaN  2023-11-02   Thursday   44  \n",
       "1                        NaN                NaN  2023-11-01  Wednesday   44  \n",
       "2                        NaN                NaN  2023-10-31    Tuesday   44  \n",
       "3                      155.1                NaN  2023-10-28   Saturday   43  \n",
       "4                        NaN                NaN  2023-10-27     Friday   43  \n",
       "..                       ...                ...         ...        ...  ...  \n",
       "713                      NaN                NaN  2017-03-11   Saturday   10  \n",
       "714                      NaN                NaN  2016-11-24   Thursday   47  \n",
       "715                      NaN                NaN  2016-11-23  Wednesday   47  \n",
       "716                      NaN                NaN  2016-11-13     Sunday   45  \n",
       "717                      NaN                NaN  2016-08-04   Thursday   31  \n",
       "\n",
       "[718 rows x 10 columns]"
      ]
     },
     "execution_count": 32,
     "metadata": {},
     "output_type": "execute_result"
    }
   ],
   "source": [
    "df"
   ]
  },
  {
   "cell_type": "code",
   "execution_count": 39,
   "id": "b64fba1c-7a1d-4b91-a3e2-3d5bf8c28ed7",
   "metadata": {
    "tags": []
   },
   "outputs": [
    {
     "data": {
      "text/plain": [
       "(34.478871866295265, 25.65239586022894)"
      ]
     },
     "execution_count": 39,
     "metadata": {},
     "output_type": "execute_result"
    }
   ],
   "source": [
    "df['Distance (mi)'].mean(),df['Distance (mi)'].std()"
   ]
  },
  {
   "cell_type": "code",
   "execution_count": 40,
   "id": "4c987655-4523-45d6-96ad-fbd42329960d",
   "metadata": {
    "tags": []
   },
   "outputs": [
    {
     "data": {
      "text/plain": [
       "(2742.78352367688, 2293.9687952425816)"
      ]
     },
     "execution_count": 40,
     "metadata": {},
     "output_type": "execute_result"
    }
   ],
   "source": [
    "df['Elevation Gain (ft)'].mean(),df['Elevation Gain (ft)'].std()"
   ]
  },
  {
   "cell_type": "code",
   "execution_count": 41,
   "id": "1b99dd12-1bd1-4692-ba98-0006c0d57905",
   "metadata": {
    "tags": []
   },
   "outputs": [
    {
     "data": {
      "text/plain": [
       "2.4083704735376044"
      ]
     },
     "execution_count": 41,
     "metadata": {},
     "output_type": "execute_result"
    }
   ],
   "source": [
    "df['Moving Time (hr)'].mean()"
   ]
  },
  {
   "cell_type": "code",
   "execution_count": 42,
   "id": "32647e81-b220-48fa-aa97-db100c20f201",
   "metadata": {
    "tags": []
   },
   "outputs": [
    {
     "data": {
      "application/vnd.plotly.v1+json": {
       "config": {
        "plotlyServerURL": "https://plot.ly"
       },
       "data": [
        {
         "hovertemplate": "Days=Thursday<br>Distance (mi)=%{x}<br>Elevation Gain (ft)=%{y}<br>Average Heartrate (bpm)=%{marker.color}<extra></extra>",
         "legendgroup": "",
         "marker": {
          "color": [
           null,
           null,
           null,
           null,
           null,
           null,
           143.8,
           143.7,
           153.1,
           163.1,
           153.5,
           152.9,
           157.3,
           null,
           159.8,
           156.3,
           132.8,
           124,
           101.7,
           152.3,
           null,
           null,
           null,
           null,
           null,
           null,
           null,
           138.4,
           137.1,
           133.8,
           null,
           null,
           146.3,
           118.3,
           131.1,
           127.8,
           120.5,
           106.3,
           141.8,
           null,
           151,
           null,
           154.9,
           161.7,
           143.5,
           154.7,
           160.2,
           158.5,
           140,
           155.7,
           145.2,
           null,
           null,
           null,
           null,
           null,
           null,
           null,
           null,
           null,
           null,
           null,
           null,
           null,
           null,
           null,
           null,
           null,
           null,
           null,
           null,
           null,
           null,
           null,
           null,
           null,
           null,
           null,
           null,
           null,
           null,
           null,
           null,
           null,
           null,
           null,
           null,
           null,
           145.3,
           145.1,
           null,
           null
          ],
          "coloraxis": "coloraxis",
          "symbol": "circle"
         },
         "mode": "markers",
         "name": "",
         "orientation": "v",
         "showlegend": false,
         "type": "scatter",
         "x": [
          28.91,
          29.13,
          27.62,
          22.53,
          21.21,
          26.66,
          45.41,
          13.74,
          55.96,
          71.08,
          45.35,
          28.99,
          78.78,
          24.01,
          10.61,
          44.56,
          29.71,
          20.17,
          0.35,
          25.33,
          11.92,
          1.84,
          20.51,
          30.8,
          20.53,
          28.34,
          18.02,
          27.59,
          25.52,
          31.05,
          18.25,
          54.79,
          19.56,
          21,
          22.83,
          20.73,
          14.26,
          18.59,
          26.43,
          27.09,
          26.07,
          1.84,
          56.67,
          33.92,
          30.87,
          39.88,
          20.77,
          47.03,
          19.36,
          29.91,
          29.31,
          17.53,
          16.73,
          49.55,
          66.41,
          25.86,
          28.27,
          38.02,
          57.92,
          18.77,
          20.26,
          19.66,
          16.69,
          121.98,
          0.14,
          32.68,
          16.89,
          11.97,
          10.54,
          41.97,
          6.21,
          13.24,
          3.87,
          15.16,
          50.64,
          15.71,
          12.44,
          26.61,
          22.33,
          18.12,
          15.63,
          19.47,
          1.7,
          45.61,
          70.96,
          29.77,
          63.99,
          23.89,
          47.02,
          23.35,
          15.79,
          17.07
         ],
         "xaxis": "x",
         "y": [
          2791.99,
          2103.02,
          1374.67,
          1381.23,
          1151.57,
          2263.78,
          5908.79,
          1758.53,
          4064.96,
          4137.14,
          3238.19,
          3336.61,
          8375.98,
          2234.25,
          731.63,
          4583.33,
          843.18,
          1463.25,
          318.24,
          2152.23,
          505.25,
          192.26,
          1761.81,
          2667.32,
          1988.19,
          1167.98,
          1971.78,
          2021,
          2086.61,
          2227.69,
          1328.74,
          5206.69,
          1341.86,
          459.32,
          1223.75,
          1164.7,
          344.49,
          1325.46,
          2627.95,
          2819.55,
          2299.87,
          160.76,
          3832.02,
          3480.97,
          2024.28,
          2952.76,
          1860.24,
          4281.5,
          1407.48,
          2427.82,
          2322.83,
          908.79,
          1069.55,
          4776.9,
          5108.27,
          1364.83,
          2217.85,
          3622.05,
          5236.22,
          1381.23,
          866.14,
          2329.4,
          1089.24,
          2539.37,
          127.95,
          3822.18,
          1046.59,
          816.93,
          1420.6,
          4245.41,
          328.08,
          521.65,
          170.6,
          1145.01,
          2726.38,
          1108.92,
          666.01,
          2516.4,
          1922.57,
          728.35,
          1253.28,
          1473.1,
          6.56,
          2536.09,
          4272.64,
          1758.53,
          5147.64,
          2007.87,
          3188.98,
          1492.78,
          1328.74,
          948.49
         ],
         "yaxis": "y"
        },
        {
         "hovertemplate": "Days=Wednesday<br>Distance (mi)=%{x}<br>Elevation Gain (ft)=%{y}<br>Average Heartrate (bpm)=%{marker.color}<extra></extra>",
         "legendgroup": "",
         "marker": {
          "color": [
           null,
           125.9,
           null,
           137,
           158.2,
           132.2,
           136.5,
           144.8,
           null,
           126.4,
           143,
           138.9,
           146.7,
           null,
           146.7,
           156.6,
           171.1,
           124.9,
           null,
           null,
           null,
           null,
           149.6,
           136.7,
           158.1,
           null,
           142.9,
           159.3,
           132.5,
           134.3,
           144.1,
           147.3,
           144.5,
           152.9,
           null,
           null,
           147,
           155.2,
           153.2,
           null,
           130.4,
           151.8,
           152,
           null,
           155.2,
           148.5,
           151,
           146,
           145.9,
           148.7,
           null,
           null,
           null,
           null,
           null,
           null,
           null,
           null,
           null,
           null,
           null,
           null,
           null,
           null,
           null,
           null,
           null,
           null,
           null,
           null,
           null,
           null,
           null,
           null,
           null,
           156.5,
           null,
           null
          ],
          "coloraxis": "coloraxis",
          "symbol": "circle"
         },
         "mode": "markers",
         "name": "",
         "orientation": "v",
         "showlegend": false,
         "type": "scatter",
         "x": [
          24.29,
          27.42,
          21.89,
          53.38,
          29.79,
          57.3,
          57.12,
          54.2,
          8.27,
          21.38,
          110.33,
          36.8,
          30.53,
          19.83,
          35.66,
          66.4,
          5.2,
          38.63,
          31.37,
          27.76,
          20.61,
          27.27,
          29.26,
          30.55,
          25.12,
          29.13,
          28.34,
          52.46,
          26.13,
          26.35,
          42.16,
          37.05,
          32.73,
          32.43,
          1.19,
          23,
          9.94,
          34.56,
          29.34,
          35.23,
          41.9,
          29.52,
          82.29,
          43.18,
          23.74,
          27.7,
          21.58,
          31.65,
          23.94,
          44.87,
          20.08,
          24.67,
          25.86,
          23.81,
          49.19,
          58.29,
          14.33,
          30.9,
          24.71,
          15.44,
          24.62,
          57.09,
          4.53,
          17.48,
          20.09,
          13.7,
          29.79,
          18.5,
          19.81,
          1.77,
          28.6,
          65.55,
          39.17,
          23.24,
          71.75,
          40.47,
          73.37,
          10.4
         ],
         "xaxis": "x2",
         "y": [
          2654.2,
          1499.34,
          1502.62,
          4350.39,
          4796.59,
          5213.25,
          5009.84,
          3024.93,
          2351.71,
          1853.67,
          4153.87,
          2496.72,
          3208.66,
          2273.62,
          4609.58,
          5203.41,
          173.88,
          505.25,
          2634.51,
          1932.41,
          2791.99,
          2021,
          2578.74,
          2296.59,
          2053.81,
          2408.14,
          2073.49,
          4849.08,
          2339.24,
          2158.79,
          2798.56,
          3090.55,
          2181.76,
          2703.41,
          295.93,
          2611.55,
          728.35,
          2929.79,
          2463.91,
          3051.18,
          1853.67,
          2260.5,
          8426.51,
          3822.18,
          1620.73,
          1912.73,
          1702.76,
          2650.92,
          2312.99,
          4025.59,
          11562.34,
          1692.91,
          2076.77,
          2096.46,
          3805.77,
          5475.72,
          1620.73,
          2500,
          2542.65,
          2326.12,
          2080.05,
          3192.26,
          280.18,
          2201.44,
          2106.3,
          771,
          1873.36,
          1679.79,
          1473.1,
          318.24,
          3057.74,
          5715.22,
          2624.67,
          1692.91,
          4208.33,
          3267.72,
          4438.32,
          484.25
         ],
         "yaxis": "y2"
        },
        {
         "hovertemplate": "Days=Tuesday<br>Distance (mi)=%{x}<br>Elevation Gain (ft)=%{y}<br>Average Heartrate (bpm)=%{marker.color}<extra></extra>",
         "legendgroup": "",
         "marker": {
          "color": [
           null,
           149,
           145.7,
           149.8,
           130.8,
           166.3,
           162.3,
           148,
           121.8,
           null,
           135.1,
           94.3,
           153.8,
           156.8,
           141.7,
           139.6,
           152.1,
           157.2,
           139.4,
           155.5,
           141.4,
           156.7,
           112.1,
           136.8,
           158,
           108.6,
           null,
           null,
           null,
           null,
           140.7,
           null,
           139.1,
           152,
           null,
           149.4,
           null,
           174.3,
           null,
           null,
           null,
           null,
           143,
           157.7,
           null,
           null,
           134.5,
           153.5,
           136.2,
           null,
           145.3,
           null,
           157.5,
           null,
           150.2,
           139.7,
           154.8,
           null,
           null,
           null,
           null,
           null,
           null,
           null,
           null,
           null,
           null,
           null,
           null,
           null,
           null,
           null,
           null,
           null,
           null,
           null,
           null,
           null,
           null,
           null,
           null,
           null,
           null,
           null,
           null,
           null,
           null,
           null,
           null,
           null,
           null,
           null,
           null,
           null,
           null,
           null,
           null,
           null,
           null,
           150.8,
           null,
           null,
           165.8,
           159.3,
           null
          ],
          "coloraxis": "coloraxis",
          "symbol": "circle"
         },
         "mode": "markers",
         "name": "",
         "orientation": "v",
         "showlegend": false,
         "type": "scatter",
         "x": [
          17.59,
          61.32,
          60.86,
          61.34,
          40.7,
          13.55,
          21.46,
          56.11,
          28.19,
          83.68,
          30.72,
          37.53,
          53.69,
          34.17,
          67.17,
          29.76,
          23.14,
          97.47,
          22.99,
          88.67,
          18.6,
          51.68,
          3.41,
          29.08,
          2.05,
          35.75,
          47.06,
          30.44,
          45.69,
          13.65,
          37.89,
          15.74,
          26.06,
          32.32,
          18.29,
          30.15,
          2.21,
          3.82,
          22.2,
          15.55,
          13.39,
          4.14,
          63.97,
          33.47,
          11.1,
          15.22,
          18.52,
          31.25,
          19.99,
          18.66,
          18.13,
          7.77,
          20.01,
          25.95,
          22.24,
          41.36,
          38.66,
          31,
          14.49,
          20.08,
          66.8,
          53.94,
          40.6,
          31.11,
          24.29,
          30.91,
          51.08,
          28.39,
          13.28,
          13.43,
          25.73,
          36.74,
          12.38,
          61.8,
          2.86,
          17.93,
          19.1,
          8.84,
          90.13,
          11.3,
          14.6,
          30.36,
          8.4,
          16.91,
          22.37,
          11.16,
          16.92,
          15.57,
          18.19,
          24.72,
          52.41,
          15.6,
          17.63,
          29.54,
          10.55,
          34.25,
          13.22,
          20.62,
          15.56,
          20.69,
          23.18,
          30.03,
          28.89,
          60.21,
          66.75
         ],
         "xaxis": "x3",
         "y": [
          1863.52,
          2208.01,
          2208.01,
          2152.23,
          3057.74,
          1653.54,
          3953.41,
          5492.13,
          1584.65,
          2290.03,
          2162.07,
          695.54,
          4399.61,
          2385.17,
          8185.7,
          2230.97,
          2795.28,
          10127.95,
          2270.34,
          8175.85,
          1446.85,
          2421.26,
          229.66,
          1473.1,
          118.11,
          2673.88,
          3809.06,
          2401.57,
          3871.39,
          334.65,
          429.79,
          636.48,
          1522.31,
          2332.68,
          1302.49,
          2454.07,
          16.08,
          207.35,
          2309.71,
          536.75,
          1200.79,
          206.69,
          4143.7,
          4064.96,
          1666.67,
          383.86,
          1387.8,
          2480.32,
          1827.43,
          1361.55,
          1354.99,
          262.47,
          1095.8,
          1935.7,
          1345.14,
          3083.99,
          3077.43,
          2549.21,
          616.8,
          1427.17,
          4527.56,
          4458.66,
          3244.75,
          2509.51,
          1781.5,
          2349.08,
          4645.67,
          4429.13,
          856.3,
          236.22,
          2690.29,
          3408.79,
          1473.1,
          4028.87,
          203.41,
          2522.97,
          2106.3,
          439.63,
          9783.46,
          629.92,
          1725.72,
          4186.35,
          846.46,
          1233.6,
          1935.7,
          1128.61,
          1148.29,
          2529.53,
          1276.25,
          1907.81,
          4209.32,
          1400.92,
          1430.45,
          2296.59,
          456.04,
          2424.54,
          915.35,
          1345.14,
          882.55,
          1804.46,
          1781.5,
          2050.52,
          2247.38,
          3887.8,
          5267.72
         ],
         "yaxis": "y3"
        },
        {
         "hovertemplate": "Days=Saturday<br>Distance (mi)=%{x}<br>Elevation Gain (ft)=%{y}<br>Average Heartrate (bpm)=%{marker.color}<extra></extra>",
         "legendgroup": "",
         "marker": {
          "color": [
           155.1,
           154,
           157.1,
           154.7,
           151.8,
           148.9,
           153,
           null,
           143.8,
           143.4,
           152.5,
           158.7,
           150,
           139.7,
           139.5,
           null,
           null,
           156.7,
           148.2,
           145.3,
           162.2,
           165.5,
           153.3,
           154.7,
           165.8,
           156.8,
           158.3,
           139.6,
           164.5,
           154.2,
           null,
           152.3,
           159,
           165.7,
           149.7,
           118.7,
           169,
           null,
           null,
           null,
           null,
           156.1,
           162.3,
           154.3,
           126.3,
           158.3,
           121.2,
           151.9,
           145.3,
           156.4,
           152.6,
           157.7,
           156,
           144.6,
           null,
           152,
           131.5,
           151,
           null,
           152,
           null,
           145.8,
           166.5,
           148.6,
           159.6,
           167.2,
           164.6,
           155.7,
           170.2,
           156,
           156.9,
           null,
           160.3,
           155.4,
           null,
           175.8,
           133.6,
           143.3,
           150.6,
           160.2,
           153.6,
           157.2,
           null,
           null,
           null,
           null,
           null,
           null,
           null,
           null,
           null,
           null,
           null,
           null,
           null,
           null,
           null,
           null,
           null,
           null,
           null,
           null,
           null,
           null,
           null,
           null,
           null,
           null,
           null,
           null,
           null,
           null,
           null,
           null,
           null,
           null,
           null,
           null,
           null,
           null,
           null,
           null,
           null,
           null,
           null,
           null,
           null,
           null,
           null,
           null,
           null,
           null,
           null,
           null,
           null,
           null,
           163.2,
           null,
           null,
           null,
           null,
           null,
           null,
           null,
           null,
           null,
           null,
           null,
           null,
           null,
           null,
           null,
           null,
           null,
           173,
           null,
           null,
           null,
           null,
           null,
           null
          ],
          "coloraxis": "coloraxis",
          "symbol": "circle"
         },
         "mode": "markers",
         "name": "",
         "orientation": "v",
         "showlegend": false,
         "type": "scatter",
         "x": [
          73.79,
          86.91,
          89.38,
          84.34,
          80.31,
          114.02,
          53.8,
          5.87,
          64.2,
          61.65,
          82.51,
          96.1,
          100.32,
          123.81,
          62.77,
          13.4,
          13.06,
          98.07,
          93.87,
          138.08,
          102.48,
          84.78,
          82.81,
          87.73,
          77.8,
          45.78,
          83.53,
          104.62,
          43.51,
          40.46,
          22.03,
          64.82,
          68.96,
          67.51,
          16.65,
          12.84,
          7.43,
          4.17,
          59.96,
          49.68,
          24.71,
          79.63,
          76.72,
          91.95,
          26.36,
          56.08,
          64.33,
          31.21,
          72.36,
          17.79,
          22.63,
          97.83,
          107.11,
          95.51,
          22.07,
          100.15,
          25.51,
          75.81,
          16.42,
          57.1,
          20.51,
          24.12,
          54.73,
          113.16,
          80.64,
          61.17,
          38.85,
          134.77,
          43.52,
          67.01,
          54.13,
          69.77,
          100.89,
          34.61,
          64.29,
          24.85,
          52.41,
          23.52,
          15.54,
          61.86,
          91.16,
          73.58,
          6.74,
          13.36,
          18.65,
          23.09,
          34.46,
          21.86,
          6.43,
          49.72,
          31.12,
          71.95,
          14.44,
          86.62,
          4.75,
          17.21,
          9.12,
          93.63,
          68.55,
          82.43,
          42.55,
          35.1,
          105.31,
          29.61,
          24.31,
          71.44,
          73.01,
          89.97,
          25.19,
          39.32,
          2.89,
          10.25,
          14.06,
          25.29,
          62.9,
          7.77,
          42.62,
          29.86,
          76.73,
          30.16,
          82.94,
          25.99,
          18.59,
          77.15,
          74.1,
          63.49,
          22.54,
          34.22,
          39.34,
          76.91,
          22.34,
          19.32,
          17.35,
          27.6,
          21.32,
          64.32,
          57.49,
          101.8,
          81.91,
          38.26,
          37.8,
          9.83,
          33.97,
          21.35,
          36.59,
          69.35,
          24.06,
          21.79,
          28.79,
          75.49,
          42.96,
          5.6,
          54.84,
          11.31,
          9.9,
          46,
          19.52,
          51.52,
          32.96,
          19.73,
          22.2
         ],
         "xaxis": "x4",
         "y": [
          6893.04,
          7306.43,
          8484.25,
          6286.09,
          4757.22,
          9963.25,
          6476.38,
          396.98,
          9317.59,
          7378.61,
          6332.02,
          7660.76,
          5114.83,
          6515.75,
          5265.75,
          6.56,
          5075.46,
          7119.42,
          10108.27,
          10301.84,
          2883.86,
          2657.48,
          6627.3,
          7506.56,
          5396.98,
          4901.57,
          8651.58,
          5098.43,
          1948.82,
          3740.16,
          2316.27,
          2887.14,
          4186.35,
          6161.42,
          219.82,
          3467.85,
          531.5,
          458.66,
          3717.19,
          4169.95,
          2591.86,
          5767.72,
          4599.74,
          6804.46,
          2450.79,
          1738.85,
          5255.91,
          3458.01,
          8723.75,
          403.54,
          1827.43,
          11076.12,
          11532.15,
          4498.03,
          2224.41,
          7066.93,
          3149.61,
          5705.38,
          2513.12,
          3769.69,
          2230.97,
          1476.38,
          4481.63,
          11033.46,
          5823.49,
          4071.52,
          3435.04,
          11131.89,
          2030.84,
          2811.68,
          4448.82,
          6440.29,
          8428.48,
          3907.48,
          7076.77,
          2939.63,
          4406.17,
          748.03,
          429.79,
          6148.29,
          9032.15,
          8090.55,
          344.49,
          977.69,
          12242.78,
          2224.41,
          1167.98,
          1227.03,
          485.56,
          5898.95,
          1699.48,
          5505.25,
          259.19,
          6295.93,
          104.99,
          1197.51,
          544.62,
          7844.49,
          5905.51,
          5813.65,
          2073.49,
          4281.5,
          9120.74,
          2043.96,
          2273.62,
          3569.55,
          6837.27,
          2066.93,
          3156.17,
          3126.64,
          153.54,
          715.22,
          1036.75,
          2834.65,
          6440.29,
          0,
          2959.32,
          3005.25,
          9744.09,
          4235.56,
          7680.45,
          1617.45,
          1279.53,
          8887.8,
          7719.82,
          3172.57,
          2473.75,
          2368.77,
          3914.04,
          5495.41,
          1236.88,
          3044.62,
          1174.54,
          2129.27,
          1610.89,
          6437.01,
          6509.19,
          6794.62,
          6528.87,
          3208.66,
          3143.04,
          675.85,
          2237.53,
          2319.55,
          2657.48,
          6128.61,
          1692.91,
          2260.5,
          1961.94,
          5452.76,
          2972.44,
          2165.35,
          3353.02,
          482.28,
          357.61,
          3534.12,
          580.71,
          2534.45,
          2132.55,
          1157.15,
          1054.13
         ],
         "yaxis": "y4"
        },
        {
         "hovertemplate": "Days=Friday<br>Distance (mi)=%{x}<br>Elevation Gain (ft)=%{y}<br>Average Heartrate (bpm)=%{marker.color}<extra></extra>",
         "legendgroup": "",
         "marker": {
          "color": [
           null,
           null,
           null,
           null,
           128.1,
           127.5,
           null,
           148.2,
           155.7,
           149.4,
           144,
           136.3,
           174.9,
           130,
           156.3,
           null,
           148.4,
           null,
           null,
           148.6,
           143.2,
           159.3,
           165.9,
           155.1,
           144.4,
           null,
           166.8,
           99.5,
           null,
           null,
           null,
           null,
           null,
           null,
           null,
           null,
           null,
           null,
           null,
           null,
           155.6,
           144.4,
           149.7,
           null,
           143.3,
           null,
           157,
           140.5,
           108.5,
           142.7,
           117.1,
           143.7,
           134.2,
           146.9,
           null,
           161.5,
           124.2,
           null,
           null,
           134.3,
           null,
           null,
           155.4,
           138.3,
           null,
           134.2,
           155,
           null,
           null,
           null,
           null,
           null,
           null,
           null,
           null,
           131.2,
           null,
           null,
           null,
           null,
           null,
           null,
           null,
           null,
           null,
           null,
           null,
           null,
           null,
           null,
           null,
           null,
           null,
           null,
           null,
           null,
           null,
           null,
           null,
           null,
           null,
           160.5,
           null,
           152.8,
           null,
           null,
           null,
           null,
           null,
           null,
           null,
           null,
           null,
           null,
           null,
           null,
           null,
           null,
           null,
           null,
           null,
           153,
           141.1
          ],
          "coloraxis": "coloraxis",
          "symbol": "circle"
         },
         "mode": "markers",
         "name": "",
         "orientation": "v",
         "showlegend": false,
         "type": "scatter",
         "x": [
          5.84,
          5.79,
          11.08,
          22.84,
          21.6,
          53.54,
          17.89,
          31.39,
          40.08,
          62.03,
          75.38,
          29.25,
          22.34,
          34.88,
          26.75,
          12.72,
          33.33,
          16.18,
          32.87,
          27.19,
          36.69,
          4.7,
          8.09,
          24.97,
          23.19,
          23.33,
          5.36,
          13.64,
          2.11,
          91.67,
          2.9,
          25.74,
          29.47,
          19.34,
          11.46,
          11.13,
          27.93,
          25.89,
          32.77,
          20.85,
          31.45,
          23.42,
          21.24,
          26.54,
          23.73,
          2.11,
          21.02,
          29.16,
          11.61,
          30.59,
          24.58,
          33.4,
          26.26,
          21.83,
          17.05,
          33.86,
          40.34,
          15.62,
          15.89,
          16.9,
          11.09,
          23.28,
          35.32,
          14.05,
          10.34,
          12.15,
          31.19,
          40.53,
          9.18,
          1.95,
          1.54,
          1.67,
          13.26,
          9.31,
          14.3,
          9.39,
          17.05,
          19.65,
          57.97,
          13.37,
          10.06,
          1.69,
          26.25,
          21.23,
          1.57,
          27.55,
          27.51,
          14.02,
          19.33,
          14.57,
          9.29,
          34.85,
          31.48,
          22.88,
          31.15,
          33.42,
          53.42,
          19.93,
          17.25,
          25.45,
          17.71,
          3.82,
          3.3,
          19.94,
          27.21,
          15.32,
          9.53,
          62.1,
          16.93,
          11.25,
          18.14,
          13.03,
          14.36,
          75.05,
          20,
          2.56,
          4.14,
          20.96,
          16.83,
          51.72,
          72.3,
          71.1,
          33.1
         ],
         "xaxis": "x5",
         "y": [
          226.38,
          177.17,
          1437.01,
          1213.91,
          1354.99,
          5725.07,
          1279.53,
          3015.09,
          4097.77,
          3727.03,
          3261.15,
          2874.02,
          1377.95,
          2588.58,
          2621.39,
          505.25,
          3835.3,
          1207.35,
          3310.37,
          2814.96,
          3881.23,
          187.01,
          784.12,
          2595.14,
          2339.24,
          1532.15,
          160.76,
          892.39,
          196.85,
          9022.31,
          9.84,
          2585.3,
          2398.29,
          1328.74,
          374.02,
          380.58,
          1738.85,
          1886.48,
          2831.36,
          1578.08,
          2696.85,
          1190.94,
          2572.18,
          554.46,
          1617.45,
          12.8,
          423.23,
          2552.49,
          495.41,
          2244.09,
          367.45,
          1791.34,
          459.32,
          1879.92,
          2536.09,
          3202.1,
          3179.13,
          1076.12,
          1125.33,
          1033.46,
          314.96,
          1519.03,
          2706.69,
          688.98,
          334.65,
          492.13,
          2847.77,
          3303.81,
          439.63,
          19.69,
          137.8,
          9.84,
          616.8,
          305.12,
          600.39,
          396.98,
          505.25,
          1095.8,
          5462.6,
          9040.35,
          377.3,
          170.6,
          337.93,
          692.26,
          157.48,
          1811.02,
          1263.12,
          590.55,
          1236.88,
          738.19,
          741.47,
          3231.63,
          2808.4,
          1272.97,
          2765.75,
          2775.59,
          3566.27,
          1935.7,
          774.28,
          1814.3,
          679.13,
          34.12,
          0,
          2109.58,
          3375.98,
          1722.44,
          652.89,
          3543.31,
          1404.2,
          1190.94,
          902.23,
          590.55,
          1108.92,
          7030.84,
          1679.79,
          124.02,
          177.17,
          1499.34,
          1158.14,
          4340.55,
          7063.65,
          3720.47,
          3215.22
         ],
         "yaxis": "y5"
        },
        {
         "hovertemplate": "Days=Sunday<br>Distance (mi)=%{x}<br>Elevation Gain (ft)=%{y}<br>Average Heartrate (bpm)=%{marker.color}<extra></extra>",
         "legendgroup": "",
         "marker": {
          "color": [
           130.6,
           151.7,
           132.1,
           121.5,
           144.2,
           121,
           null,
           null,
           143.6,
           154.5,
           152.3,
           157.8,
           145.3,
           141.8,
           null,
           null,
           182.1,
           155.8,
           108.1,
           151.4,
           159,
           107.6,
           110.9,
           167.3,
           121.1,
           null,
           null,
           null,
           null,
           null,
           114.4,
           155.6,
           null,
           null,
           169.7,
           170.9,
           null,
           134.4,
           142.1,
           114.9,
           null,
           null,
           null,
           172.2,
           122.6,
           147,
           115.8,
           152.5,
           180.5,
           179.4,
           null,
           111.7,
           147.9,
           177.4,
           179.2,
           151.3,
           null,
           null,
           136.9,
           136.3,
           null,
           null,
           null,
           null,
           null,
           null,
           null,
           null,
           null,
           null,
           null,
           null,
           null,
           null,
           null,
           null,
           null,
           null,
           null,
           null,
           null,
           null,
           null,
           null,
           null,
           null,
           null,
           null,
           null,
           null,
           null,
           null,
           null,
           135,
           null,
           null,
           null,
           null,
           null,
           null,
           null,
           null
          ],
          "coloraxis": "coloraxis",
          "symbol": "circle"
         },
         "mode": "markers",
         "name": "",
         "orientation": "v",
         "showlegend": false,
         "type": "scatter",
         "x": [
          31.66,
          45.24,
          45.43,
          24.78,
          42.8,
          26.39,
          93.48,
          18.75,
          10.2,
          104.04,
          54.49,
          125.25,
          38.09,
          101.78,
          17.19,
          17.04,
          13.15,
          27.21,
          9.73,
          36.45,
          11.24,
          61.22,
          11.09,
          5.64,
          22.16,
          29.18,
          92.13,
          45.09,
          68.1,
          45.4,
          120.7,
          60.61,
          47.75,
          14.71,
          70.85,
          35.52,
          7.33,
          28.75,
          26.33,
          24.87,
          6.47,
          1.71,
          19.79,
          18.81,
          10.76,
          33.73,
          30.14,
          41.24,
          12.05,
          16.52,
          14.89,
          32.3,
          24.91,
          14.43,
          10.15,
          55.31,
          11.32,
          11.94,
          20.95,
          26.68,
          24.12,
          33.49,
          50.71,
          59.2,
          14.61,
          31.77,
          33.48,
          32.25,
          25.1,
          41.3,
          35.33,
          19.6,
          36.77,
          24.19,
          6.81,
          57.1,
          14.07,
          3.12,
          24.84,
          18.26,
          21.52,
          22.34,
          18.11,
          30.6,
          14.92,
          38.99,
          6.52,
          18.36,
          53.54,
          17.26,
          64.06,
          24.07,
          46.9,
          12.6,
          17.87,
          20.22,
          45.26,
          24.73,
          26.81,
          22.87,
          26.87,
          17.12
         ],
         "xaxis": "x6",
         "y": [
          3674.54,
          4422.57,
          5236.22,
          2680.45,
          2500,
          1213.91,
          8333.33,
          1683.07,
          2263.78,
          4471.78,
          2165.35,
          10262.47,
          2936.35,
          7017.72,
          305.12,
          360.89,
          232.94,
          3339.9,
          2627.95,
          3277.56,
          403.54,
          5265.75,
          583.99,
          291.99,
          997.38,
          2808.4,
          9343.83,
          3438.32,
          5846.46,
          3300.53,
          5298.56,
          4790.03,
          3343.18,
          2414.7,
          4005.91,
          10072.18,
          157.48,
          2493.44,
          1942.26,
          1706.04,
          246.06,
          155.84,
          1479.66,
          488.85,
          265.75,
          2060.37,
          557.74,
          3195.54,
          337.93,
          472.44,
          1345.14,
          2647.64,
          2103.02,
          577.43,
          255.91,
          4232.28,
          390.42,
          426.51,
          1988.19,
          2001.31,
          2221.13,
          3097.11,
          3927.17,
          4041.99,
          597.11,
          2135.83,
          2083.33,
          3179.13,
          1994.75,
          3034.78,
          3471.13,
          557.74,
          3044.62,
          1322.18,
          638.45,
          4698.16,
          1643.7,
          172.57,
          2158.79,
          1624.02,
          2103.02,
          1282.81,
          882.55,
          2365.49,
          577.43,
          2496.72,
          538.06,
          557.74,
          2808.4,
          1108.92,
          6663.39,
          994.09,
          2896.98,
          1551.84,
          976.38,
          780.84,
          2535.76,
          1143.04,
          1689.96,
          1117.78,
          1674.54,
          1077.76
         ],
         "yaxis": "y6"
        },
        {
         "hovertemplate": "Days=Monday<br>Distance (mi)=%{x}<br>Elevation Gain (ft)=%{y}<br>Average Heartrate (bpm)=%{marker.color}<extra></extra>",
         "legendgroup": "",
         "marker": {
          "color": [
           125.6,
           154.4,
           137,
           null,
           151.4,
           151.3,
           160.9,
           156.6,
           null,
           158.5,
           137.1,
           170.1,
           null,
           null,
           null,
           124.1,
           null,
           null,
           null,
           114.1,
           150.1,
           153.6,
           159.3,
           142.7,
           163.9,
           153.8,
           null,
           null,
           null,
           null,
           50,
           null,
           null,
           null,
           null,
           null,
           null,
           null,
           null,
           null,
           null,
           null,
           null,
           null,
           null,
           null,
           null,
           null,
           null,
           null,
           null,
           null,
           null,
           null,
           null,
           156.6,
           null
          ],
          "coloraxis": "coloraxis",
          "symbol": "circle"
         },
         "mode": "markers",
         "name": "",
         "orientation": "v",
         "showlegend": false,
         "type": "scatter",
         "x": [
          35.95,
          64.21,
          62.11,
          6.16,
          93.95,
          92.38,
          71.11,
          30.88,
          54.88,
          112.44,
          30.94,
          4.78,
          1.72,
          17.16,
          31.78,
          24.49,
          3.23,
          5.22,
          43.31,
          18.46,
          38.47,
          9.36,
          44.68,
          18.61,
          36.24,
          18.98,
          18.53,
          18.21,
          12.54,
          39.68,
          0.18,
          82.18,
          55.76,
          18.05,
          30.49,
          18.58,
          45.06,
          20.66,
          20.27,
          27.72,
          12.56,
          22.3,
          29.37,
          34.04,
          60.64,
          8.08,
          18.01,
          10.47,
          65.71,
          71.9,
          71.86,
          22.69,
          100.13,
          20.68,
          13.2,
          34.44,
          26.97
         ],
         "xaxis": "x7",
         "y": [
          4041.99,
          5065.62,
          5462.6,
          167.32,
          2224.41,
          4714.57,
          4294.62,
          4307.74,
          3576.12,
          10032.81,
          2500,
          223.1,
          191.93,
          874.02,
          3763.12,
          2788.71,
          92.52,
          841.86,
          3143.04,
          1295.93,
          4724.41,
          1630.58,
          3169.29,
          1282.81,
          2427.82,
          1400.92,
          872.7,
          1338.58,
          7294.62,
          3202.1,
          0,
          10328.08,
          4691.6,
          1299.21,
          1975.07,
          3385.83,
          5606.96,
          2053.81,
          1404.2,
          4078.08,
          669.29,
          3008.53,
          4107.61,
          2083.33,
          6305.77,
          3882.87,
          1181.1,
          990.81,
          5541.34,
          4332.35,
          4310.04,
          1650.26,
          5482.28,
          1227.03,
          721.78,
          1699.48,
          1845.8
         ],
         "yaxis": "y7"
        }
       ],
       "layout": {
        "annotations": [
         {
          "font": {},
          "showarrow": false,
          "text": "Days=Thursday",
          "x": 0.06285714285714285,
          "xanchor": "center",
          "xref": "paper",
          "y": 1,
          "yanchor": "bottom",
          "yref": "paper"
         },
         {
          "font": {},
          "showarrow": false,
          "text": "Days=Wednesday",
          "x": 0.20857142857142852,
          "xanchor": "center",
          "xref": "paper",
          "y": 1,
          "yanchor": "bottom",
          "yref": "paper"
         },
         {
          "font": {},
          "showarrow": false,
          "text": "Days=Tuesday",
          "x": 0.3542857142857142,
          "xanchor": "center",
          "xref": "paper",
          "y": 1,
          "yanchor": "bottom",
          "yref": "paper"
         },
         {
          "font": {},
          "showarrow": false,
          "text": "Days=Saturday",
          "x": 0.5,
          "xanchor": "center",
          "xref": "paper",
          "y": 1,
          "yanchor": "bottom",
          "yref": "paper"
         },
         {
          "font": {},
          "showarrow": false,
          "text": "Days=Friday",
          "x": 0.6457142857142856,
          "xanchor": "center",
          "xref": "paper",
          "y": 1,
          "yanchor": "bottom",
          "yref": "paper"
         },
         {
          "font": {},
          "showarrow": false,
          "text": "Days=Sunday",
          "x": 0.7914285714285713,
          "xanchor": "center",
          "xref": "paper",
          "y": 1,
          "yanchor": "bottom",
          "yref": "paper"
         },
         {
          "font": {},
          "showarrow": false,
          "text": "Days=Monday",
          "x": 0.9371428571428569,
          "xanchor": "center",
          "xref": "paper",
          "y": 1,
          "yanchor": "bottom",
          "yref": "paper"
         }
        ],
        "coloraxis": {
         "colorbar": {
          "title": {
           "text": "Average Heartrate (bpm)"
          }
         },
         "colorscale": [
          [
           0,
           "#0d0887"
          ],
          [
           0.1111111111111111,
           "#46039f"
          ],
          [
           0.2222222222222222,
           "#7201a8"
          ],
          [
           0.3333333333333333,
           "#9c179e"
          ],
          [
           0.4444444444444444,
           "#bd3786"
          ],
          [
           0.5555555555555556,
           "#d8576b"
          ],
          [
           0.6666666666666666,
           "#ed7953"
          ],
          [
           0.7777777777777778,
           "#fb9f3a"
          ],
          [
           0.8888888888888888,
           "#fdca26"
          ],
          [
           1,
           "#f0f921"
          ]
         ]
        },
        "height": 300,
        "legend": {
         "tracegroupgap": 0
        },
        "margin": {
         "b": 0,
         "l": 0,
         "r": 0,
         "t": 0
        },
        "template": {
         "data": {
          "bar": [
           {
            "error_x": {
             "color": "#2a3f5f"
            },
            "error_y": {
             "color": "#2a3f5f"
            },
            "marker": {
             "line": {
              "color": "#E5ECF6",
              "width": 0.5
             },
             "pattern": {
              "fillmode": "overlay",
              "size": 10,
              "solidity": 0.2
             }
            },
            "type": "bar"
           }
          ],
          "barpolar": [
           {
            "marker": {
             "line": {
              "color": "#E5ECF6",
              "width": 0.5
             },
             "pattern": {
              "fillmode": "overlay",
              "size": 10,
              "solidity": 0.2
             }
            },
            "type": "barpolar"
           }
          ],
          "carpet": [
           {
            "aaxis": {
             "endlinecolor": "#2a3f5f",
             "gridcolor": "white",
             "linecolor": "white",
             "minorgridcolor": "white",
             "startlinecolor": "#2a3f5f"
            },
            "baxis": {
             "endlinecolor": "#2a3f5f",
             "gridcolor": "white",
             "linecolor": "white",
             "minorgridcolor": "white",
             "startlinecolor": "#2a3f5f"
            },
            "type": "carpet"
           }
          ],
          "choropleth": [
           {
            "colorbar": {
             "outlinewidth": 0,
             "ticks": ""
            },
            "type": "choropleth"
           }
          ],
          "contour": [
           {
            "colorbar": {
             "outlinewidth": 0,
             "ticks": ""
            },
            "colorscale": [
             [
              0,
              "#0d0887"
             ],
             [
              0.1111111111111111,
              "#46039f"
             ],
             [
              0.2222222222222222,
              "#7201a8"
             ],
             [
              0.3333333333333333,
              "#9c179e"
             ],
             [
              0.4444444444444444,
              "#bd3786"
             ],
             [
              0.5555555555555556,
              "#d8576b"
             ],
             [
              0.6666666666666666,
              "#ed7953"
             ],
             [
              0.7777777777777778,
              "#fb9f3a"
             ],
             [
              0.8888888888888888,
              "#fdca26"
             ],
             [
              1,
              "#f0f921"
             ]
            ],
            "type": "contour"
           }
          ],
          "contourcarpet": [
           {
            "colorbar": {
             "outlinewidth": 0,
             "ticks": ""
            },
            "type": "contourcarpet"
           }
          ],
          "heatmap": [
           {
            "colorbar": {
             "outlinewidth": 0,
             "ticks": ""
            },
            "colorscale": [
             [
              0,
              "#0d0887"
             ],
             [
              0.1111111111111111,
              "#46039f"
             ],
             [
              0.2222222222222222,
              "#7201a8"
             ],
             [
              0.3333333333333333,
              "#9c179e"
             ],
             [
              0.4444444444444444,
              "#bd3786"
             ],
             [
              0.5555555555555556,
              "#d8576b"
             ],
             [
              0.6666666666666666,
              "#ed7953"
             ],
             [
              0.7777777777777778,
              "#fb9f3a"
             ],
             [
              0.8888888888888888,
              "#fdca26"
             ],
             [
              1,
              "#f0f921"
             ]
            ],
            "type": "heatmap"
           }
          ],
          "heatmapgl": [
           {
            "colorbar": {
             "outlinewidth": 0,
             "ticks": ""
            },
            "colorscale": [
             [
              0,
              "#0d0887"
             ],
             [
              0.1111111111111111,
              "#46039f"
             ],
             [
              0.2222222222222222,
              "#7201a8"
             ],
             [
              0.3333333333333333,
              "#9c179e"
             ],
             [
              0.4444444444444444,
              "#bd3786"
             ],
             [
              0.5555555555555556,
              "#d8576b"
             ],
             [
              0.6666666666666666,
              "#ed7953"
             ],
             [
              0.7777777777777778,
              "#fb9f3a"
             ],
             [
              0.8888888888888888,
              "#fdca26"
             ],
             [
              1,
              "#f0f921"
             ]
            ],
            "type": "heatmapgl"
           }
          ],
          "histogram": [
           {
            "marker": {
             "pattern": {
              "fillmode": "overlay",
              "size": 10,
              "solidity": 0.2
             }
            },
            "type": "histogram"
           }
          ],
          "histogram2d": [
           {
            "colorbar": {
             "outlinewidth": 0,
             "ticks": ""
            },
            "colorscale": [
             [
              0,
              "#0d0887"
             ],
             [
              0.1111111111111111,
              "#46039f"
             ],
             [
              0.2222222222222222,
              "#7201a8"
             ],
             [
              0.3333333333333333,
              "#9c179e"
             ],
             [
              0.4444444444444444,
              "#bd3786"
             ],
             [
              0.5555555555555556,
              "#d8576b"
             ],
             [
              0.6666666666666666,
              "#ed7953"
             ],
             [
              0.7777777777777778,
              "#fb9f3a"
             ],
             [
              0.8888888888888888,
              "#fdca26"
             ],
             [
              1,
              "#f0f921"
             ]
            ],
            "type": "histogram2d"
           }
          ],
          "histogram2dcontour": [
           {
            "colorbar": {
             "outlinewidth": 0,
             "ticks": ""
            },
            "colorscale": [
             [
              0,
              "#0d0887"
             ],
             [
              0.1111111111111111,
              "#46039f"
             ],
             [
              0.2222222222222222,
              "#7201a8"
             ],
             [
              0.3333333333333333,
              "#9c179e"
             ],
             [
              0.4444444444444444,
              "#bd3786"
             ],
             [
              0.5555555555555556,
              "#d8576b"
             ],
             [
              0.6666666666666666,
              "#ed7953"
             ],
             [
              0.7777777777777778,
              "#fb9f3a"
             ],
             [
              0.8888888888888888,
              "#fdca26"
             ],
             [
              1,
              "#f0f921"
             ]
            ],
            "type": "histogram2dcontour"
           }
          ],
          "mesh3d": [
           {
            "colorbar": {
             "outlinewidth": 0,
             "ticks": ""
            },
            "type": "mesh3d"
           }
          ],
          "parcoords": [
           {
            "line": {
             "colorbar": {
              "outlinewidth": 0,
              "ticks": ""
             }
            },
            "type": "parcoords"
           }
          ],
          "pie": [
           {
            "automargin": true,
            "type": "pie"
           }
          ],
          "scatter": [
           {
            "fillpattern": {
             "fillmode": "overlay",
             "size": 10,
             "solidity": 0.2
            },
            "type": "scatter"
           }
          ],
          "scatter3d": [
           {
            "line": {
             "colorbar": {
              "outlinewidth": 0,
              "ticks": ""
             }
            },
            "marker": {
             "colorbar": {
              "outlinewidth": 0,
              "ticks": ""
             }
            },
            "type": "scatter3d"
           }
          ],
          "scattercarpet": [
           {
            "marker": {
             "colorbar": {
              "outlinewidth": 0,
              "ticks": ""
             }
            },
            "type": "scattercarpet"
           }
          ],
          "scattergeo": [
           {
            "marker": {
             "colorbar": {
              "outlinewidth": 0,
              "ticks": ""
             }
            },
            "type": "scattergeo"
           }
          ],
          "scattergl": [
           {
            "marker": {
             "colorbar": {
              "outlinewidth": 0,
              "ticks": ""
             }
            },
            "type": "scattergl"
           }
          ],
          "scattermapbox": [
           {
            "marker": {
             "colorbar": {
              "outlinewidth": 0,
              "ticks": ""
             }
            },
            "type": "scattermapbox"
           }
          ],
          "scatterpolar": [
           {
            "marker": {
             "colorbar": {
              "outlinewidth": 0,
              "ticks": ""
             }
            },
            "type": "scatterpolar"
           }
          ],
          "scatterpolargl": [
           {
            "marker": {
             "colorbar": {
              "outlinewidth": 0,
              "ticks": ""
             }
            },
            "type": "scatterpolargl"
           }
          ],
          "scatterternary": [
           {
            "marker": {
             "colorbar": {
              "outlinewidth": 0,
              "ticks": ""
             }
            },
            "type": "scatterternary"
           }
          ],
          "surface": [
           {
            "colorbar": {
             "outlinewidth": 0,
             "ticks": ""
            },
            "colorscale": [
             [
              0,
              "#0d0887"
             ],
             [
              0.1111111111111111,
              "#46039f"
             ],
             [
              0.2222222222222222,
              "#7201a8"
             ],
             [
              0.3333333333333333,
              "#9c179e"
             ],
             [
              0.4444444444444444,
              "#bd3786"
             ],
             [
              0.5555555555555556,
              "#d8576b"
             ],
             [
              0.6666666666666666,
              "#ed7953"
             ],
             [
              0.7777777777777778,
              "#fb9f3a"
             ],
             [
              0.8888888888888888,
              "#fdca26"
             ],
             [
              1,
              "#f0f921"
             ]
            ],
            "type": "surface"
           }
          ],
          "table": [
           {
            "cells": {
             "fill": {
              "color": "#EBF0F8"
             },
             "line": {
              "color": "white"
             }
            },
            "header": {
             "fill": {
              "color": "#C8D4E3"
             },
             "line": {
              "color": "white"
             }
            },
            "type": "table"
           }
          ]
         },
         "layout": {
          "annotationdefaults": {
           "arrowcolor": "#2a3f5f",
           "arrowhead": 0,
           "arrowwidth": 1
          },
          "autotypenumbers": "strict",
          "coloraxis": {
           "colorbar": {
            "outlinewidth": 0,
            "ticks": ""
           }
          },
          "colorscale": {
           "diverging": [
            [
             0,
             "#8e0152"
            ],
            [
             0.1,
             "#c51b7d"
            ],
            [
             0.2,
             "#de77ae"
            ],
            [
             0.3,
             "#f1b6da"
            ],
            [
             0.4,
             "#fde0ef"
            ],
            [
             0.5,
             "#f7f7f7"
            ],
            [
             0.6,
             "#e6f5d0"
            ],
            [
             0.7,
             "#b8e186"
            ],
            [
             0.8,
             "#7fbc41"
            ],
            [
             0.9,
             "#4d9221"
            ],
            [
             1,
             "#276419"
            ]
           ],
           "sequential": [
            [
             0,
             "#0d0887"
            ],
            [
             0.1111111111111111,
             "#46039f"
            ],
            [
             0.2222222222222222,
             "#7201a8"
            ],
            [
             0.3333333333333333,
             "#9c179e"
            ],
            [
             0.4444444444444444,
             "#bd3786"
            ],
            [
             0.5555555555555556,
             "#d8576b"
            ],
            [
             0.6666666666666666,
             "#ed7953"
            ],
            [
             0.7777777777777778,
             "#fb9f3a"
            ],
            [
             0.8888888888888888,
             "#fdca26"
            ],
            [
             1,
             "#f0f921"
            ]
           ],
           "sequentialminus": [
            [
             0,
             "#0d0887"
            ],
            [
             0.1111111111111111,
             "#46039f"
            ],
            [
             0.2222222222222222,
             "#7201a8"
            ],
            [
             0.3333333333333333,
             "#9c179e"
            ],
            [
             0.4444444444444444,
             "#bd3786"
            ],
            [
             0.5555555555555556,
             "#d8576b"
            ],
            [
             0.6666666666666666,
             "#ed7953"
            ],
            [
             0.7777777777777778,
             "#fb9f3a"
            ],
            [
             0.8888888888888888,
             "#fdca26"
            ],
            [
             1,
             "#f0f921"
            ]
           ]
          },
          "colorway": [
           "#636efa",
           "#EF553B",
           "#00cc96",
           "#ab63fa",
           "#FFA15A",
           "#19d3f3",
           "#FF6692",
           "#B6E880",
           "#FF97FF",
           "#FECB52"
          ],
          "font": {
           "color": "#2a3f5f"
          },
          "geo": {
           "bgcolor": "white",
           "lakecolor": "white",
           "landcolor": "#E5ECF6",
           "showlakes": true,
           "showland": true,
           "subunitcolor": "white"
          },
          "hoverlabel": {
           "align": "left"
          },
          "hovermode": "closest",
          "mapbox": {
           "style": "light"
          },
          "paper_bgcolor": "white",
          "plot_bgcolor": "#E5ECF6",
          "polar": {
           "angularaxis": {
            "gridcolor": "white",
            "linecolor": "white",
            "ticks": ""
           },
           "bgcolor": "#E5ECF6",
           "radialaxis": {
            "gridcolor": "white",
            "linecolor": "white",
            "ticks": ""
           }
          },
          "scene": {
           "xaxis": {
            "backgroundcolor": "#E5ECF6",
            "gridcolor": "white",
            "gridwidth": 2,
            "linecolor": "white",
            "showbackground": true,
            "ticks": "",
            "zerolinecolor": "white"
           },
           "yaxis": {
            "backgroundcolor": "#E5ECF6",
            "gridcolor": "white",
            "gridwidth": 2,
            "linecolor": "white",
            "showbackground": true,
            "ticks": "",
            "zerolinecolor": "white"
           },
           "zaxis": {
            "backgroundcolor": "#E5ECF6",
            "gridcolor": "white",
            "gridwidth": 2,
            "linecolor": "white",
            "showbackground": true,
            "ticks": "",
            "zerolinecolor": "white"
           }
          },
          "shapedefaults": {
           "line": {
            "color": "#2a3f5f"
           }
          },
          "ternary": {
           "aaxis": {
            "gridcolor": "white",
            "linecolor": "white",
            "ticks": ""
           },
           "baxis": {
            "gridcolor": "white",
            "linecolor": "white",
            "ticks": ""
           },
           "bgcolor": "#E5ECF6",
           "caxis": {
            "gridcolor": "white",
            "linecolor": "white",
            "ticks": ""
           }
          },
          "title": {
           "x": 0.05
          },
          "xaxis": {
           "automargin": true,
           "gridcolor": "white",
           "linecolor": "white",
           "ticks": "",
           "title": {
            "standoff": 15
           },
           "zerolinecolor": "white",
           "zerolinewidth": 2
          },
          "yaxis": {
           "automargin": true,
           "gridcolor": "white",
           "linecolor": "white",
           "ticks": "",
           "title": {
            "standoff": 15
           },
           "zerolinecolor": "white",
           "zerolinewidth": 2
          }
         }
        },
        "width": 1000,
        "xaxis": {
         "anchor": "y",
         "autorange": true,
         "domain": [
          0,
          0.1257142857142857
         ],
         "range": [
          -15.063439784099858,
          153.28343978409987
         ],
         "title": {
          "text": "Distance (mi)"
         },
         "type": "linear"
        },
        "xaxis2": {
         "anchor": "y2",
         "autorange": true,
         "domain": [
          0.14571428571428569,
          0.27142857142857135
         ],
         "matches": "x",
         "range": [
          -15.063439784099858,
          153.28343978409987
         ],
         "title": {
          "text": "Distance (mi)"
         },
         "type": "linear"
        },
        "xaxis3": {
         "anchor": "y3",
         "autorange": true,
         "domain": [
          0.29142857142857137,
          0.41714285714285704
         ],
         "matches": "x",
         "range": [
          -15.063439784099858,
          153.28343978409987
         ],
         "title": {
          "text": "Distance (mi)"
         },
         "type": "linear"
        },
        "xaxis4": {
         "anchor": "y4",
         "autorange": true,
         "domain": [
          0.4371428571428571,
          0.5628571428571428
         ],
         "matches": "x",
         "range": [
          -15.063439784099858,
          153.28343978409987
         ],
         "title": {
          "text": "Distance (mi)"
         },
         "type": "linear"
        },
        "xaxis5": {
         "anchor": "y5",
         "autorange": true,
         "domain": [
          0.5828571428571427,
          0.7085714285714284
         ],
         "matches": "x",
         "range": [
          -15.063439784099858,
          153.28343978409987
         ],
         "title": {
          "text": "Distance (mi)"
         },
         "type": "linear"
        },
        "xaxis6": {
         "anchor": "y6",
         "autorange": true,
         "domain": [
          0.7285714285714284,
          0.8542857142857141
         ],
         "matches": "x",
         "range": [
          -15.063439784099858,
          153.28343978409987
         ],
         "title": {
          "text": "Distance (mi)"
         },
         "type": "linear"
        },
        "xaxis7": {
         "anchor": "y7",
         "autorange": true,
         "domain": [
          0.8742857142857141,
          0.9999999999999998
         ],
         "matches": "x",
         "range": [
          -15.063439784099858,
          153.28343978409987
         ],
         "title": {
          "text": "Distance (mi)"
         },
         "type": "linear"
        },
        "yaxis": {
         "anchor": "x",
         "autorange": true,
         "domain": [
          0,
          1
         ],
         "range": [
          -905.3711479028698,
          13148.15114790287
         ],
         "title": {
          "text": "Elevation Gain (ft)"
         },
         "type": "linear"
        },
        "yaxis2": {
         "anchor": "x2",
         "autorange": true,
         "domain": [
          0,
          1
         ],
         "matches": "y",
         "range": [
          -905.3711479028698,
          13148.15114790287
         ],
         "showticklabels": false,
         "type": "linear"
        },
        "yaxis3": {
         "anchor": "x3",
         "autorange": true,
         "domain": [
          0,
          1
         ],
         "matches": "y",
         "range": [
          -905.3711479028698,
          13148.15114790287
         ],
         "showticklabels": false,
         "type": "linear"
        },
        "yaxis4": {
         "anchor": "x4",
         "autorange": true,
         "domain": [
          0,
          1
         ],
         "matches": "y",
         "range": [
          -905.3711479028698,
          13148.15114790287
         ],
         "showticklabels": false,
         "type": "linear"
        },
        "yaxis5": {
         "anchor": "x5",
         "autorange": true,
         "domain": [
          0,
          1
         ],
         "matches": "y",
         "range": [
          -905.3711479028698,
          13148.15114790287
         ],
         "showticklabels": false,
         "type": "linear"
        },
        "yaxis6": {
         "anchor": "x6",
         "autorange": true,
         "domain": [
          0,
          1
         ],
         "matches": "y",
         "range": [
          -905.3711479028698,
          13148.15114790287
         ],
         "showticklabels": false,
         "type": "linear"
        },
        "yaxis7": {
         "anchor": "x7",
         "autorange": true,
         "domain": [
          0,
          1
         ],
         "matches": "y",
         "range": [
          -905.3711479028698,
          13148.15114790287
         ],
         "showticklabels": false,
         "type": "linear"
        }
       }
      },
      "image/png": "[encoded data removed]",
      "text/html": [
       "<div>                            <div id=\"3096a937-e748-49f5-8b72-2f90bab45b7a\" class=\"plotly-graph-div\" style=\"height:300px; width:1000px;\"></div>            <script type=\"text/javascript\">                require([\"plotly\"], function(Plotly) {                    window.PLOTLYENV=window.PLOTLYENV || {};                                    if (document.getElementById(\"3096a937-e748-49f5-8b72-2f90bab45b7a\")) {                    Plotly.newPlot(                        \"3096a937-e748-49f5-8b72-2f90bab45b7a\",                        [{\"hovertemplate\":\"Days=Thursday\\u003cbr\\u003eDistance (mi)=%{x}\\u003cbr\\u003eElevation Gain (ft)=%{y}\\u003cbr\\u003eAverage Heartrate (bpm)=%{marker.color}\\u003cextra\\u003e\\u003c\\u002fextra\\u003e\",\"legendgroup\":\"\",\"marker\":{\"color\":[null,null,null,null,null,null,143.8,143.7,153.1,163.1,153.5,152.9,157.3,null,159.8,156.3,132.8,124.0,101.7,152.3,null,null,null,null,null,null,null,138.4,137.1,133.8,null,null,146.3,118.3,131.1,127.8,120.5,106.3,141.8,null,151.0,null,154.9,161.7,143.5,154.7,160.2,158.5,140.0,155.7,145.2,null,null,null,null,null,null,null,null,null,null,null,null,null,null,null,null,null,null,null,null,null,null,null,null,null,null,null,null,null,null,null,null,null,null,null,null,null,145.3,145.1,null,null],\"coloraxis\":\"coloraxis\",\"symbol\":\"circle\"},\"mode\":\"markers\",\"name\":\"\",\"orientation\":\"v\",\"showlegend\":false,\"x\":[28.91,29.13,27.62,22.53,21.21,26.66,45.41,13.74,55.96,71.08,45.35,28.99,78.78,24.01,10.61,44.56,29.71,20.17,0.35,25.33,11.92,1.84,20.51,30.8,20.53,28.34,18.02,27.59,25.52,31.05,18.25,54.79,19.56,21.0,22.83,20.73,14.26,18.59,26.43,27.09,26.07,1.84,56.67,33.92,30.87,39.88,20.77,47.03,19.36,29.91,29.31,17.53,16.73,49.55,66.41,25.86,28.27,38.02,57.92,18.77,20.26,19.66,16.69,121.98,0.14,32.68,16.89,11.97,10.54,41.97,6.21,13.24,3.87,15.16,50.64,15.71,12.44,26.61,22.33,18.12,15.63,19.47,1.7,45.61,70.96,29.77,63.99,23.89,47.02,23.35,15.79,17.07],\"xaxis\":\"x\",\"y\":[2791.99,2103.02,1374.67,1381.23,1151.57,2263.78,5908.79,1758.53,4064.96,4137.14,3238.19,3336.61,8375.98,2234.25,731.63,4583.33,843.18,1463.25,318.24,2152.23,505.25,192.26,1761.81,2667.32,1988.19,1167.98,1971.78,2021.0,2086.61,2227.69,1328.74,5206.69,1341.86,459.32,1223.75,1164.7,344.49,1325.46,2627.95,2819.55,2299.87,160.76,3832.02,3480.97,2024.28,2952.76,1860.24,4281.5,1407.48,2427.82,2322.83,908.79,1069.55,4776.9,5108.27,1364.83,2217.85,3622.05,5236.22,1381.23,866.14,2329.4,1089.24,2539.37,127.95,3822.18,1046.59,816.93,1420.6,4245.41,328.08,521.65,170.6,1145.01,2726.38,1108.92,666.01,2516.4,1922.57,728.35,1253.28,1473.1,6.56,2536.09,4272.64,1758.53,5147.64,2007.87,3188.98,1492.78,1328.74,948.49],\"yaxis\":\"y\",\"type\":\"scatter\"},{\"hovertemplate\":\"Days=Wednesday\\u003cbr\\u003eDistance (mi)=%{x}\\u003cbr\\u003eElevation Gain (ft)=%{y}\\u003cbr\\u003eAverage Heartrate (bpm)=%{marker.color}\\u003cextra\\u003e\\u003c\\u002fextra\\u003e\",\"legendgroup\":\"\",\"marker\":{\"color\":[null,125.9,null,137.0,158.2,132.2,136.5,144.8,null,126.4,143.0,138.9,146.7,null,146.7,156.6,171.1,124.9,null,null,null,null,149.6,136.7,158.1,null,142.9,159.3,132.5,134.3,144.1,147.3,144.5,152.9,null,null,147.0,155.2,153.2,null,130.4,151.8,152.0,null,155.2,148.5,151.0,146.0,145.9,148.7,null,null,null,null,null,null,null,null,null,null,null,null,null,null,null,null,null,null,null,null,null,null,null,null,null,156.5,null,null],\"coloraxis\":\"coloraxis\",\"symbol\":\"circle\"},\"mode\":\"markers\",\"name\":\"\",\"orientation\":\"v\",\"showlegend\":false,\"x\":[24.29,27.42,21.89,53.38,29.79,57.3,57.12,54.2,8.27,21.38,110.33,36.8,30.53,19.83,35.66,66.4,5.2,38.63,31.37,27.76,20.61,27.27,29.26,30.55,25.12,29.13,28.34,52.46,26.13,26.35,42.16,37.05,32.73,32.43,1.19,23.0,9.94,34.56,29.34,35.23,41.9,29.52,82.29,43.18,23.74,27.7,21.58,31.65,23.94,44.87,20.08,24.67,25.86,23.81,49.19,58.29,14.33,30.9,24.71,15.44,24.62,57.09,4.53,17.48,20.09,13.7,29.79,18.5,19.81,1.77,28.6,65.55,39.17,23.24,71.75,40.47,73.37,10.4],\"xaxis\":\"x2\",\"y\":[2654.2,1499.34,1502.62,4350.39,4796.59,5213.25,5009.84,3024.93,2351.71,1853.67,4153.87,2496.72,3208.66,2273.62,4609.58,5203.41,173.88,505.25,2634.51,1932.41,2791.99,2021.0,2578.74,2296.59,2053.81,2408.14,2073.49,4849.08,2339.24,2158.79,2798.56,3090.55,2181.76,2703.41,295.93,2611.55,728.35,2929.79,2463.91,3051.18,1853.67,2260.5,8426.51,3822.18,1620.73,1912.73,1702.76,2650.92,2312.99,4025.59,11562.34,1692.91,2076.77,2096.46,3805.77,5475.72,1620.73,2500.0,2542.65,2326.12,2080.05,3192.26,280.18,2201.44,2106.3,771.0,1873.36,1679.79,1473.1,318.24,3057.74,5715.22,2624.67,1692.91,4208.33,3267.72,4438.32,484.25],\"yaxis\":\"y2\",\"type\":\"scatter\"},{\"hovertemplate\":\"Days=Tuesday\\u003cbr\\u003eDistance (mi)=%{x}\\u003cbr\\u003eElevation Gain (ft)=%{y}\\u003cbr\\u003eAverage Heartrate (bpm)=%{marker.color}\\u003cextra\\u003e\\u003c\\u002fextra\\u003e\",\"legendgroup\":\"\",\"marker\":{\"color\":[null,149.0,145.7,149.8,130.8,166.3,162.3,148.0,121.8,null,135.1,94.3,153.8,156.8,141.7,139.6,152.1,157.2,139.4,155.5,141.4,156.7,112.1,136.8,158.0,108.6,null,null,null,null,140.7,null,139.1,152.0,null,149.4,null,174.3,null,null,null,null,143.0,157.7,null,null,134.5,153.5,136.2,null,145.3,null,157.5,null,150.2,139.7,154.8,null,null,null,null,null,null,null,null,null,null,null,null,null,null,null,null,null,null,null,null,null,null,null,null,null,null,null,null,null,null,null,null,null,null,null,null,null,null,null,null,null,null,150.8,null,null,165.8,159.3,null],\"coloraxis\":\"coloraxis\",\"symbol\":\"circle\"},\"mode\":\"markers\",\"name\":\"\",\"orientation\":\"v\",\"showlegend\":false,\"x\":[17.59,61.32,60.86,61.34,40.7,13.55,21.46,56.11,28.19,83.68,30.72,37.53,53.69,34.17,67.17,29.76,23.14,97.47,22.99,88.67,18.6,51.68,3.41,29.08,2.05,35.75,47.06,30.44,45.69,13.65,37.89,15.74,26.06,32.32,18.29,30.15,2.21,3.82,22.2,15.55,13.39,4.14,63.97,33.47,11.1,15.22,18.52,31.25,19.99,18.66,18.13,7.77,20.01,25.95,22.24,41.36,38.66,31.0,14.49,20.08,66.8,53.94,40.6,31.11,24.29,30.91,51.08,28.39,13.28,13.43,25.73,36.74,12.38,61.8,2.86,17.93,19.1,8.84,90.13,11.3,14.6,30.36,8.4,16.91,22.37,11.16,16.92,15.57,18.19,24.72,52.41,15.6,17.63,29.54,10.55,34.25,13.22,20.62,15.56,20.69,23.18,30.03,28.89,60.21,66.75],\"xaxis\":\"x3\",\"y\":[1863.52,2208.01,2208.01,2152.23,3057.74,1653.54,3953.41,5492.13,1584.65,2290.03,2162.07,695.54,4399.61,2385.17,8185.7,2230.97,2795.28,10127.95,2270.34,8175.85,1446.85,2421.26,229.66,1473.1,118.11,2673.88,3809.06,2401.57,3871.39,334.65,429.79,636.48,1522.31,2332.68,1302.49,2454.07,16.08,207.35,2309.71,536.75,1200.79,206.69,4143.7,4064.96,1666.67,383.86,1387.8,2480.32,1827.43,1361.55,1354.99,262.47,1095.8,1935.7,1345.14,3083.99,3077.43,2549.21,616.8,1427.17,4527.56,4458.66,3244.75,2509.51,1781.5,2349.08,4645.67,4429.13,856.3,236.22,2690.29,3408.79,1473.1,4028.87,203.41,2522.97,2106.3,439.63,9783.46,629.92,1725.72,4186.35,846.46,1233.6,1935.7,1128.61,1148.29,2529.53,1276.25,1907.81,4209.32,1400.92,1430.45,2296.59,456.04,2424.54,915.35,1345.14,882.55,1804.46,1781.5,2050.52,2247.38,3887.8,5267.72],\"yaxis\":\"y3\",\"type\":\"scatter\"},{\"hovertemplate\":\"Days=Saturday\\u003cbr\\u003eDistance (mi)=%{x}\\u003cbr\\u003eElevation Gain (ft)=%{y}\\u003cbr\\u003eAverage Heartrate (bpm)=%{marker.color}\\u003cextra\\u003e\\u003c\\u002fextra\\u003e\",\"legendgroup\":\"\",\"marker\":{\"color\":[155.1,154.0,157.1,154.7,151.8,148.9,153.0,null,143.8,143.4,152.5,158.7,150.0,139.7,139.5,null,null,156.7,148.2,145.3,162.2,165.5,153.3,154.7,165.8,156.8,158.3,139.6,164.5,154.2,null,152.3,159.0,165.7,149.7,118.7,169.0,null,null,null,null,156.1,162.3,154.3,126.3,158.3,121.2,151.9,145.3,156.4,152.6,157.7,156.0,144.6,null,152.0,131.5,151.0,null,152.0,null,145.8,166.5,148.6,159.6,167.2,164.6,155.7,170.2,156.0,156.9,null,160.3,155.4,null,175.8,133.6,143.3,150.6,160.2,153.6,157.2,null,null,null,null,null,null,null,null,null,null,null,null,null,null,null,null,null,null,null,null,null,null,null,null,null,null,null,null,null,null,null,null,null,null,null,null,null,null,null,null,null,null,null,null,null,null,null,null,null,null,null,null,null,null,163.2,null,null,null,null,null,null,null,null,null,null,null,null,null,null,null,null,null,173.0,null,null,null,null,null,null],\"coloraxis\":\"coloraxis\",\"symbol\":\"circle\"},\"mode\":\"markers\",\"name\":\"\",\"orientation\":\"v\",\"showlegend\":false,\"x\":[73.79,86.91,89.38,84.34,80.31,114.02,53.8,5.87,64.2,61.65,82.51,96.1,100.32,123.81,62.77,13.4,13.06,98.07,93.87,138.08,102.48,84.78,82.81,87.73,77.8,45.78,83.53,104.62,43.51,40.46,22.03,64.82,68.96,67.51,16.65,12.84,7.43,4.17,59.96,49.68,24.71,79.63,76.72,91.95,26.36,56.08,64.33,31.21,72.36,17.79,22.63,97.83,107.11,95.51,22.07,100.15,25.51,75.81,16.42,57.1,20.51,24.12,54.73,113.16,80.64,61.17,38.85,134.77,43.52,67.01,54.13,69.77,100.89,34.61,64.29,24.85,52.41,23.52,15.54,61.86,91.16,73.58,6.74,13.36,18.65,23.09,34.46,21.86,6.43,49.72,31.12,71.95,14.44,86.62,4.75,17.21,9.12,93.63,68.55,82.43,42.55,35.1,105.31,29.61,24.31,71.44,73.01,89.97,25.19,39.32,2.89,10.25,14.06,25.29,62.9,7.77,42.62,29.86,76.73,30.16,82.94,25.99,18.59,77.15,74.1,63.49,22.54,34.22,39.34,76.91,22.34,19.32,17.35,27.6,21.32,64.32,57.49,101.8,81.91,38.26,37.8,9.83,33.97,21.35,36.59,69.35,24.06,21.79,28.79,75.49,42.96,5.6,54.84,11.31,9.9,46.0,19.52,51.52,32.96,19.73,22.2],\"xaxis\":\"x4\",\"y\":[6893.04,7306.43,8484.25,6286.09,4757.22,9963.25,6476.38,396.98,9317.59,7378.61,6332.02,7660.76,5114.83,6515.75,5265.75,6.56,5075.46,7119.42,10108.27,10301.84,2883.86,2657.48,6627.3,7506.56,5396.98,4901.57,8651.58,5098.43,1948.82,3740.16,2316.27,2887.14,4186.35,6161.42,219.82,3467.85,531.5,458.66,3717.19,4169.95,2591.86,5767.72,4599.74,6804.46,2450.79,1738.85,5255.91,3458.01,8723.75,403.54,1827.43,11076.12,11532.15,4498.03,2224.41,7066.93,3149.61,5705.38,2513.12,3769.69,2230.97,1476.38,4481.63,11033.46,5823.49,4071.52,3435.04,11131.89,2030.84,2811.68,4448.82,6440.29,8428.48,3907.48,7076.77,2939.63,4406.17,748.03,429.79,6148.29,9032.15,8090.55,344.49,977.69,12242.78,2224.41,1167.98,1227.03,485.56,5898.95,1699.48,5505.25,259.19,6295.93,104.99,1197.51,544.62,7844.49,5905.51,5813.65,2073.49,4281.5,9120.74,2043.96,2273.62,3569.55,6837.27,2066.93,3156.17,3126.64,153.54,715.22,1036.75,2834.65,6440.29,0.0,2959.32,3005.25,9744.09,4235.56,7680.45,1617.45,1279.53,8887.8,7719.82,3172.57,2473.75,2368.77,3914.04,5495.41,1236.88,3044.62,1174.54,2129.27,1610.89,6437.01,6509.19,6794.62,6528.87,3208.66,3143.04,675.85,2237.53,2319.55,2657.48,6128.61,1692.91,2260.5,1961.94,5452.76,2972.44,2165.35,3353.02,482.28,357.61,3534.12,580.71,2534.45,2132.55,1157.15,1054.13],\"yaxis\":\"y4\",\"type\":\"scatter\"},{\"hovertemplate\":\"Days=Friday\\u003cbr\\u003eDistance (mi)=%{x}\\u003cbr\\u003eElevation Gain (ft)=%{y}\\u003cbr\\u003eAverage Heartrate (bpm)=%{marker.color}\\u003cextra\\u003e\\u003c\\u002fextra\\u003e\",\"legendgroup\":\"\",\"marker\":{\"color\":[null,null,null,null,128.1,127.5,null,148.2,155.7,149.4,144.0,136.3,174.9,130.0,156.3,null,148.4,null,null,148.6,143.2,159.3,165.9,155.1,144.4,null,166.8,99.5,null,null,null,null,null,null,null,null,null,null,null,null,155.6,144.4,149.7,null,143.3,null,157.0,140.5,108.5,142.7,117.1,143.7,134.2,146.9,null,161.5,124.2,null,null,134.3,null,null,155.4,138.3,null,134.2,155.0,null,null,null,null,null,null,null,null,131.2,null,null,null,null,null,null,null,null,null,null,null,null,null,null,null,null,null,null,null,null,null,null,null,null,null,160.5,null,152.8,null,null,null,null,null,null,null,null,null,null,null,null,null,null,null,null,null,153.0,141.1],\"coloraxis\":\"coloraxis\",\"symbol\":\"circle\"},\"mode\":\"markers\",\"name\":\"\",\"orientation\":\"v\",\"showlegend\":false,\"x\":[5.84,5.79,11.08,22.84,21.6,53.54,17.89,31.39,40.08,62.03,75.38,29.25,22.34,34.88,26.75,12.72,33.33,16.18,32.87,27.19,36.69,4.7,8.09,24.97,23.19,23.33,5.36,13.64,2.11,91.67,2.9,25.74,29.47,19.34,11.46,11.13,27.93,25.89,32.77,20.85,31.45,23.42,21.24,26.54,23.73,2.11,21.02,29.16,11.61,30.59,24.58,33.4,26.26,21.83,17.05,33.86,40.34,15.62,15.89,16.9,11.09,23.28,35.32,14.05,10.34,12.15,31.19,40.53,9.18,1.95,1.54,1.67,13.26,9.31,14.3,9.39,17.05,19.65,57.97,13.37,10.06,1.69,26.25,21.23,1.57,27.55,27.51,14.02,19.33,14.57,9.29,34.85,31.48,22.88,31.15,33.42,53.42,19.93,17.25,25.45,17.71,3.82,3.3,19.94,27.21,15.32,9.53,62.1,16.93,11.25,18.14,13.03,14.36,75.05,20.0,2.56,4.14,20.96,16.83,51.72,72.3,71.1,33.1],\"xaxis\":\"x5\",\"y\":[226.38,177.17,1437.01,1213.91,1354.99,5725.07,1279.53,3015.09,4097.77,3727.03,3261.15,2874.02,1377.95,2588.58,2621.39,505.25,3835.3,1207.35,3310.37,2814.96,3881.23,187.01,784.12,2595.14,2339.24,1532.15,160.76,892.39,196.85,9022.31,9.84,2585.3,2398.29,1328.74,374.02,380.58,1738.85,1886.48,2831.36,1578.08,2696.85,1190.94,2572.18,554.46,1617.45,12.8,423.23,2552.49,495.41,2244.09,367.45,1791.34,459.32,1879.92,2536.09,3202.1,3179.13,1076.12,1125.33,1033.46,314.96,1519.03,2706.69,688.98,334.65,492.13,2847.77,3303.81,439.63,19.69,137.8,9.84,616.8,305.12,600.39,396.98,505.25,1095.8,5462.6,9040.35,377.3,170.6,337.93,692.26,157.48,1811.02,1263.12,590.55,1236.88,738.19,741.47,3231.63,2808.4,1272.97,2765.75,2775.59,3566.27,1935.7,774.28,1814.3,679.13,34.12,0.0,2109.58,3375.98,1722.44,652.89,3543.31,1404.2,1190.94,902.23,590.55,1108.92,7030.84,1679.79,124.02,177.17,1499.34,1158.14,4340.55,7063.65,3720.47,3215.22],\"yaxis\":\"y5\",\"type\":\"scatter\"},{\"hovertemplate\":\"Days=Sunday\\u003cbr\\u003eDistance (mi)=%{x}\\u003cbr\\u003eElevation Gain (ft)=%{y}\\u003cbr\\u003eAverage Heartrate (bpm)=%{marker.color}\\u003cextra\\u003e\\u003c\\u002fextra\\u003e\",\"legendgroup\":\"\",\"marker\":{\"color\":[130.6,151.7,132.1,121.5,144.2,121.0,null,null,143.6,154.5,152.3,157.8,145.3,141.8,null,null,182.1,155.8,108.1,151.4,159.0,107.6,110.9,167.3,121.1,null,null,null,null,null,114.4,155.6,null,null,169.7,170.9,null,134.4,142.1,114.9,null,null,null,172.2,122.6,147.0,115.8,152.5,180.5,179.4,null,111.7,147.9,177.4,179.2,151.3,null,null,136.9,136.3,null,null,null,null,null,null,null,null,null,null,null,null,null,null,null,null,null,null,null,null,null,null,null,null,null,null,null,null,null,null,null,null,null,135.0,null,null,null,null,null,null,null,null],\"coloraxis\":\"coloraxis\",\"symbol\":\"circle\"},\"mode\":\"markers\",\"name\":\"\",\"orientation\":\"v\",\"showlegend\":false,\"x\":[31.66,45.24,45.43,24.78,42.8,26.39,93.48,18.75,10.2,104.04,54.49,125.25,38.09,101.78,17.19,17.04,13.15,27.21,9.73,36.45,11.24,61.22,11.09,5.64,22.16,29.18,92.13,45.09,68.1,45.4,120.7,60.61,47.75,14.71,70.85,35.52,7.33,28.75,26.33,24.87,6.47,1.71,19.79,18.81,10.76,33.73,30.14,41.24,12.05,16.52,14.89,32.3,24.91,14.43,10.15,55.31,11.32,11.94,20.95,26.68,24.12,33.49,50.71,59.2,14.61,31.77,33.48,32.25,25.1,41.3,35.33,19.6,36.77,24.19,6.81,57.1,14.07,3.12,24.84,18.26,21.52,22.34,18.11,30.6,14.92,38.99,6.52,18.36,53.54,17.26,64.06,24.07,46.9,12.6,17.87,20.22,45.26,24.73,26.81,22.87,26.87,17.12],\"xaxis\":\"x6\",\"y\":[3674.54,4422.57,5236.22,2680.45,2500.0,1213.91,8333.33,1683.07,2263.78,4471.78,2165.35,10262.47,2936.35,7017.72,305.12,360.89,232.94,3339.9,2627.95,3277.56,403.54,5265.75,583.99,291.99,997.38,2808.4,9343.83,3438.32,5846.46,3300.53,5298.56,4790.03,3343.18,2414.7,4005.91,10072.18,157.48,2493.44,1942.26,1706.04,246.06,155.84,1479.66,488.85,265.75,2060.37,557.74,3195.54,337.93,472.44,1345.14,2647.64,2103.02,577.43,255.91,4232.28,390.42,426.51,1988.19,2001.31,2221.13,3097.11,3927.17,4041.99,597.11,2135.83,2083.33,3179.13,1994.75,3034.78,3471.13,557.74,3044.62,1322.18,638.45,4698.16,1643.7,172.57,2158.79,1624.02,2103.02,1282.81,882.55,2365.49,577.43,2496.72,538.06,557.74,2808.4,1108.92,6663.39,994.09,2896.98,1551.84,976.38,780.84,2535.76,1143.04,1689.96,1117.78,1674.54,1077.76],\"yaxis\":\"y6\",\"type\":\"scatter\"},{\"hovertemplate\":\"Days=Monday\\u003cbr\\u003eDistance (mi)=%{x}\\u003cbr\\u003eElevation Gain (ft)=%{y}\\u003cbr\\u003eAverage Heartrate (bpm)=%{marker.color}\\u003cextra\\u003e\\u003c\\u002fextra\\u003e\",\"legendgroup\":\"\",\"marker\":{\"color\":[125.6,154.4,137.0,null,151.4,151.3,160.9,156.6,null,158.5,137.1,170.1,null,null,null,124.1,null,null,null,114.1,150.1,153.6,159.3,142.7,163.9,153.8,null,null,null,null,50.0,null,null,null,null,null,null,null,null,null,null,null,null,null,null,null,null,null,null,null,null,null,null,null,null,156.6,null],\"coloraxis\":\"coloraxis\",\"symbol\":\"circle\"},\"mode\":\"markers\",\"name\":\"\",\"orientation\":\"v\",\"showlegend\":false,\"x\":[35.95,64.21,62.11,6.16,93.95,92.38,71.11,30.88,54.88,112.44,30.94,4.78,1.72,17.16,31.78,24.49,3.23,5.22,43.31,18.46,38.47,9.36,44.68,18.61,36.24,18.98,18.53,18.21,12.54,39.68,0.18,82.18,55.76,18.05,30.49,18.58,45.06,20.66,20.27,27.72,12.56,22.3,29.37,34.04,60.64,8.08,18.01,10.47,65.71,71.9,71.86,22.69,100.13,20.68,13.2,34.44,26.97],\"xaxis\":\"x7\",\"y\":[4041.99,5065.62,5462.6,167.32,2224.41,4714.57,4294.62,4307.74,3576.12,10032.81,2500.0,223.1,191.93,874.02,3763.12,2788.71,92.52,841.86,3143.04,1295.93,4724.41,1630.58,3169.29,1282.81,2427.82,1400.92,872.7,1338.58,7294.62,3202.1,0.0,10328.08,4691.6,1299.21,1975.07,3385.83,5606.96,2053.81,1404.2,4078.08,669.29,3008.53,4107.61,2083.33,6305.77,3882.87,1181.1,990.81,5541.34,4332.35,4310.04,1650.26,5482.28,1227.03,721.78,1699.48,1845.8],\"yaxis\":\"y7\",\"type\":\"scatter\"}],                        {\"template\":{\"data\":{\"histogram2dcontour\":[{\"type\":\"histogram2dcontour\",\"colorbar\":{\"outlinewidth\":0,\"ticks\":\"\"},\"colorscale\":[[0.0,\"#0d0887\"],[0.1111111111111111,\"#46039f\"],[0.2222222222222222,\"#7201a8\"],[0.3333333333333333,\"#9c179e\"],[0.4444444444444444,\"#bd3786\"],[0.5555555555555556,\"#d8576b\"],[0.6666666666666666,\"#ed7953\"],[0.7777777777777778,\"#fb9f3a\"],[0.8888888888888888,\"#fdca26\"],[1.0,\"#f0f921\"]]}],\"choropleth\":[{\"type\":\"choropleth\",\"colorbar\":{\"outlinewidth\":0,\"ticks\":\"\"}}],\"histogram2d\":[{\"type\":\"histogram2d\",\"colorbar\":{\"outlinewidth\":0,\"ticks\":\"\"},\"colorscale\":[[0.0,\"#0d0887\"],[0.1111111111111111,\"#46039f\"],[0.2222222222222222,\"#7201a8\"],[0.3333333333333333,\"#9c179e\"],[0.4444444444444444,\"#bd3786\"],[0.5555555555555556,\"#d8576b\"],[0.6666666666666666,\"#ed7953\"],[0.7777777777777778,\"#fb9f3a\"],[0.8888888888888888,\"#fdca26\"],[1.0,\"#f0f921\"]]}],\"heatmap\":[{\"type\":\"heatmap\",\"colorbar\":{\"outlinewidth\":0,\"ticks\":\"\"},\"colorscale\":[[0.0,\"#0d0887\"],[0.1111111111111111,\"#46039f\"],[0.2222222222222222,\"#7201a8\"],[0.3333333333333333,\"#9c179e\"],[0.4444444444444444,\"#bd3786\"],[0.5555555555555556,\"#d8576b\"],[0.6666666666666666,\"#ed7953\"],[0.7777777777777778,\"#fb9f3a\"],[0.8888888888888888,\"#fdca26\"],[1.0,\"#f0f921\"]]}],\"heatmapgl\":[{\"type\":\"heatmapgl\",\"colorbar\":{\"outlinewidth\":0,\"ticks\":\"\"},\"colorscale\":[[0.0,\"#0d0887\"],[0.1111111111111111,\"#46039f\"],[0.2222222222222222,\"#7201a8\"],[0.3333333333333333,\"#9c179e\"],[0.4444444444444444,\"#bd3786\"],[0.5555555555555556,\"#d8576b\"],[0.6666666666666666,\"#ed7953\"],[0.7777777777777778,\"#fb9f3a\"],[0.8888888888888888,\"#fdca26\"],[1.0,\"#f0f921\"]]}],\"contourcarpet\":[{\"type\":\"contourcarpet\",\"colorbar\":{\"outlinewidth\":0,\"ticks\":\"\"}}],\"contour\":[{\"type\":\"contour\",\"colorbar\":{\"outlinewidth\":0,\"ticks\":\"\"},\"colorscale\":[[0.0,\"#0d0887\"],[0.1111111111111111,\"#46039f\"],[0.2222222222222222,\"#7201a8\"],[0.3333333333333333,\"#9c179e\"],[0.4444444444444444,\"#bd3786\"],[0.5555555555555556,\"#d8576b\"],[0.6666666666666666,\"#ed7953\"],[0.7777777777777778,\"#fb9f3a\"],[0.8888888888888888,\"#fdca26\"],[1.0,\"#f0f921\"]]}],\"surface\":[{\"type\":\"surface\",\"colorbar\":{\"outlinewidth\":0,\"ticks\":\"\"},\"colorscale\":[[0.0,\"#0d0887\"],[0.1111111111111111,\"#46039f\"],[0.2222222222222222,\"#7201a8\"],[0.3333333333333333,\"#9c179e\"],[0.4444444444444444,\"#bd3786\"],[0.5555555555555556,\"#d8576b\"],[0.6666666666666666,\"#ed7953\"],[0.7777777777777778,\"#fb9f3a\"],[0.8888888888888888,\"#fdca26\"],[1.0,\"#f0f921\"]]}],\"mesh3d\":[{\"type\":\"mesh3d\",\"colorbar\":{\"outlinewidth\":0,\"ticks\":\"\"}}],\"scatter\":[{\"fillpattern\":{\"fillmode\":\"overlay\",\"size\":10,\"solidity\":0.2},\"type\":\"scatter\"}],\"parcoords\":[{\"type\":\"parcoords\",\"line\":{\"colorbar\":{\"outlinewidth\":0,\"ticks\":\"\"}}}],\"scatterpolargl\":[{\"type\":\"scatterpolargl\",\"marker\":{\"colorbar\":{\"outlinewidth\":0,\"ticks\":\"\"}}}],\"bar\":[{\"error_x\":{\"color\":\"#2a3f5f\"},\"error_y\":{\"color\":\"#2a3f5f\"},\"marker\":{\"line\":{\"color\":\"#E5ECF6\",\"width\":0.5},\"pattern\":{\"fillmode\":\"overlay\",\"size\":10,\"solidity\":0.2}},\"type\":\"bar\"}],\"scattergeo\":[{\"type\":\"scattergeo\",\"marker\":{\"colorbar\":{\"outlinewidth\":0,\"ticks\":\"\"}}}],\"scatterpolar\":[{\"type\":\"scatterpolar\",\"marker\":{\"colorbar\":{\"outlinewidth\":0,\"ticks\":\"\"}}}],\"histogram\":[{\"marker\":{\"pattern\":{\"fillmode\":\"overlay\",\"size\":10,\"solidity\":0.2}},\"type\":\"histogram\"}],\"scattergl\":[{\"type\":\"scattergl\",\"marker\":{\"colorbar\":{\"outlinewidth\":0,\"ticks\":\"\"}}}],\"scatter3d\":[{\"type\":\"scatter3d\",\"line\":{\"colorbar\":{\"outlinewidth\":0,\"ticks\":\"\"}},\"marker\":{\"colorbar\":{\"outlinewidth\":0,\"ticks\":\"\"}}}],\"scattermapbox\":[{\"type\":\"scattermapbox\",\"marker\":{\"colorbar\":{\"outlinewidth\":0,\"ticks\":\"\"}}}],\"scatterternary\":[{\"type\":\"scatterternary\",\"marker\":{\"colorbar\":{\"outlinewidth\":0,\"ticks\":\"\"}}}],\"scattercarpet\":[{\"type\":\"scattercarpet\",\"marker\":{\"colorbar\":{\"outlinewidth\":0,\"ticks\":\"\"}}}],\"carpet\":[{\"aaxis\":{\"endlinecolor\":\"#2a3f5f\",\"gridcolor\":\"white\",\"linecolor\":\"white\",\"minorgridcolor\":\"white\",\"startlinecolor\":\"#2a3f5f\"},\"baxis\":{\"endlinecolor\":\"#2a3f5f\",\"gridcolor\":\"white\",\"linecolor\":\"white\",\"minorgridcolor\":\"white\",\"startlinecolor\":\"#2a3f5f\"},\"type\":\"carpet\"}],\"table\":[{\"cells\":{\"fill\":{\"color\":\"#EBF0F8\"},\"line\":{\"color\":\"white\"}},\"header\":{\"fill\":{\"color\":\"#C8D4E3\"},\"line\":{\"color\":\"white\"}},\"type\":\"table\"}],\"barpolar\":[{\"marker\":{\"line\":{\"color\":\"#E5ECF6\",\"width\":0.5},\"pattern\":{\"fillmode\":\"overlay\",\"size\":10,\"solidity\":0.2}},\"type\":\"barpolar\"}],\"pie\":[{\"automargin\":true,\"type\":\"pie\"}]},\"layout\":{\"autotypenumbers\":\"strict\",\"colorway\":[\"#636efa\",\"#EF553B\",\"#00cc96\",\"#ab63fa\",\"#FFA15A\",\"#19d3f3\",\"#FF6692\",\"#B6E880\",\"#FF97FF\",\"#FECB52\"],\"font\":{\"color\":\"#2a3f5f\"},\"hovermode\":\"closest\",\"hoverlabel\":{\"align\":\"left\"},\"paper_bgcolor\":\"white\",\"plot_bgcolor\":\"#E5ECF6\",\"polar\":{\"bgcolor\":\"#E5ECF6\",\"angularaxis\":{\"gridcolor\":\"white\",\"linecolor\":\"white\",\"ticks\":\"\"},\"radialaxis\":{\"gridcolor\":\"white\",\"linecolor\":\"white\",\"ticks\":\"\"}},\"ternary\":{\"bgcolor\":\"#E5ECF6\",\"aaxis\":{\"gridcolor\":\"white\",\"linecolor\":\"white\",\"ticks\":\"\"},\"baxis\":{\"gridcolor\":\"white\",\"linecolor\":\"white\",\"ticks\":\"\"},\"caxis\":{\"gridcolor\":\"white\",\"linecolor\":\"white\",\"ticks\":\"\"}},\"coloraxis\":{\"colorbar\":{\"outlinewidth\":0,\"ticks\":\"\"}},\"colorscale\":{\"sequential\":[[0.0,\"#0d0887\"],[0.1111111111111111,\"#46039f\"],[0.2222222222222222,\"#7201a8\"],[0.3333333333333333,\"#9c179e\"],[0.4444444444444444,\"#bd3786\"],[0.5555555555555556,\"#d8576b\"],[0.6666666666666666,\"#ed7953\"],[0.7777777777777778,\"#fb9f3a\"],[0.8888888888888888,\"#fdca26\"],[1.0,\"#f0f921\"]],\"sequentialminus\":[[0.0,\"#0d0887\"],[0.1111111111111111,\"#46039f\"],[0.2222222222222222,\"#7201a8\"],[0.3333333333333333,\"#9c179e\"],[0.4444444444444444,\"#bd3786\"],[0.5555555555555556,\"#d8576b\"],[0.6666666666666666,\"#ed7953\"],[0.7777777777777778,\"#fb9f3a\"],[0.8888888888888888,\"#fdca26\"],[1.0,\"#f0f921\"]],\"diverging\":[[0,\"#8e0152\"],[0.1,\"#c51b7d\"],[0.2,\"#de77ae\"],[0.3,\"#f1b6da\"],[0.4,\"#fde0ef\"],[0.5,\"#f7f7f7\"],[0.6,\"#e6f5d0\"],[0.7,\"#b8e186\"],[0.8,\"#7fbc41\"],[0.9,\"#4d9221\"],[1,\"#276419\"]]},\"xaxis\":{\"gridcolor\":\"white\",\"linecolor\":\"white\",\"ticks\":\"\",\"title\":{\"standoff\":15},\"zerolinecolor\":\"white\",\"automargin\":true,\"zerolinewidth\":2},\"yaxis\":{\"gridcolor\":\"white\",\"linecolor\":\"white\",\"ticks\":\"\",\"title\":{\"standoff\":15},\"zerolinecolor\":\"white\",\"automargin\":true,\"zerolinewidth\":2},\"scene\":{\"xaxis\":{\"backgroundcolor\":\"#E5ECF6\",\"gridcolor\":\"white\",\"linecolor\":\"white\",\"showbackground\":true,\"ticks\":\"\",\"zerolinecolor\":\"white\",\"gridwidth\":2},\"yaxis\":{\"backgroundcolor\":\"#E5ECF6\",\"gridcolor\":\"white\",\"linecolor\":\"white\",\"showbackground\":true,\"ticks\":\"\",\"zerolinecolor\":\"white\",\"gridwidth\":2},\"zaxis\":{\"backgroundcolor\":\"#E5ECF6\",\"gridcolor\":\"white\",\"linecolor\":\"white\",\"showbackground\":true,\"ticks\":\"\",\"zerolinecolor\":\"white\",\"gridwidth\":2}},\"shapedefaults\":{\"line\":{\"color\":\"#2a3f5f\"}},\"annotationdefaults\":{\"arrowcolor\":\"#2a3f5f\",\"arrowhead\":0,\"arrowwidth\":1},\"geo\":{\"bgcolor\":\"white\",\"landcolor\":\"#E5ECF6\",\"subunitcolor\":\"white\",\"showland\":true,\"showlakes\":true,\"lakecolor\":\"white\"},\"title\":{\"x\":0.05},\"mapbox\":{\"style\":\"light\"}}},\"xaxis\":{\"anchor\":\"y\",\"domain\":[0.0,0.1257142857142857],\"title\":{\"text\":\"Distance (mi)\"}},\"yaxis\":{\"anchor\":\"x\",\"domain\":[0.0,1.0],\"title\":{\"text\":\"Elevation Gain (ft)\"}},\"xaxis2\":{\"anchor\":\"y2\",\"domain\":[0.14571428571428569,0.27142857142857135],\"matches\":\"x\",\"title\":{\"text\":\"Distance (mi)\"}},\"yaxis2\":{\"anchor\":\"x2\",\"domain\":[0.0,1.0],\"matches\":\"y\",\"showticklabels\":false},\"xaxis3\":{\"anchor\":\"y3\",\"domain\":[0.29142857142857137,0.41714285714285704],\"matches\":\"x\",\"title\":{\"text\":\"Distance (mi)\"}},\"yaxis3\":{\"anchor\":\"x3\",\"domain\":[0.0,1.0],\"matches\":\"y\",\"showticklabels\":false},\"xaxis4\":{\"anchor\":\"y4\",\"domain\":[0.4371428571428571,0.5628571428571428],\"matches\":\"x\",\"title\":{\"text\":\"Distance (mi)\"}},\"yaxis4\":{\"anchor\":\"x4\",\"domain\":[0.0,1.0],\"matches\":\"y\",\"showticklabels\":false},\"xaxis5\":{\"anchor\":\"y5\",\"domain\":[0.5828571428571427,0.7085714285714284],\"matches\":\"x\",\"title\":{\"text\":\"Distance (mi)\"}},\"yaxis5\":{\"anchor\":\"x5\",\"domain\":[0.0,1.0],\"matches\":\"y\",\"showticklabels\":false},\"xaxis6\":{\"anchor\":\"y6\",\"domain\":[0.7285714285714284,0.8542857142857141],\"matches\":\"x\",\"title\":{\"text\":\"Distance (mi)\"}},\"yaxis6\":{\"anchor\":\"x6\",\"domain\":[0.0,1.0],\"matches\":\"y\",\"showticklabels\":false},\"xaxis7\":{\"anchor\":\"y7\",\"domain\":[0.8742857142857141,0.9999999999999998],\"matches\":\"x\",\"title\":{\"text\":\"Distance (mi)\"}},\"yaxis7\":{\"anchor\":\"x7\",\"domain\":[0.0,1.0],\"matches\":\"y\",\"showticklabels\":false},\"annotations\":[{\"font\":{},\"showarrow\":false,\"text\":\"Days=Thursday\",\"x\":0.06285714285714285,\"xanchor\":\"center\",\"xref\":\"paper\",\"y\":1.0,\"yanchor\":\"bottom\",\"yref\":\"paper\"},{\"font\":{},\"showarrow\":false,\"text\":\"Days=Wednesday\",\"x\":0.20857142857142852,\"xanchor\":\"center\",\"xref\":\"paper\",\"y\":1.0,\"yanchor\":\"bottom\",\"yref\":\"paper\"},{\"font\":{},\"showarrow\":false,\"text\":\"Days=Tuesday\",\"x\":0.3542857142857142,\"xanchor\":\"center\",\"xref\":\"paper\",\"y\":1.0,\"yanchor\":\"bottom\",\"yref\":\"paper\"},{\"font\":{},\"showarrow\":false,\"text\":\"Days=Saturday\",\"x\":0.5,\"xanchor\":\"center\",\"xref\":\"paper\",\"y\":1.0,\"yanchor\":\"bottom\",\"yref\":\"paper\"},{\"font\":{},\"showarrow\":false,\"text\":\"Days=Friday\",\"x\":0.6457142857142856,\"xanchor\":\"center\",\"xref\":\"paper\",\"y\":1.0,\"yanchor\":\"bottom\",\"yref\":\"paper\"},{\"font\":{},\"showarrow\":false,\"text\":\"Days=Sunday\",\"x\":0.7914285714285713,\"xanchor\":\"center\",\"xref\":\"paper\",\"y\":1.0,\"yanchor\":\"bottom\",\"yref\":\"paper\"},{\"font\":{},\"showarrow\":false,\"text\":\"Days=Monday\",\"x\":0.9371428571428569,\"xanchor\":\"center\",\"xref\":\"paper\",\"y\":1.0,\"yanchor\":\"bottom\",\"yref\":\"paper\"}],\"coloraxis\":{\"colorbar\":{\"title\":{\"text\":\"Average Heartrate (bpm)\"}},\"colorscale\":[[0.0,\"#0d0887\"],[0.1111111111111111,\"#46039f\"],[0.2222222222222222,\"#7201a8\"],[0.3333333333333333,\"#9c179e\"],[0.4444444444444444,\"#bd3786\"],[0.5555555555555556,\"#d8576b\"],[0.6666666666666666,\"#ed7953\"],[0.7777777777777778,\"#fb9f3a\"],[0.8888888888888888,\"#fdca26\"],[1.0,\"#f0f921\"]]},\"legend\":{\"tracegroupgap\":0},\"margin\":{\"t\":0,\"r\":0,\"l\":0,\"b\":0},\"height\":300,\"width\":1000},                        {\"responsive\": true}                    ).then(function(){\n",
       "                            \n",
       "var gd = document.getElementById('3096a937-e748-49f5-8b72-2f90bab45b7a');\n",
       "var x = new MutationObserver(function (mutations, observer) {{\n",
       "        var display = window.getComputedStyle(gd).display;\n",
       "        if (!display || display === 'none') {{\n",
       "            console.log([gd, 'removed!']);\n",
       "            Plotly.purge(gd);\n",
       "            observer.disconnect();\n",
       "        }}\n",
       "}});\n",
       "\n",
       "// Listen for the removal of the full notebook cells\n",
       "var notebookContainer = gd.closest('#notebook-container');\n",
       "if (notebookContainer) {{\n",
       "    x.observe(notebookContainer, {childList: true});\n",
       "}}\n",
       "\n",
       "// Listen for the clearing of the current output cell\n",
       "var outputEl = gd.closest('.output');\n",
       "if (outputEl) {{\n",
       "    x.observe(outputEl, {childList: true});\n",
       "}}\n",
       "\n",
       "                        })                };                });            </script>        </div>"
      ]
     },
     "metadata": {},
     "output_type": "display_data"
    }
   ],
   "source": [
    "fig = px.scatter(data_frame = df,\n",
    "                 x = \"Distance (mi)\",\n",
    "                 y = \"Elevation Gain (ft)\",\n",
    "                 color = \"Average Heartrate (bpm)\",\n",
    "                 width = 1000,\n",
    "                 height = 300,\n",
    "                facet_col=\"Days\"\n",
    "                )\n",
    "\n",
    "#reduce whitespace\n",
    "fig.update_layout(margin={\"r\":0, \"t\":0, \"l\":0, \"b\":0})\n",
    "# show the plot\n",
    "fig.show()"
   ]
  },
  {
   "cell_type": "code",
   "execution_count": 43,
   "id": "b968368a-3940-463a-8585-a0ccc4dfbb22",
   "metadata": {
    "tags": []
   },
   "outputs": [],
   "source": [
    "year = [] \n",
    "for date in df['Date']:\n",
    "    year.append(date[:4])\n",
    "    \n",
    "df['Year'] = year\n"
   ]
  },
  {
   "cell_type": "code",
   "execution_count": 44,
   "id": "7b20df9d-33f9-4dae-a7d2-6f3659d7dbf8",
   "metadata": {
    "tags": []
   },
   "outputs": [
    {
     "data": {
      "text/html": [
       "<div>\n",
       "<style scoped>\n",
       "    .dataframe tbody tr th:only-of-type {\n",
       "        vertical-align: middle;\n",
       "    }\n",
       "\n",
       "    .dataframe tbody tr th {\n",
       "        vertical-align: top;\n",
       "    }\n",
       "\n",
       "    .dataframe thead th {\n",
       "        text-align: right;\n",
       "    }\n",
       "</style>\n",
       "<table border=\"1\" class=\"dataframe\">\n",
       "  <thead>\n",
       "    <tr style=\"text-align: right;\">\n",
       "      <th></th>\n",
       "      <th>Unnamed: 0</th>\n",
       "      <th>Name</th>\n",
       "      <th>Distance (mi)</th>\n",
       "      <th>Moving Time (hr)</th>\n",
       "      <th>Elevation Gain (ft)</th>\n",
       "      <th>Average Heartrate (bpm)</th>\n",
       "      <th>Average Power (w)</th>\n",
       "      <th>Date</th>\n",
       "      <th>Days</th>\n",
       "      <th>Year</th>\n",
       "    </tr>\n",
       "  </thead>\n",
       "  <tbody>\n",
       "    <tr>\n",
       "      <th>0</th>\n",
       "      <td>0</td>\n",
       "      <td>Afternoon Ride</td>\n",
       "      <td>28.91</td>\n",
       "      <td>2.80</td>\n",
       "      <td>2791.99</td>\n",
       "      <td>NaN</td>\n",
       "      <td>NaN</td>\n",
       "      <td>2023-11-02</td>\n",
       "      <td>Thursday</td>\n",
       "      <td>2023</td>\n",
       "    </tr>\n",
       "    <tr>\n",
       "      <th>1</th>\n",
       "      <td>1</td>\n",
       "      <td>Afternoon Ride</td>\n",
       "      <td>24.29</td>\n",
       "      <td>2.04</td>\n",
       "      <td>2654.20</td>\n",
       "      <td>NaN</td>\n",
       "      <td>NaN</td>\n",
       "      <td>2023-11-01</td>\n",
       "      <td>Wednesday</td>\n",
       "      <td>2023</td>\n",
       "    </tr>\n",
       "    <tr>\n",
       "      <th>2</th>\n",
       "      <td>2</td>\n",
       "      <td>pumkin</td>\n",
       "      <td>17.59</td>\n",
       "      <td>1.76</td>\n",
       "      <td>1863.52</td>\n",
       "      <td>NaN</td>\n",
       "      <td>NaN</td>\n",
       "      <td>2023-10-31</td>\n",
       "      <td>Tuesday</td>\n",
       "      <td>2023</td>\n",
       "    </tr>\n",
       "    <tr>\n",
       "      <th>3</th>\n",
       "      <td>3</td>\n",
       "      <td>mtb on da road</td>\n",
       "      <td>73.79</td>\n",
       "      <td>4.86</td>\n",
       "      <td>6893.04</td>\n",
       "      <td>155.1</td>\n",
       "      <td>NaN</td>\n",
       "      <td>2023-10-28</td>\n",
       "      <td>Saturday</td>\n",
       "      <td>2023</td>\n",
       "    </tr>\n",
       "    <tr>\n",
       "      <th>4</th>\n",
       "      <td>4</td>\n",
       "      <td>Morning Ride</td>\n",
       "      <td>5.84</td>\n",
       "      <td>0.47</td>\n",
       "      <td>226.38</td>\n",
       "      <td>NaN</td>\n",
       "      <td>NaN</td>\n",
       "      <td>2023-10-27</td>\n",
       "      <td>Friday</td>\n",
       "      <td>2023</td>\n",
       "    </tr>\n",
       "    <tr>\n",
       "      <th>...</th>\n",
       "      <td>...</td>\n",
       "      <td>...</td>\n",
       "      <td>...</td>\n",
       "      <td>...</td>\n",
       "      <td>...</td>\n",
       "      <td>...</td>\n",
       "      <td>...</td>\n",
       "      <td>...</td>\n",
       "      <td>...</td>\n",
       "      <td>...</td>\n",
       "    </tr>\n",
       "    <tr>\n",
       "      <th>713</th>\n",
       "      <td>713</td>\n",
       "      <td>Michael and Max --- 3/11/17</td>\n",
       "      <td>22.20</td>\n",
       "      <td>2.99</td>\n",
       "      <td>1054.13</td>\n",
       "      <td>NaN</td>\n",
       "      <td>NaN</td>\n",
       "      <td>2017-03-11</td>\n",
       "      <td>Saturday</td>\n",
       "      <td>2017</td>\n",
       "    </tr>\n",
       "    <tr>\n",
       "      <th>714</th>\n",
       "      <td>714</td>\n",
       "      <td>Thanksgiving ride</td>\n",
       "      <td>15.79</td>\n",
       "      <td>1.79</td>\n",
       "      <td>1328.74</td>\n",
       "      <td>NaN</td>\n",
       "      <td>NaN</td>\n",
       "      <td>2016-11-24</td>\n",
       "      <td>Thursday</td>\n",
       "      <td>2016</td>\n",
       "    </tr>\n",
       "    <tr>\n",
       "      <th>715</th>\n",
       "      <td>715</td>\n",
       "      <td>Afternoon Ride</td>\n",
       "      <td>10.40</td>\n",
       "      <td>1.05</td>\n",
       "      <td>484.25</td>\n",
       "      <td>NaN</td>\n",
       "      <td>NaN</td>\n",
       "      <td>2016-11-23</td>\n",
       "      <td>Wednesday</td>\n",
       "      <td>2016</td>\n",
       "    </tr>\n",
       "    <tr>\n",
       "      <th>716</th>\n",
       "      <td>716</td>\n",
       "      <td>Veterans Day weekend --- phone dies and 5 mike...</td>\n",
       "      <td>17.12</td>\n",
       "      <td>1.91</td>\n",
       "      <td>1077.76</td>\n",
       "      <td>NaN</td>\n",
       "      <td>NaN</td>\n",
       "      <td>2016-11-13</td>\n",
       "      <td>Sunday</td>\n",
       "      <td>2016</td>\n",
       "    </tr>\n",
       "    <tr>\n",
       "      <th>717</th>\n",
       "      <td>717</td>\n",
       "      <td>Dad tried to kill me</td>\n",
       "      <td>17.07</td>\n",
       "      <td>1.74</td>\n",
       "      <td>948.49</td>\n",
       "      <td>NaN</td>\n",
       "      <td>NaN</td>\n",
       "      <td>2016-08-04</td>\n",
       "      <td>Thursday</td>\n",
       "      <td>2016</td>\n",
       "    </tr>\n",
       "  </tbody>\n",
       "</table>\n",
       "<p>718 rows × 10 columns</p>\n",
       "</div>"
      ],
      "text/plain": [
       "     Unnamed: 0                                               Name  \\\n",
       "0             0                                     Afternoon Ride   \n",
       "1             1                                     Afternoon Ride   \n",
       "2             2                                             pumkin   \n",
       "3             3                                     mtb on da road   \n",
       "4             4                                       Morning Ride   \n",
       "..          ...                                                ...   \n",
       "713         713                        Michael and Max --- 3/11/17   \n",
       "714         714                                 Thanksgiving ride    \n",
       "715         715                                     Afternoon Ride   \n",
       "716         716  Veterans Day weekend --- phone dies and 5 mike...   \n",
       "717         717                              Dad tried to kill me    \n",
       "\n",
       "     Distance (mi)  Moving Time (hr)  Elevation Gain (ft)  \\\n",
       "0            28.91              2.80              2791.99   \n",
       "1            24.29              2.04              2654.20   \n",
       "2            17.59              1.76              1863.52   \n",
       "3            73.79              4.86              6893.04   \n",
       "4             5.84              0.47               226.38   \n",
       "..             ...               ...                  ...   \n",
       "713          22.20              2.99              1054.13   \n",
       "714          15.79              1.79              1328.74   \n",
       "715          10.40              1.05               484.25   \n",
       "716          17.12              1.91              1077.76   \n",
       "717          17.07              1.74               948.49   \n",
       "\n",
       "     Average Heartrate (bpm)  Average Power (w)        Date       Days  Year  \n",
       "0                        NaN                NaN  2023-11-02   Thursday  2023  \n",
       "1                        NaN                NaN  2023-11-01  Wednesday  2023  \n",
       "2                        NaN                NaN  2023-10-31    Tuesday  2023  \n",
       "3                      155.1                NaN  2023-10-28   Saturday  2023  \n",
       "4                        NaN                NaN  2023-10-27     Friday  2023  \n",
       "..                       ...                ...         ...        ...   ...  \n",
       "713                      NaN                NaN  2017-03-11   Saturday  2017  \n",
       "714                      NaN                NaN  2016-11-24   Thursday  2016  \n",
       "715                      NaN                NaN  2016-11-23  Wednesday  2016  \n",
       "716                      NaN                NaN  2016-11-13     Sunday  2016  \n",
       "717                      NaN                NaN  2016-08-04   Thursday  2016  \n",
       "\n",
       "[718 rows x 10 columns]"
      ]
     },
     "execution_count": 44,
     "metadata": {},
     "output_type": "execute_result"
    }
   ],
   "source": [
    "df"
   ]
  },
  {
   "cell_type": "code",
   "execution_count": 46,
   "id": "b613566d-55f8-4619-8a5f-55ac626b83b2",
   "metadata": {
    "tags": []
   },
   "outputs": [],
   "source": [
    "df['Year'] = pd.to_datetime(df['Year']).dt.year\n",
    "\n",
    "# Sort the DataFrame by 'Year'\n",
    "df = df.sort_values('Year')\n",
    "\n",
    "# Create a sorted list of unique years\n",
    "sorted_years = sorted(df['Year'].unique())\n",
    "\n",
    "# Convert 'Year' column to categorical with sorted order\n",
    "df['Year'] = pd.Categorical(df['Year'], categories=sorted_years)"
   ]
  },
  {
   "cell_type": "code",
   "execution_count": 47,
   "id": "7332bdb0-148f-44cb-aae2-87145346af1a",
   "metadata": {
    "tags": []
   },
   "outputs": [
    {
     "data": {
      "application/vnd.plotly.v1+json": {
       "config": {
        "plotlyServerURL": "https://plot.ly"
       },
       "data": [
        {
         "alignmentgroup": "True",
         "bingroup": "x",
         "histfunc": "avg",
         "hovertemplate": "Days=Thursday<br>Year=%{x}<br>avg of Distance (mi)=%{y}<extra></extra>",
         "legendgroup": "Thursday",
         "marker": {
          "color": "#636efa",
          "pattern": {
           "shape": ""
          }
         },
         "name": "Thursday",
         "offsetgroup": "Thursday",
         "orientation": "v",
         "showlegend": true,
         "type": "histogram",
         "x": [
          2016,
          2016,
          2019,
          2020,
          2020,
          2020,
          2020,
          2020,
          2020,
          2020,
          2020,
          2020,
          2020,
          2020,
          2020,
          2020,
          2020,
          2020,
          2021,
          2021,
          2021,
          2021,
          2021,
          2021,
          2021,
          2021,
          2021,
          2021,
          2021,
          2021,
          2021,
          2021,
          2021,
          2021,
          2021,
          2021,
          2021,
          2021,
          2021,
          2021,
          2021,
          2022,
          2022,
          2022,
          2022,
          2022,
          2022,
          2022,
          2022,
          2022,
          2022,
          2022,
          2022,
          2022,
          2022,
          2022,
          2022,
          2022,
          2022,
          2022,
          2022,
          2022,
          2022,
          2022,
          2022,
          2022,
          2022,
          2022,
          2022,
          2022,
          2022,
          2023,
          2023,
          2023,
          2023,
          2023,
          2023,
          2023,
          2023,
          2023,
          2023,
          2023,
          2023,
          2023,
          2023,
          2023,
          2023,
          2023,
          2023,
          2023,
          2023,
          2023
         ],
         "xaxis": "x",
         "y": [
          17.07,
          15.79,
          23.35,
          47.02,
          63.99,
          23.89,
          29.77,
          70.96,
          45.61,
          1.7,
          19.47,
          15.63,
          12.44,
          18.12,
          22.33,
          26.61,
          15.71,
          50.64,
          15.16,
          13.24,
          3.87,
          19.66,
          6.21,
          11.97,
          41.97,
          10.54,
          16.89,
          32.68,
          0.14,
          121.98,
          16.69,
          20.26,
          57.92,
          38.02,
          28.27,
          18.77,
          25.86,
          66.41,
          49.55,
          16.73,
          17.53,
          1.84,
          30.87,
          33.92,
          25.52,
          27.59,
          18.02,
          28.34,
          14.26,
          27.09,
          56.67,
          26.07,
          18.59,
          26.43,
          20.53,
          29.31,
          29.91,
          19.36,
          19.56,
          20.77,
          47.03,
          39.88,
          22.83,
          21,
          31.05,
          30.8,
          20.51,
          1.84,
          54.79,
          18.25,
          20.73,
          11.92,
          25.33,
          20.17,
          0.35,
          29.71,
          10.61,
          24.01,
          78.78,
          71.08,
          28.99,
          44.56,
          45.35,
          55.96,
          13.74,
          45.41,
          26.66,
          21.21,
          22.53,
          27.62,
          29.13,
          28.91
         ],
         "yaxis": "y"
        },
        {
         "alignmentgroup": "True",
         "bingroup": "x",
         "histfunc": "avg",
         "hovertemplate": "Days=Sunday<br>Year=%{x}<br>avg of Distance (mi)=%{y}<extra></extra>",
         "legendgroup": "Sunday",
         "marker": {
          "color": "#EF553B",
          "pattern": {
           "shape": ""
          }
         },
         "name": "Sunday",
         "offsetgroup": "Sunday",
         "orientation": "v",
         "showlegend": true,
         "type": "histogram",
         "x": [
          2016,
          2017,
          2017,
          2017,
          2017,
          2017,
          2017,
          2020,
          2020,
          2020,
          2020,
          2020,
          2020,
          2020,
          2020,
          2020,
          2020,
          2020,
          2020,
          2020,
          2021,
          2021,
          2021,
          2021,
          2021,
          2021,
          2021,
          2021,
          2021,
          2021,
          2021,
          2021,
          2021,
          2021,
          2021,
          2021,
          2021,
          2021,
          2021,
          2021,
          2021,
          2022,
          2022,
          2022,
          2022,
          2022,
          2022,
          2022,
          2022,
          2022,
          2022,
          2022,
          2022,
          2022,
          2022,
          2022,
          2022,
          2022,
          2022,
          2022,
          2022,
          2022,
          2022,
          2022,
          2022,
          2022,
          2022,
          2022,
          2022,
          2022,
          2022,
          2022,
          2022,
          2022,
          2022,
          2022,
          2022,
          2023,
          2023,
          2023,
          2023,
          2023,
          2023,
          2023,
          2023,
          2023,
          2023,
          2023,
          2023,
          2023,
          2023,
          2023,
          2023,
          2023,
          2023,
          2023,
          2023,
          2023,
          2023,
          2023,
          2023,
          2023
         ],
         "xaxis": "x",
         "y": [
          17.12,
          26.87,
          22.87,
          24.73,
          26.81,
          45.26,
          20.22,
          12.6,
          17.87,
          17.26,
          46.9,
          64.06,
          24.07,
          53.54,
          18.36,
          6.52,
          14.92,
          38.99,
          30.6,
          18.11,
          21.52,
          18.26,
          24.84,
          22.34,
          3.12,
          14.07,
          57.1,
          6.81,
          24.19,
          36.77,
          32.25,
          35.33,
          19.6,
          41.3,
          25.1,
          59.2,
          33.48,
          31.77,
          14.61,
          50.71,
          33.49,
          33.73,
          10.76,
          30.14,
          18.81,
          14.89,
          68.1,
          120.7,
          45.4,
          92.13,
          7.33,
          41.24,
          19.79,
          6.47,
          1.71,
          26.33,
          24.87,
          16.52,
          12.05,
          28.75,
          26.68,
          20.95,
          11.94,
          14.71,
          24.12,
          55.31,
          10.15,
          24.91,
          32.3,
          14.43,
          11.32,
          47.75,
          45.09,
          29.18,
          60.61,
          35.52,
          70.85,
          5.64,
          11.09,
          61.22,
          22.16,
          9.73,
          17.04,
          36.45,
          11.24,
          27.21,
          13.15,
          17.19,
          101.78,
          38.09,
          125.25,
          54.49,
          104.04,
          45.43,
          18.75,
          93.48,
          26.39,
          42.8,
          10.2,
          24.78,
          45.24,
          31.66
         ],
         "yaxis": "y"
        },
        {
         "alignmentgroup": "True",
         "bingroup": "x",
         "histfunc": "avg",
         "hovertemplate": "Days=Wednesday<br>Year=%{x}<br>avg of Distance (mi)=%{y}<extra></extra>",
         "legendgroup": "Wednesday",
         "marker": {
          "color": "#00cc96",
          "pattern": {
           "shape": ""
          }
         },
         "name": "Wednesday",
         "offsetgroup": "Wednesday",
         "orientation": "v",
         "showlegend": true,
         "type": "histogram",
         "x": [
          2016,
          2018,
          2020,
          2020,
          2020,
          2020,
          2020,
          2020,
          2020,
          2020,
          2020,
          2020,
          2020,
          2021,
          2021,
          2021,
          2021,
          2021,
          2021,
          2021,
          2021,
          2021,
          2021,
          2021,
          2021,
          2021,
          2021,
          2021,
          2022,
          2022,
          2022,
          2022,
          2022,
          2022,
          2022,
          2022,
          2022,
          2022,
          2022,
          2022,
          2022,
          2022,
          2022,
          2022,
          2022,
          2022,
          2022,
          2022,
          2022,
          2022,
          2022,
          2022,
          2022,
          2022,
          2022,
          2022,
          2022,
          2022,
          2022,
          2022,
          2023,
          2023,
          2023,
          2023,
          2023,
          2023,
          2023,
          2023,
          2023,
          2023,
          2023,
          2023,
          2023,
          2023,
          2023,
          2023,
          2023,
          2023
         ],
         "xaxis": "x",
         "y": [
          10.4,
          73.37,
          40.47,
          23.24,
          71.75,
          39.17,
          65.55,
          28.6,
          1.77,
          19.81,
          18.5,
          29.79,
          13.7,
          57.09,
          17.48,
          4.53,
          20.09,
          24.62,
          15.44,
          24.71,
          30.9,
          14.33,
          58.29,
          49.19,
          23.81,
          25.86,
          20.08,
          24.67,
          34.56,
          29.34,
          9.94,
          42.16,
          82.29,
          29.52,
          29.26,
          30.55,
          27.27,
          32.43,
          1.19,
          23,
          37.05,
          41.9,
          35.23,
          32.73,
          44.87,
          23.94,
          31.65,
          21.58,
          28.34,
          43.18,
          27.7,
          23.74,
          20.61,
          27.76,
          31.37,
          25.12,
          52.46,
          29.13,
          26.13,
          26.35,
          5.2,
          38.63,
          66.4,
          35.66,
          19.83,
          30.53,
          36.8,
          110.33,
          54.2,
          21.38,
          8.27,
          57.12,
          57.3,
          29.79,
          53.38,
          21.89,
          27.42,
          24.29
         ],
         "yaxis": "y"
        },
        {
         "alignmentgroup": "True",
         "bingroup": "x",
         "histfunc": "avg",
         "hovertemplate": "Days=Saturday<br>Year=%{x}<br>avg of Distance (mi)=%{y}<extra></extra>",
         "legendgroup": "Saturday",
         "marker": {
          "color": "#ab63fa",
          "pattern": {
           "shape": ""
          }
         },
         "name": "Saturday",
         "offsetgroup": "Saturday",
         "orientation": "v",
         "showlegend": true,
         "type": "histogram",
         "x": [
          2017,
          2017,
          2017,
          2017,
          2017,
          2017,
          2017,
          2017,
          2017,
          2020,
          2020,
          2020,
          2020,
          2020,
          2020,
          2020,
          2020,
          2020,
          2020,
          2020,
          2020,
          2020,
          2020,
          2020,
          2020,
          2020,
          2020,
          2020,
          2020,
          2020,
          2020,
          2021,
          2021,
          2021,
          2021,
          2021,
          2021,
          2021,
          2021,
          2021,
          2021,
          2021,
          2021,
          2021,
          2021,
          2021,
          2021,
          2021,
          2021,
          2021,
          2021,
          2021,
          2021,
          2021,
          2021,
          2021,
          2021,
          2021,
          2021,
          2021,
          2021,
          2021,
          2021,
          2021,
          2021,
          2021,
          2021,
          2021,
          2021,
          2021,
          2021,
          2021,
          2021,
          2021,
          2021,
          2021,
          2021,
          2022,
          2022,
          2022,
          2022,
          2022,
          2022,
          2022,
          2022,
          2022,
          2022,
          2022,
          2022,
          2022,
          2022,
          2022,
          2022,
          2022,
          2022,
          2022,
          2022,
          2022,
          2022,
          2022,
          2022,
          2022,
          2022,
          2022,
          2022,
          2022,
          2022,
          2022,
          2022,
          2022,
          2022,
          2022,
          2022,
          2022,
          2022,
          2022,
          2022,
          2022,
          2022,
          2022,
          2022,
          2022,
          2022,
          2022,
          2022,
          2023,
          2023,
          2023,
          2023,
          2023,
          2023,
          2023,
          2023,
          2023,
          2023,
          2023,
          2023,
          2023,
          2023,
          2023,
          2023,
          2023,
          2023,
          2023,
          2023,
          2023,
          2023,
          2023,
          2023,
          2023,
          2023,
          2023,
          2023,
          2023,
          2023,
          2023,
          2023,
          2023,
          2023,
          2023,
          2023
         ],
         "xaxis": "x",
         "y": [
          19.52,
          19.73,
          32.96,
          51.52,
          11.31,
          9.9,
          54.84,
          22.2,
          46,
          5.6,
          42.96,
          75.49,
          21.79,
          24.06,
          69.35,
          36.59,
          28.79,
          33.97,
          21.35,
          9.83,
          38.26,
          37.8,
          81.91,
          57.49,
          101.8,
          64.32,
          19.32,
          22.34,
          27.6,
          21.32,
          17.35,
          76.91,
          39.34,
          34.22,
          63.49,
          22.54,
          25.99,
          74.1,
          77.15,
          82.94,
          18.59,
          76.73,
          29.86,
          7.77,
          42.62,
          14.06,
          10.25,
          39.32,
          62.9,
          2.89,
          25.29,
          25.19,
          89.97,
          30.16,
          71.44,
          24.31,
          29.61,
          105.31,
          42.55,
          68.55,
          93.63,
          82.43,
          35.1,
          21.86,
          4.75,
          17.21,
          86.62,
          14.44,
          71.95,
          31.12,
          9.12,
          49.72,
          34.46,
          6.43,
          73.01,
          18.65,
          23.09,
          80.64,
          61.17,
          38.85,
          43.52,
          69.77,
          134.77,
          91.95,
          76.72,
          79.63,
          24.71,
          95.51,
          54.73,
          57.1,
          20.51,
          24.12,
          22.07,
          67.01,
          54.13,
          113.16,
          16.42,
          75.81,
          25.51,
          100.15,
          7.43,
          6.74,
          73.58,
          91.16,
          61.86,
          15.54,
          72.36,
          31.21,
          52.41,
          24.85,
          64.29,
          34.61,
          23.52,
          13.36,
          17.79,
          26.36,
          49.68,
          59.96,
          4.17,
          64.33,
          100.89,
          56.08,
          22.63,
          107.11,
          97.83,
          12.84,
          16.65,
          67.51,
          68.96,
          64.82,
          22.03,
          104.62,
          40.46,
          43.51,
          83.53,
          45.78,
          77.8,
          87.73,
          82.81,
          84.78,
          102.48,
          138.08,
          93.87,
          82.51,
          98.07,
          13.06,
          13.4,
          100.32,
          62.77,
          123.81,
          96.1,
          64.2,
          5.87,
          53.8,
          114.02,
          80.31,
          84.34,
          89.38,
          86.91,
          73.79,
          61.65
         ],
         "yaxis": "y"
        },
        {
         "alignmentgroup": "True",
         "bingroup": "x",
         "histfunc": "avg",
         "hovertemplate": "Days=Tuesday<br>Year=%{x}<br>avg of Distance (mi)=%{y}<extra></extra>",
         "legendgroup": "Tuesday",
         "marker": {
          "color": "#FFA15A",
          "pattern": {
           "shape": ""
          }
         },
         "name": "Tuesday",
         "offsetgroup": "Tuesday",
         "orientation": "v",
         "showlegend": true,
         "type": "histogram",
         "x": [
          2017,
          2017,
          2020,
          2020,
          2020,
          2020,
          2020,
          2020,
          2020,
          2020,
          2020,
          2020,
          2020,
          2020,
          2020,
          2020,
          2020,
          2020,
          2020,
          2020,
          2021,
          2021,
          2021,
          2021,
          2021,
          2021,
          2021,
          2021,
          2021,
          2021,
          2021,
          2021,
          2021,
          2021,
          2021,
          2021,
          2021,
          2021,
          2021,
          2021,
          2021,
          2021,
          2021,
          2021,
          2021,
          2021,
          2022,
          2022,
          2022,
          2022,
          2022,
          2022,
          2022,
          2022,
          2022,
          2022,
          2022,
          2022,
          2022,
          2022,
          2022,
          2022,
          2022,
          2022,
          2022,
          2022,
          2022,
          2022,
          2022,
          2022,
          2022,
          2022,
          2022,
          2022,
          2022,
          2022,
          2022,
          2022,
          2022,
          2023,
          2023,
          2023,
          2023,
          2023,
          2023,
          2023,
          2023,
          2023,
          2023,
          2023,
          2023,
          2023,
          2023,
          2023,
          2023,
          2023,
          2023,
          2023,
          2023,
          2023,
          2023,
          2023,
          2023,
          2023,
          2023
         ],
         "xaxis": "x",
         "y": [
          66.75,
          60.21,
          28.89,
          20.69,
          15.56,
          23.18,
          13.22,
          20.62,
          30.03,
          34.25,
          10.55,
          29.54,
          52.41,
          15.6,
          24.72,
          18.19,
          15.57,
          17.63,
          16.92,
          11.16,
          16.91,
          8.4,
          22.37,
          14.6,
          11.3,
          30.36,
          90.13,
          8.84,
          17.93,
          61.8,
          12.38,
          36.74,
          25.73,
          19.1,
          53.94,
          13.43,
          13.28,
          2.86,
          28.39,
          51.08,
          30.91,
          24.29,
          31.11,
          40.6,
          66.8,
          20.08,
          19.99,
          18.52,
          15.22,
          18.66,
          18.13,
          37.89,
          13.65,
          31.25,
          4.14,
          11.1,
          33.47,
          63.97,
          45.69,
          13.39,
          15.55,
          31,
          38.66,
          41.36,
          14.49,
          25.95,
          20.01,
          22.24,
          7.77,
          2.21,
          30.44,
          47.06,
          30.15,
          18.29,
          32.32,
          26.06,
          15.74,
          3.82,
          22.2,
          35.75,
          2.05,
          3.41,
          29.08,
          51.68,
          18.6,
          88.67,
          22.99,
          97.47,
          23.14,
          29.76,
          67.17,
          34.17,
          53.69,
          30.72,
          37.53,
          28.19,
          56.11,
          83.68,
          21.46,
          13.55,
          40.7,
          61.34,
          60.86,
          61.32,
          17.59
         ],
         "yaxis": "y"
        },
        {
         "alignmentgroup": "True",
         "bingroup": "x",
         "histfunc": "avg",
         "hovertemplate": "Days=Friday<br>Year=%{x}<br>avg of Distance (mi)=%{y}<extra></extra>",
         "legendgroup": "Friday",
         "marker": {
          "color": "#19d3f3",
          "pattern": {
           "shape": ""
          }
         },
         "name": "Friday",
         "offsetgroup": "Friday",
         "orientation": "v",
         "showlegend": true,
         "type": "histogram",
         "x": [
          2020,
          2020,
          2020,
          2020,
          2020,
          2020,
          2020,
          2020,
          2020,
          2020,
          2020,
          2020,
          2020,
          2020,
          2020,
          2020,
          2021,
          2021,
          2021,
          2021,
          2021,
          2021,
          2021,
          2021,
          2021,
          2021,
          2021,
          2021,
          2021,
          2021,
          2021,
          2021,
          2021,
          2021,
          2021,
          2021,
          2021,
          2021,
          2021,
          2021,
          2021,
          2021,
          2021,
          2021,
          2021,
          2022,
          2022,
          2022,
          2022,
          2022,
          2022,
          2022,
          2022,
          2022,
          2022,
          2022,
          2022,
          2022,
          2022,
          2022,
          2022,
          2022,
          2022,
          2022,
          2022,
          2022,
          2022,
          2022,
          2022,
          2022,
          2022,
          2022,
          2022,
          2022,
          2022,
          2022,
          2022,
          2022,
          2022,
          2022,
          2022,
          2022,
          2022,
          2022,
          2022,
          2022,
          2022,
          2022,
          2022,
          2022,
          2022,
          2022,
          2022,
          2022,
          2022,
          2023,
          2023,
          2023,
          2023,
          2023,
          2023,
          2023,
          2023,
          2023,
          2023,
          2023,
          2023,
          2023,
          2023,
          2023,
          2023,
          2023,
          2023,
          2023,
          2023,
          2023,
          2023,
          2023,
          2023,
          2023,
          2023,
          2023,
          2023
         ],
         "xaxis": "x",
         "y": [
          33.1,
          71.1,
          72.3,
          51.72,
          16.83,
          4.14,
          20.96,
          2.56,
          20,
          75.05,
          14.36,
          13.03,
          11.25,
          18.14,
          16.93,
          62.1,
          9.53,
          15.32,
          17.71,
          27.21,
          19.94,
          3.3,
          3.82,
          25.45,
          19.93,
          53.42,
          17.25,
          33.42,
          31.15,
          22.88,
          34.85,
          31.48,
          14.57,
          9.29,
          19.33,
          27.51,
          27.55,
          1.57,
          14.02,
          21.23,
          26.25,
          1.69,
          10.06,
          13.37,
          57.97,
          16.9,
          40.53,
          11.09,
          23.28,
          11.13,
          11.46,
          19.34,
          29.47,
          29.16,
          35.32,
          40.34,
          24.58,
          30.59,
          15.62,
          33.86,
          17.05,
          15.89,
          12.15,
          10.34,
          14.05,
          31.19,
          21.83,
          26.26,
          33.4,
          11.61,
          19.65,
          9.39,
          9.18,
          31.45,
          91.67,
          13.26,
          14.3,
          9.31,
          1.67,
          1.54,
          17.05,
          20.85,
          1.95,
          21.24,
          27.93,
          2.9,
          25.74,
          2.11,
          26.54,
          32.77,
          25.89,
          23.73,
          21.02,
          2.11,
          23.42,
          13.64,
          5.36,
          23.19,
          24.97,
          23.33,
          34.88,
          36.69,
          27.19,
          32.87,
          33.33,
          12.72,
          26.75,
          4.7,
          8.09,
          22.34,
          29.25,
          62.03,
          75.38,
          16.18,
          40.08,
          31.39,
          53.54,
          17.89,
          21.6,
          22.84,
          11.08,
          5.79,
          5.84
         ],
         "yaxis": "y"
        },
        {
         "alignmentgroup": "True",
         "bingroup": "x",
         "histfunc": "avg",
         "hovertemplate": "Days=Monday<br>Year=%{x}<br>avg of Distance (mi)=%{y}<extra></extra>",
         "legendgroup": "Monday",
         "marker": {
          "color": "#FF6692",
          "pattern": {
           "shape": ""
          }
         },
         "name": "Monday",
         "offsetgroup": "Monday",
         "orientation": "v",
         "showlegend": true,
         "type": "histogram",
         "x": [
          2020,
          2020,
          2020,
          2020,
          2020,
          2020,
          2020,
          2020,
          2020,
          2020,
          2020,
          2020,
          2021,
          2021,
          2021,
          2021,
          2021,
          2021,
          2021,
          2021,
          2021,
          2021,
          2021,
          2021,
          2021,
          2021,
          2021,
          2021,
          2021,
          2022,
          2022,
          2022,
          2022,
          2022,
          2022,
          2022,
          2022,
          2022,
          2022,
          2022,
          2022,
          2022,
          2022,
          2022,
          2022,
          2023,
          2023,
          2023,
          2023,
          2023,
          2023,
          2023,
          2023,
          2023,
          2023,
          2023,
          2023
         ],
         "xaxis": "x",
         "y": [
          26.97,
          13.2,
          34.44,
          100.13,
          20.68,
          22.69,
          71.86,
          71.9,
          10.47,
          65.71,
          18.01,
          8.08,
          60.64,
          34.04,
          20.66,
          22.3,
          20.27,
          12.56,
          27.72,
          29.37,
          45.06,
          18.58,
          18.05,
          55.76,
          82.18,
          30.49,
          0.18,
          39.68,
          12.54,
          36.24,
          18.61,
          24.49,
          31.78,
          18.98,
          38.47,
          44.68,
          9.36,
          18.46,
          43.31,
          18.21,
          18.53,
          17.16,
          1.72,
          3.23,
          5.22,
          4.78,
          30.94,
          112.44,
          54.88,
          30.88,
          6.16,
          92.38,
          93.95,
          62.11,
          64.21,
          35.95,
          71.11
         ],
         "yaxis": "y"
        }
       ],
       "layout": {
        "autosize": true,
        "barmode": "group",
        "legend": {
         "title": {
          "text": "Days"
         },
         "tracegroupgap": 0
        },
        "margin": {
         "b": 0,
         "l": 0,
         "r": 0,
         "t": 0
        },
        "template": {
         "data": {
          "bar": [
           {
            "error_x": {
             "color": "#2a3f5f"
            },
            "error_y": {
             "color": "#2a3f5f"
            },
            "marker": {
             "line": {
              "color": "#E5ECF6",
              "width": 0.5
             },
             "pattern": {
              "fillmode": "overlay",
              "size": 10,
              "solidity": 0.2
             }
            },
            "type": "bar"
           }
          ],
          "barpolar": [
           {
            "marker": {
             "line": {
              "color": "#E5ECF6",
              "width": 0.5
             },
             "pattern": {
              "fillmode": "overlay",
              "size": 10,
              "solidity": 0.2
             }
            },
            "type": "barpolar"
           }
          ],
          "carpet": [
           {
            "aaxis": {
             "endlinecolor": "#2a3f5f",
             "gridcolor": "white",
             "linecolor": "white",
             "minorgridcolor": "white",
             "startlinecolor": "#2a3f5f"
            },
            "baxis": {
             "endlinecolor": "#2a3f5f",
             "gridcolor": "white",
             "linecolor": "white",
             "minorgridcolor": "white",
             "startlinecolor": "#2a3f5f"
            },
            "type": "carpet"
           }
          ],
          "choropleth": [
           {
            "colorbar": {
             "outlinewidth": 0,
             "ticks": ""
            },
            "type": "choropleth"
           }
          ],
          "contour": [
           {
            "colorbar": {
             "outlinewidth": 0,
             "ticks": ""
            },
            "colorscale": [
             [
              0,
              "#0d0887"
             ],
             [
              0.1111111111111111,
              "#46039f"
             ],
             [
              0.2222222222222222,
              "#7201a8"
             ],
             [
              0.3333333333333333,
              "#9c179e"
             ],
             [
              0.4444444444444444,
              "#bd3786"
             ],
             [
              0.5555555555555556,
              "#d8576b"
             ],
             [
              0.6666666666666666,
              "#ed7953"
             ],
             [
              0.7777777777777778,
              "#fb9f3a"
             ],
             [
              0.8888888888888888,
              "#fdca26"
             ],
             [
              1,
              "#f0f921"
             ]
            ],
            "type": "contour"
           }
          ],
          "contourcarpet": [
           {
            "colorbar": {
             "outlinewidth": 0,
             "ticks": ""
            },
            "type": "contourcarpet"
           }
          ],
          "heatmap": [
           {
            "colorbar": {
             "outlinewidth": 0,
             "ticks": ""
            },
            "colorscale": [
             [
              0,
              "#0d0887"
             ],
             [
              0.1111111111111111,
              "#46039f"
             ],
             [
              0.2222222222222222,
              "#7201a8"
             ],
             [
              0.3333333333333333,
              "#9c179e"
             ],
             [
              0.4444444444444444,
              "#bd3786"
             ],
             [
              0.5555555555555556,
              "#d8576b"
             ],
             [
              0.6666666666666666,
              "#ed7953"
             ],
             [
              0.7777777777777778,
              "#fb9f3a"
             ],
             [
              0.8888888888888888,
              "#fdca26"
             ],
             [
              1,
              "#f0f921"
             ]
            ],
            "type": "heatmap"
           }
          ],
          "heatmapgl": [
           {
            "colorbar": {
             "outlinewidth": 0,
             "ticks": ""
            },
            "colorscale": [
             [
              0,
              "#0d0887"
             ],
             [
              0.1111111111111111,
              "#46039f"
             ],
             [
              0.2222222222222222,
              "#7201a8"
             ],
             [
              0.3333333333333333,
              "#9c179e"
             ],
             [
              0.4444444444444444,
              "#bd3786"
             ],
             [
              0.5555555555555556,
              "#d8576b"
             ],
             [
              0.6666666666666666,
              "#ed7953"
             ],
             [
              0.7777777777777778,
              "#fb9f3a"
             ],
             [
              0.8888888888888888,
              "#fdca26"
             ],
             [
              1,
              "#f0f921"
             ]
            ],
            "type": "heatmapgl"
           }
          ],
          "histogram": [
           {
            "marker": {
             "pattern": {
              "fillmode": "overlay",
              "size": 10,
              "solidity": 0.2
             }
            },
            "type": "histogram"
           }
          ],
          "histogram2d": [
           {
            "colorbar": {
             "outlinewidth": 0,
             "ticks": ""
            },
            "colorscale": [
             [
              0,
              "#0d0887"
             ],
             [
              0.1111111111111111,
              "#46039f"
             ],
             [
              0.2222222222222222,
              "#7201a8"
             ],
             [
              0.3333333333333333,
              "#9c179e"
             ],
             [
              0.4444444444444444,
              "#bd3786"
             ],
             [
              0.5555555555555556,
              "#d8576b"
             ],
             [
              0.6666666666666666,
              "#ed7953"
             ],
             [
              0.7777777777777778,
              "#fb9f3a"
             ],
             [
              0.8888888888888888,
              "#fdca26"
             ],
             [
              1,
              "#f0f921"
             ]
            ],
            "type": "histogram2d"
           }
          ],
          "histogram2dcontour": [
           {
            "colorbar": {
             "outlinewidth": 0,
             "ticks": ""
            },
            "colorscale": [
             [
              0,
              "#0d0887"
             ],
             [
              0.1111111111111111,
              "#46039f"
             ],
             [
              0.2222222222222222,
              "#7201a8"
             ],
             [
              0.3333333333333333,
              "#9c179e"
             ],
             [
              0.4444444444444444,
              "#bd3786"
             ],
             [
              0.5555555555555556,
              "#d8576b"
             ],
             [
              0.6666666666666666,
              "#ed7953"
             ],
             [
              0.7777777777777778,
              "#fb9f3a"
             ],
             [
              0.8888888888888888,
              "#fdca26"
             ],
             [
              1,
              "#f0f921"
             ]
            ],
            "type": "histogram2dcontour"
           }
          ],
          "mesh3d": [
           {
            "colorbar": {
             "outlinewidth": 0,
             "ticks": ""
            },
            "type": "mesh3d"
           }
          ],
          "parcoords": [
           {
            "line": {
             "colorbar": {
              "outlinewidth": 0,
              "ticks": ""
             }
            },
            "type": "parcoords"
           }
          ],
          "pie": [
           {
            "automargin": true,
            "type": "pie"
           }
          ],
          "scatter": [
           {
            "fillpattern": {
             "fillmode": "overlay",
             "size": 10,
             "solidity": 0.2
            },
            "type": "scatter"
           }
          ],
          "scatter3d": [
           {
            "line": {
             "colorbar": {
              "outlinewidth": 0,
              "ticks": ""
             }
            },
            "marker": {
             "colorbar": {
              "outlinewidth": 0,
              "ticks": ""
             }
            },
            "type": "scatter3d"
           }
          ],
          "scattercarpet": [
           {
            "marker": {
             "colorbar": {
              "outlinewidth": 0,
              "ticks": ""
             }
            },
            "type": "scattercarpet"
           }
          ],
          "scattergeo": [
           {
            "marker": {
             "colorbar": {
              "outlinewidth": 0,
              "ticks": ""
             }
            },
            "type": "scattergeo"
           }
          ],
          "scattergl": [
           {
            "marker": {
             "colorbar": {
              "outlinewidth": 0,
              "ticks": ""
             }
            },
            "type": "scattergl"
           }
          ],
          "scattermapbox": [
           {
            "marker": {
             "colorbar": {
              "outlinewidth": 0,
              "ticks": ""
             }
            },
            "type": "scattermapbox"
           }
          ],
          "scatterpolar": [
           {
            "marker": {
             "colorbar": {
              "outlinewidth": 0,
              "ticks": ""
             }
            },
            "type": "scatterpolar"
           }
          ],
          "scatterpolargl": [
           {
            "marker": {
             "colorbar": {
              "outlinewidth": 0,
              "ticks": ""
             }
            },
            "type": "scatterpolargl"
           }
          ],
          "scatterternary": [
           {
            "marker": {
             "colorbar": {
              "outlinewidth": 0,
              "ticks": ""
             }
            },
            "type": "scatterternary"
           }
          ],
          "surface": [
           {
            "colorbar": {
             "outlinewidth": 0,
             "ticks": ""
            },
            "colorscale": [
             [
              0,
              "#0d0887"
             ],
             [
              0.1111111111111111,
              "#46039f"
             ],
             [
              0.2222222222222222,
              "#7201a8"
             ],
             [
              0.3333333333333333,
              "#9c179e"
             ],
             [
              0.4444444444444444,
              "#bd3786"
             ],
             [
              0.5555555555555556,
              "#d8576b"
             ],
             [
              0.6666666666666666,
              "#ed7953"
             ],
             [
              0.7777777777777778,
              "#fb9f3a"
             ],
             [
              0.8888888888888888,
              "#fdca26"
             ],
             [
              1,
              "#f0f921"
             ]
            ],
            "type": "surface"
           }
          ],
          "table": [
           {
            "cells": {
             "fill": {
              "color": "#EBF0F8"
             },
             "line": {
              "color": "white"
             }
            },
            "header": {
             "fill": {
              "color": "#C8D4E3"
             },
             "line": {
              "color": "white"
             }
            },
            "type": "table"
           }
          ]
         },
         "layout": {
          "annotationdefaults": {
           "arrowcolor": "#2a3f5f",
           "arrowhead": 0,
           "arrowwidth": 1
          },
          "autotypenumbers": "strict",
          "coloraxis": {
           "colorbar": {
            "outlinewidth": 0,
            "ticks": ""
           }
          },
          "colorscale": {
           "diverging": [
            [
             0,
             "#8e0152"
            ],
            [
             0.1,
             "#c51b7d"
            ],
            [
             0.2,
             "#de77ae"
            ],
            [
             0.3,
             "#f1b6da"
            ],
            [
             0.4,
             "#fde0ef"
            ],
            [
             0.5,
             "#f7f7f7"
            ],
            [
             0.6,
             "#e6f5d0"
            ],
            [
             0.7,
             "#b8e186"
            ],
            [
             0.8,
             "#7fbc41"
            ],
            [
             0.9,
             "#4d9221"
            ],
            [
             1,
             "#276419"
            ]
           ],
           "sequential": [
            [
             0,
             "#0d0887"
            ],
            [
             0.1111111111111111,
             "#46039f"
            ],
            [
             0.2222222222222222,
             "#7201a8"
            ],
            [
             0.3333333333333333,
             "#9c179e"
            ],
            [
             0.4444444444444444,
             "#bd3786"
            ],
            [
             0.5555555555555556,
             "#d8576b"
            ],
            [
             0.6666666666666666,
             "#ed7953"
            ],
            [
             0.7777777777777778,
             "#fb9f3a"
            ],
            [
             0.8888888888888888,
             "#fdca26"
            ],
            [
             1,
             "#f0f921"
            ]
           ],
           "sequentialminus": [
            [
             0,
             "#0d0887"
            ],
            [
             0.1111111111111111,
             "#46039f"
            ],
            [
             0.2222222222222222,
             "#7201a8"
            ],
            [
             0.3333333333333333,
             "#9c179e"
            ],
            [
             0.4444444444444444,
             "#bd3786"
            ],
            [
             0.5555555555555556,
             "#d8576b"
            ],
            [
             0.6666666666666666,
             "#ed7953"
            ],
            [
             0.7777777777777778,
             "#fb9f3a"
            ],
            [
             0.8888888888888888,
             "#fdca26"
            ],
            [
             1,
             "#f0f921"
            ]
           ]
          },
          "colorway": [
           "#636efa",
           "#EF553B",
           "#00cc96",
           "#ab63fa",
           "#FFA15A",
           "#19d3f3",
           "#FF6692",
           "#B6E880",
           "#FF97FF",
           "#FECB52"
          ],
          "font": {
           "color": "#2a3f5f"
          },
          "geo": {
           "bgcolor": "white",
           "lakecolor": "white",
           "landcolor": "#E5ECF6",
           "showlakes": true,
           "showland": true,
           "subunitcolor": "white"
          },
          "hoverlabel": {
           "align": "left"
          },
          "hovermode": "closest",
          "mapbox": {
           "style": "light"
          },
          "paper_bgcolor": "white",
          "plot_bgcolor": "#E5ECF6",
          "polar": {
           "angularaxis": {
            "gridcolor": "white",
            "linecolor": "white",
            "ticks": ""
           },
           "bgcolor": "#E5ECF6",
           "radialaxis": {
            "gridcolor": "white",
            "linecolor": "white",
            "ticks": ""
           }
          },
          "scene": {
           "xaxis": {
            "backgroundcolor": "#E5ECF6",
            "gridcolor": "white",
            "gridwidth": 2,
            "linecolor": "white",
            "showbackground": true,
            "ticks": "",
            "zerolinecolor": "white"
           },
           "yaxis": {
            "backgroundcolor": "#E5ECF6",
            "gridcolor": "white",
            "gridwidth": 2,
            "linecolor": "white",
            "showbackground": true,
            "ticks": "",
            "zerolinecolor": "white"
           },
           "zaxis": {
            "backgroundcolor": "#E5ECF6",
            "gridcolor": "white",
            "gridwidth": 2,
            "linecolor": "white",
            "showbackground": true,
            "ticks": "",
            "zerolinecolor": "white"
           }
          },
          "shapedefaults": {
           "line": {
            "color": "#2a3f5f"
           }
          },
          "ternary": {
           "aaxis": {
            "gridcolor": "white",
            "linecolor": "white",
            "ticks": ""
           },
           "baxis": {
            "gridcolor": "white",
            "linecolor": "white",
            "ticks": ""
           },
           "bgcolor": "#E5ECF6",
           "caxis": {
            "gridcolor": "white",
            "linecolor": "white",
            "ticks": ""
           }
          },
          "title": {
           "x": 0.05
          },
          "xaxis": {
           "automargin": true,
           "gridcolor": "white",
           "linecolor": "white",
           "ticks": "",
           "title": {
            "standoff": 15
           },
           "zerolinecolor": "white",
           "zerolinewidth": 2
          },
          "yaxis": {
           "automargin": true,
           "gridcolor": "white",
           "linecolor": "white",
           "ticks": "",
           "title": {
            "standoff": 15
           },
           "zerolinecolor": "white",
           "zerolinewidth": 2
          }
         }
        },
        "xaxis": {
         "anchor": "y",
         "autorange": true,
         "domain": [
          0,
          1
         ],
         "range": [
          2015.5,
          2023.5
         ],
         "title": {
          "text": "Year"
         },
         "type": "linear"
        },
        "yaxis": {
         "anchor": "x",
         "autorange": true,
         "domain": [
          0,
          1
         ],
         "range": [
          0,
          77.23157894736842
         ],
         "title": {
          "text": "avg of Distance (mi)"
         },
         "type": "linear"
        }
       }
      },
      "image/png": "[encoded data removed]",
      "text/html": [
       "<div>                            <div id=\"c920dbc2-67c8-4004-82ab-43da51d06cb8\" class=\"plotly-graph-div\" style=\"height:525px; width:100%;\"></div>            <script type=\"text/javascript\">                require([\"plotly\"], function(Plotly) {                    window.PLOTLYENV=window.PLOTLYENV || {};                                    if (document.getElementById(\"c920dbc2-67c8-4004-82ab-43da51d06cb8\")) {                    Plotly.newPlot(                        \"c920dbc2-67c8-4004-82ab-43da51d06cb8\",                        [{\"alignmentgroup\":\"True\",\"bingroup\":\"x\",\"histfunc\":\"avg\",\"hovertemplate\":\"Days=Thursday\\u003cbr\\u003eYear=%{x}\\u003cbr\\u003eavg of Distance (mi)=%{y}\\u003cextra\\u003e\\u003c\\u002fextra\\u003e\",\"legendgroup\":\"Thursday\",\"marker\":{\"color\":\"#636efa\",\"pattern\":{\"shape\":\"\"}},\"name\":\"Thursday\",\"offsetgroup\":\"Thursday\",\"orientation\":\"v\",\"showlegend\":true,\"x\":[2016,2016,2019,2020,2020,2020,2020,2020,2020,2020,2020,2020,2020,2020,2020,2020,2020,2020,2021,2021,2021,2021,2021,2021,2021,2021,2021,2021,2021,2021,2021,2021,2021,2021,2021,2021,2021,2021,2021,2021,2021,2022,2022,2022,2022,2022,2022,2022,2022,2022,2022,2022,2022,2022,2022,2022,2022,2022,2022,2022,2022,2022,2022,2022,2022,2022,2022,2022,2022,2022,2022,2023,2023,2023,2023,2023,2023,2023,2023,2023,2023,2023,2023,2023,2023,2023,2023,2023,2023,2023,2023,2023],\"xaxis\":\"x\",\"y\":[17.07,15.79,23.35,47.02,63.99,23.89,29.77,70.96,45.61,1.7,19.47,15.63,12.44,18.12,22.33,26.61,15.71,50.64,15.16,13.24,3.87,19.66,6.21,11.97,41.97,10.54,16.89,32.68,0.14,121.98,16.69,20.26,57.92,38.02,28.27,18.77,25.86,66.41,49.55,16.73,17.53,1.84,30.87,33.92,25.52,27.59,18.02,28.34,14.26,27.09,56.67,26.07,18.59,26.43,20.53,29.31,29.91,19.36,19.56,20.77,47.03,39.88,22.83,21.0,31.05,30.8,20.51,1.84,54.79,18.25,20.73,11.92,25.33,20.17,0.35,29.71,10.61,24.01,78.78,71.08,28.99,44.56,45.35,55.96,13.74,45.41,26.66,21.21,22.53,27.62,29.13,28.91],\"yaxis\":\"y\",\"type\":\"histogram\"},{\"alignmentgroup\":\"True\",\"bingroup\":\"x\",\"histfunc\":\"avg\",\"hovertemplate\":\"Days=Sunday\\u003cbr\\u003eYear=%{x}\\u003cbr\\u003eavg of Distance (mi)=%{y}\\u003cextra\\u003e\\u003c\\u002fextra\\u003e\",\"legendgroup\":\"Sunday\",\"marker\":{\"color\":\"#EF553B\",\"pattern\":{\"shape\":\"\"}},\"name\":\"Sunday\",\"offsetgroup\":\"Sunday\",\"orientation\":\"v\",\"showlegend\":true,\"x\":[2016,2017,2017,2017,2017,2017,2017,2020,2020,2020,2020,2020,2020,2020,2020,2020,2020,2020,2020,2020,2021,2021,2021,2021,2021,2021,2021,2021,2021,2021,2021,2021,2021,2021,2021,2021,2021,2021,2021,2021,2021,2022,2022,2022,2022,2022,2022,2022,2022,2022,2022,2022,2022,2022,2022,2022,2022,2022,2022,2022,2022,2022,2022,2022,2022,2022,2022,2022,2022,2022,2022,2022,2022,2022,2022,2022,2022,2023,2023,2023,2023,2023,2023,2023,2023,2023,2023,2023,2023,2023,2023,2023,2023,2023,2023,2023,2023,2023,2023,2023,2023,2023],\"xaxis\":\"x\",\"y\":[17.12,26.87,22.87,24.73,26.81,45.26,20.22,12.6,17.87,17.26,46.9,64.06,24.07,53.54,18.36,6.52,14.92,38.99,30.6,18.11,21.52,18.26,24.84,22.34,3.12,14.07,57.1,6.81,24.19,36.77,32.25,35.33,19.6,41.3,25.1,59.2,33.48,31.77,14.61,50.71,33.49,33.73,10.76,30.14,18.81,14.89,68.1,120.7,45.4,92.13,7.33,41.24,19.79,6.47,1.71,26.33,24.87,16.52,12.05,28.75,26.68,20.95,11.94,14.71,24.12,55.31,10.15,24.91,32.3,14.43,11.32,47.75,45.09,29.18,60.61,35.52,70.85,5.64,11.09,61.22,22.16,9.73,17.04,36.45,11.24,27.21,13.15,17.19,101.78,38.09,125.25,54.49,104.04,45.43,18.75,93.48,26.39,42.8,10.2,24.78,45.24,31.66],\"yaxis\":\"y\",\"type\":\"histogram\"},{\"alignmentgroup\":\"True\",\"bingroup\":\"x\",\"histfunc\":\"avg\",\"hovertemplate\":\"Days=Wednesday\\u003cbr\\u003eYear=%{x}\\u003cbr\\u003eavg of Distance (mi)=%{y}\\u003cextra\\u003e\\u003c\\u002fextra\\u003e\",\"legendgroup\":\"Wednesday\",\"marker\":{\"color\":\"#00cc96\",\"pattern\":{\"shape\":\"\"}},\"name\":\"Wednesday\",\"offsetgroup\":\"Wednesday\",\"orientation\":\"v\",\"showlegend\":true,\"x\":[2016,2018,2020,2020,2020,2020,2020,2020,2020,2020,2020,2020,2020,2021,2021,2021,2021,2021,2021,2021,2021,2021,2021,2021,2021,2021,2021,2021,2022,2022,2022,2022,2022,2022,2022,2022,2022,2022,2022,2022,2022,2022,2022,2022,2022,2022,2022,2022,2022,2022,2022,2022,2022,2022,2022,2022,2022,2022,2022,2022,2023,2023,2023,2023,2023,2023,2023,2023,2023,2023,2023,2023,2023,2023,2023,2023,2023,2023],\"xaxis\":\"x\",\"y\":[10.4,73.37,40.47,23.24,71.75,39.17,65.55,28.6,1.77,19.81,18.5,29.79,13.7,57.09,17.48,4.53,20.09,24.62,15.44,24.71,30.9,14.33,58.29,49.19,23.81,25.86,20.08,24.67,34.56,29.34,9.94,42.16,82.29,29.52,29.26,30.55,27.27,32.43,1.19,23.0,37.05,41.9,35.23,32.73,44.87,23.94,31.65,21.58,28.34,43.18,27.7,23.74,20.61,27.76,31.37,25.12,52.46,29.13,26.13,26.35,5.2,38.63,66.4,35.66,19.83,30.53,36.8,110.33,54.2,21.38,8.27,57.12,57.3,29.79,53.38,21.89,27.42,24.29],\"yaxis\":\"y\",\"type\":\"histogram\"},{\"alignmentgroup\":\"True\",\"bingroup\":\"x\",\"histfunc\":\"avg\",\"hovertemplate\":\"Days=Saturday\\u003cbr\\u003eYear=%{x}\\u003cbr\\u003eavg of Distance (mi)=%{y}\\u003cextra\\u003e\\u003c\\u002fextra\\u003e\",\"legendgroup\":\"Saturday\",\"marker\":{\"color\":\"#ab63fa\",\"pattern\":{\"shape\":\"\"}},\"name\":\"Saturday\",\"offsetgroup\":\"Saturday\",\"orientation\":\"v\",\"showlegend\":true,\"x\":[2017,2017,2017,2017,2017,2017,2017,2017,2017,2020,2020,2020,2020,2020,2020,2020,2020,2020,2020,2020,2020,2020,2020,2020,2020,2020,2020,2020,2020,2020,2020,2021,2021,2021,2021,2021,2021,2021,2021,2021,2021,2021,2021,2021,2021,2021,2021,2021,2021,2021,2021,2021,2021,2021,2021,2021,2021,2021,2021,2021,2021,2021,2021,2021,2021,2021,2021,2021,2021,2021,2021,2021,2021,2021,2021,2021,2021,2022,2022,2022,2022,2022,2022,2022,2022,2022,2022,2022,2022,2022,2022,2022,2022,2022,2022,2022,2022,2022,2022,2022,2022,2022,2022,2022,2022,2022,2022,2022,2022,2022,2022,2022,2022,2022,2022,2022,2022,2022,2022,2022,2022,2022,2022,2022,2022,2023,2023,2023,2023,2023,2023,2023,2023,2023,2023,2023,2023,2023,2023,2023,2023,2023,2023,2023,2023,2023,2023,2023,2023,2023,2023,2023,2023,2023,2023,2023,2023,2023,2023,2023,2023],\"xaxis\":\"x\",\"y\":[19.52,19.73,32.96,51.52,11.31,9.9,54.84,22.2,46.0,5.6,42.96,75.49,21.79,24.06,69.35,36.59,28.79,33.97,21.35,9.83,38.26,37.8,81.91,57.49,101.8,64.32,19.32,22.34,27.6,21.32,17.35,76.91,39.34,34.22,63.49,22.54,25.99,74.1,77.15,82.94,18.59,76.73,29.86,7.77,42.62,14.06,10.25,39.32,62.9,2.89,25.29,25.19,89.97,30.16,71.44,24.31,29.61,105.31,42.55,68.55,93.63,82.43,35.1,21.86,4.75,17.21,86.62,14.44,71.95,31.12,9.12,49.72,34.46,6.43,73.01,18.65,23.09,80.64,61.17,38.85,43.52,69.77,134.77,91.95,76.72,79.63,24.71,95.51,54.73,57.1,20.51,24.12,22.07,67.01,54.13,113.16,16.42,75.81,25.51,100.15,7.43,6.74,73.58,91.16,61.86,15.54,72.36,31.21,52.41,24.85,64.29,34.61,23.52,13.36,17.79,26.36,49.68,59.96,4.17,64.33,100.89,56.08,22.63,107.11,97.83,12.84,16.65,67.51,68.96,64.82,22.03,104.62,40.46,43.51,83.53,45.78,77.8,87.73,82.81,84.78,102.48,138.08,93.87,82.51,98.07,13.06,13.4,100.32,62.77,123.81,96.1,64.2,5.87,53.8,114.02,80.31,84.34,89.38,86.91,73.79,61.65],\"yaxis\":\"y\",\"type\":\"histogram\"},{\"alignmentgroup\":\"True\",\"bingroup\":\"x\",\"histfunc\":\"avg\",\"hovertemplate\":\"Days=Tuesday\\u003cbr\\u003eYear=%{x}\\u003cbr\\u003eavg of Distance (mi)=%{y}\\u003cextra\\u003e\\u003c\\u002fextra\\u003e\",\"legendgroup\":\"Tuesday\",\"marker\":{\"color\":\"#FFA15A\",\"pattern\":{\"shape\":\"\"}},\"name\":\"Tuesday\",\"offsetgroup\":\"Tuesday\",\"orientation\":\"v\",\"showlegend\":true,\"x\":[2017,2017,2020,2020,2020,2020,2020,2020,2020,2020,2020,2020,2020,2020,2020,2020,2020,2020,2020,2020,2021,2021,2021,2021,2021,2021,2021,2021,2021,2021,2021,2021,2021,2021,2021,2021,2021,2021,2021,2021,2021,2021,2021,2021,2021,2021,2022,2022,2022,2022,2022,2022,2022,2022,2022,2022,2022,2022,2022,2022,2022,2022,2022,2022,2022,2022,2022,2022,2022,2022,2022,2022,2022,2022,2022,2022,2022,2022,2022,2023,2023,2023,2023,2023,2023,2023,2023,2023,2023,2023,2023,2023,2023,2023,2023,2023,2023,2023,2023,2023,2023,2023,2023,2023,2023],\"xaxis\":\"x\",\"y\":[66.75,60.21,28.89,20.69,15.56,23.18,13.22,20.62,30.03,34.25,10.55,29.54,52.41,15.6,24.72,18.19,15.57,17.63,16.92,11.16,16.91,8.4,22.37,14.6,11.3,30.36,90.13,8.84,17.93,61.8,12.38,36.74,25.73,19.1,53.94,13.43,13.28,2.86,28.39,51.08,30.91,24.29,31.11,40.6,66.8,20.08,19.99,18.52,15.22,18.66,18.13,37.89,13.65,31.25,4.14,11.1,33.47,63.97,45.69,13.39,15.55,31.0,38.66,41.36,14.49,25.95,20.01,22.24,7.77,2.21,30.44,47.06,30.15,18.29,32.32,26.06,15.74,3.82,22.2,35.75,2.05,3.41,29.08,51.68,18.6,88.67,22.99,97.47,23.14,29.76,67.17,34.17,53.69,30.72,37.53,28.19,56.11,83.68,21.46,13.55,40.7,61.34,60.86,61.32,17.59],\"yaxis\":\"y\",\"type\":\"histogram\"},{\"alignmentgroup\":\"True\",\"bingroup\":\"x\",\"histfunc\":\"avg\",\"hovertemplate\":\"Days=Friday\\u003cbr\\u003eYear=%{x}\\u003cbr\\u003eavg of Distance (mi)=%{y}\\u003cextra\\u003e\\u003c\\u002fextra\\u003e\",\"legendgroup\":\"Friday\",\"marker\":{\"color\":\"#19d3f3\",\"pattern\":{\"shape\":\"\"}},\"name\":\"Friday\",\"offsetgroup\":\"Friday\",\"orientation\":\"v\",\"showlegend\":true,\"x\":[2020,2020,2020,2020,2020,2020,2020,2020,2020,2020,2020,2020,2020,2020,2020,2020,2021,2021,2021,2021,2021,2021,2021,2021,2021,2021,2021,2021,2021,2021,2021,2021,2021,2021,2021,2021,2021,2021,2021,2021,2021,2021,2021,2021,2021,2022,2022,2022,2022,2022,2022,2022,2022,2022,2022,2022,2022,2022,2022,2022,2022,2022,2022,2022,2022,2022,2022,2022,2022,2022,2022,2022,2022,2022,2022,2022,2022,2022,2022,2022,2022,2022,2022,2022,2022,2022,2022,2022,2022,2022,2022,2022,2022,2022,2022,2023,2023,2023,2023,2023,2023,2023,2023,2023,2023,2023,2023,2023,2023,2023,2023,2023,2023,2023,2023,2023,2023,2023,2023,2023,2023,2023,2023],\"xaxis\":\"x\",\"y\":[33.1,71.1,72.3,51.72,16.83,4.14,20.96,2.56,20.0,75.05,14.36,13.03,11.25,18.14,16.93,62.1,9.53,15.32,17.71,27.21,19.94,3.3,3.82,25.45,19.93,53.42,17.25,33.42,31.15,22.88,34.85,31.48,14.57,9.29,19.33,27.51,27.55,1.57,14.02,21.23,26.25,1.69,10.06,13.37,57.97,16.9,40.53,11.09,23.28,11.13,11.46,19.34,29.47,29.16,35.32,40.34,24.58,30.59,15.62,33.86,17.05,15.89,12.15,10.34,14.05,31.19,21.83,26.26,33.4,11.61,19.65,9.39,9.18,31.45,91.67,13.26,14.3,9.31,1.67,1.54,17.05,20.85,1.95,21.24,27.93,2.9,25.74,2.11,26.54,32.77,25.89,23.73,21.02,2.11,23.42,13.64,5.36,23.19,24.97,23.33,34.88,36.69,27.19,32.87,33.33,12.72,26.75,4.7,8.09,22.34,29.25,62.03,75.38,16.18,40.08,31.39,53.54,17.89,21.6,22.84,11.08,5.79,5.84],\"yaxis\":\"y\",\"type\":\"histogram\"},{\"alignmentgroup\":\"True\",\"bingroup\":\"x\",\"histfunc\":\"avg\",\"hovertemplate\":\"Days=Monday\\u003cbr\\u003eYear=%{x}\\u003cbr\\u003eavg of Distance (mi)=%{y}\\u003cextra\\u003e\\u003c\\u002fextra\\u003e\",\"legendgroup\":\"Monday\",\"marker\":{\"color\":\"#FF6692\",\"pattern\":{\"shape\":\"\"}},\"name\":\"Monday\",\"offsetgroup\":\"Monday\",\"orientation\":\"v\",\"showlegend\":true,\"x\":[2020,2020,2020,2020,2020,2020,2020,2020,2020,2020,2020,2020,2021,2021,2021,2021,2021,2021,2021,2021,2021,2021,2021,2021,2021,2021,2021,2021,2021,2022,2022,2022,2022,2022,2022,2022,2022,2022,2022,2022,2022,2022,2022,2022,2022,2023,2023,2023,2023,2023,2023,2023,2023,2023,2023,2023,2023],\"xaxis\":\"x\",\"y\":[26.97,13.2,34.44,100.13,20.68,22.69,71.86,71.9,10.47,65.71,18.01,8.08,60.64,34.04,20.66,22.3,20.27,12.56,27.72,29.37,45.06,18.58,18.05,55.76,82.18,30.49,0.18,39.68,12.54,36.24,18.61,24.49,31.78,18.98,38.47,44.68,9.36,18.46,43.31,18.21,18.53,17.16,1.72,3.23,5.22,4.78,30.94,112.44,54.88,30.88,6.16,92.38,93.95,62.11,64.21,35.95,71.11],\"yaxis\":\"y\",\"type\":\"histogram\"}],                        {\"template\":{\"data\":{\"histogram2dcontour\":[{\"type\":\"histogram2dcontour\",\"colorbar\":{\"outlinewidth\":0,\"ticks\":\"\"},\"colorscale\":[[0.0,\"#0d0887\"],[0.1111111111111111,\"#46039f\"],[0.2222222222222222,\"#7201a8\"],[0.3333333333333333,\"#9c179e\"],[0.4444444444444444,\"#bd3786\"],[0.5555555555555556,\"#d8576b\"],[0.6666666666666666,\"#ed7953\"],[0.7777777777777778,\"#fb9f3a\"],[0.8888888888888888,\"#fdca26\"],[1.0,\"#f0f921\"]]}],\"choropleth\":[{\"type\":\"choropleth\",\"colorbar\":{\"outlinewidth\":0,\"ticks\":\"\"}}],\"histogram2d\":[{\"type\":\"histogram2d\",\"colorbar\":{\"outlinewidth\":0,\"ticks\":\"\"},\"colorscale\":[[0.0,\"#0d0887\"],[0.1111111111111111,\"#46039f\"],[0.2222222222222222,\"#7201a8\"],[0.3333333333333333,\"#9c179e\"],[0.4444444444444444,\"#bd3786\"],[0.5555555555555556,\"#d8576b\"],[0.6666666666666666,\"#ed7953\"],[0.7777777777777778,\"#fb9f3a\"],[0.8888888888888888,\"#fdca26\"],[1.0,\"#f0f921\"]]}],\"heatmap\":[{\"type\":\"heatmap\",\"colorbar\":{\"outlinewidth\":0,\"ticks\":\"\"},\"colorscale\":[[0.0,\"#0d0887\"],[0.1111111111111111,\"#46039f\"],[0.2222222222222222,\"#7201a8\"],[0.3333333333333333,\"#9c179e\"],[0.4444444444444444,\"#bd3786\"],[0.5555555555555556,\"#d8576b\"],[0.6666666666666666,\"#ed7953\"],[0.7777777777777778,\"#fb9f3a\"],[0.8888888888888888,\"#fdca26\"],[1.0,\"#f0f921\"]]}],\"heatmapgl\":[{\"type\":\"heatmapgl\",\"colorbar\":{\"outlinewidth\":0,\"ticks\":\"\"},\"colorscale\":[[0.0,\"#0d0887\"],[0.1111111111111111,\"#46039f\"],[0.2222222222222222,\"#7201a8\"],[0.3333333333333333,\"#9c179e\"],[0.4444444444444444,\"#bd3786\"],[0.5555555555555556,\"#d8576b\"],[0.6666666666666666,\"#ed7953\"],[0.7777777777777778,\"#fb9f3a\"],[0.8888888888888888,\"#fdca26\"],[1.0,\"#f0f921\"]]}],\"contourcarpet\":[{\"type\":\"contourcarpet\",\"colorbar\":{\"outlinewidth\":0,\"ticks\":\"\"}}],\"contour\":[{\"type\":\"contour\",\"colorbar\":{\"outlinewidth\":0,\"ticks\":\"\"},\"colorscale\":[[0.0,\"#0d0887\"],[0.1111111111111111,\"#46039f\"],[0.2222222222222222,\"#7201a8\"],[0.3333333333333333,\"#9c179e\"],[0.4444444444444444,\"#bd3786\"],[0.5555555555555556,\"#d8576b\"],[0.6666666666666666,\"#ed7953\"],[0.7777777777777778,\"#fb9f3a\"],[0.8888888888888888,\"#fdca26\"],[1.0,\"#f0f921\"]]}],\"surface\":[{\"type\":\"surface\",\"colorbar\":{\"outlinewidth\":0,\"ticks\":\"\"},\"colorscale\":[[0.0,\"#0d0887\"],[0.1111111111111111,\"#46039f\"],[0.2222222222222222,\"#7201a8\"],[0.3333333333333333,\"#9c179e\"],[0.4444444444444444,\"#bd3786\"],[0.5555555555555556,\"#d8576b\"],[0.6666666666666666,\"#ed7953\"],[0.7777777777777778,\"#fb9f3a\"],[0.8888888888888888,\"#fdca26\"],[1.0,\"#f0f921\"]]}],\"mesh3d\":[{\"type\":\"mesh3d\",\"colorbar\":{\"outlinewidth\":0,\"ticks\":\"\"}}],\"scatter\":[{\"fillpattern\":{\"fillmode\":\"overlay\",\"size\":10,\"solidity\":0.2},\"type\":\"scatter\"}],\"parcoords\":[{\"type\":\"parcoords\",\"line\":{\"colorbar\":{\"outlinewidth\":0,\"ticks\":\"\"}}}],\"scatterpolargl\":[{\"type\":\"scatterpolargl\",\"marker\":{\"colorbar\":{\"outlinewidth\":0,\"ticks\":\"\"}}}],\"bar\":[{\"error_x\":{\"color\":\"#2a3f5f\"},\"error_y\":{\"color\":\"#2a3f5f\"},\"marker\":{\"line\":{\"color\":\"#E5ECF6\",\"width\":0.5},\"pattern\":{\"fillmode\":\"overlay\",\"size\":10,\"solidity\":0.2}},\"type\":\"bar\"}],\"scattergeo\":[{\"type\":\"scattergeo\",\"marker\":{\"colorbar\":{\"outlinewidth\":0,\"ticks\":\"\"}}}],\"scatterpolar\":[{\"type\":\"scatterpolar\",\"marker\":{\"colorbar\":{\"outlinewidth\":0,\"ticks\":\"\"}}}],\"histogram\":[{\"marker\":{\"pattern\":{\"fillmode\":\"overlay\",\"size\":10,\"solidity\":0.2}},\"type\":\"histogram\"}],\"scattergl\":[{\"type\":\"scattergl\",\"marker\":{\"colorbar\":{\"outlinewidth\":0,\"ticks\":\"\"}}}],\"scatter3d\":[{\"type\":\"scatter3d\",\"line\":{\"colorbar\":{\"outlinewidth\":0,\"ticks\":\"\"}},\"marker\":{\"colorbar\":{\"outlinewidth\":0,\"ticks\":\"\"}}}],\"scattermapbox\":[{\"type\":\"scattermapbox\",\"marker\":{\"colorbar\":{\"outlinewidth\":0,\"ticks\":\"\"}}}],\"scatterternary\":[{\"type\":\"scatterternary\",\"marker\":{\"colorbar\":{\"outlinewidth\":0,\"ticks\":\"\"}}}],\"scattercarpet\":[{\"type\":\"scattercarpet\",\"marker\":{\"colorbar\":{\"outlinewidth\":0,\"ticks\":\"\"}}}],\"carpet\":[{\"aaxis\":{\"endlinecolor\":\"#2a3f5f\",\"gridcolor\":\"white\",\"linecolor\":\"white\",\"minorgridcolor\":\"white\",\"startlinecolor\":\"#2a3f5f\"},\"baxis\":{\"endlinecolor\":\"#2a3f5f\",\"gridcolor\":\"white\",\"linecolor\":\"white\",\"minorgridcolor\":\"white\",\"startlinecolor\":\"#2a3f5f\"},\"type\":\"carpet\"}],\"table\":[{\"cells\":{\"fill\":{\"color\":\"#EBF0F8\"},\"line\":{\"color\":\"white\"}},\"header\":{\"fill\":{\"color\":\"#C8D4E3\"},\"line\":{\"color\":\"white\"}},\"type\":\"table\"}],\"barpolar\":[{\"marker\":{\"line\":{\"color\":\"#E5ECF6\",\"width\":0.5},\"pattern\":{\"fillmode\":\"overlay\",\"size\":10,\"solidity\":0.2}},\"type\":\"barpolar\"}],\"pie\":[{\"automargin\":true,\"type\":\"pie\"}]},\"layout\":{\"autotypenumbers\":\"strict\",\"colorway\":[\"#636efa\",\"#EF553B\",\"#00cc96\",\"#ab63fa\",\"#FFA15A\",\"#19d3f3\",\"#FF6692\",\"#B6E880\",\"#FF97FF\",\"#FECB52\"],\"font\":{\"color\":\"#2a3f5f\"},\"hovermode\":\"closest\",\"hoverlabel\":{\"align\":\"left\"},\"paper_bgcolor\":\"white\",\"plot_bgcolor\":\"#E5ECF6\",\"polar\":{\"bgcolor\":\"#E5ECF6\",\"angularaxis\":{\"gridcolor\":\"white\",\"linecolor\":\"white\",\"ticks\":\"\"},\"radialaxis\":{\"gridcolor\":\"white\",\"linecolor\":\"white\",\"ticks\":\"\"}},\"ternary\":{\"bgcolor\":\"#E5ECF6\",\"aaxis\":{\"gridcolor\":\"white\",\"linecolor\":\"white\",\"ticks\":\"\"},\"baxis\":{\"gridcolor\":\"white\",\"linecolor\":\"white\",\"ticks\":\"\"},\"caxis\":{\"gridcolor\":\"white\",\"linecolor\":\"white\",\"ticks\":\"\"}},\"coloraxis\":{\"colorbar\":{\"outlinewidth\":0,\"ticks\":\"\"}},\"colorscale\":{\"sequential\":[[0.0,\"#0d0887\"],[0.1111111111111111,\"#46039f\"],[0.2222222222222222,\"#7201a8\"],[0.3333333333333333,\"#9c179e\"],[0.4444444444444444,\"#bd3786\"],[0.5555555555555556,\"#d8576b\"],[0.6666666666666666,\"#ed7953\"],[0.7777777777777778,\"#fb9f3a\"],[0.8888888888888888,\"#fdca26\"],[1.0,\"#f0f921\"]],\"sequentialminus\":[[0.0,\"#0d0887\"],[0.1111111111111111,\"#46039f\"],[0.2222222222222222,\"#7201a8\"],[0.3333333333333333,\"#9c179e\"],[0.4444444444444444,\"#bd3786\"],[0.5555555555555556,\"#d8576b\"],[0.6666666666666666,\"#ed7953\"],[0.7777777777777778,\"#fb9f3a\"],[0.8888888888888888,\"#fdca26\"],[1.0,\"#f0f921\"]],\"diverging\":[[0,\"#8e0152\"],[0.1,\"#c51b7d\"],[0.2,\"#de77ae\"],[0.3,\"#f1b6da\"],[0.4,\"#fde0ef\"],[0.5,\"#f7f7f7\"],[0.6,\"#e6f5d0\"],[0.7,\"#b8e186\"],[0.8,\"#7fbc41\"],[0.9,\"#4d9221\"],[1,\"#276419\"]]},\"xaxis\":{\"gridcolor\":\"white\",\"linecolor\":\"white\",\"ticks\":\"\",\"title\":{\"standoff\":15},\"zerolinecolor\":\"white\",\"automargin\":true,\"zerolinewidth\":2},\"yaxis\":{\"gridcolor\":\"white\",\"linecolor\":\"white\",\"ticks\":\"\",\"title\":{\"standoff\":15},\"zerolinecolor\":\"white\",\"automargin\":true,\"zerolinewidth\":2},\"scene\":{\"xaxis\":{\"backgroundcolor\":\"#E5ECF6\",\"gridcolor\":\"white\",\"linecolor\":\"white\",\"showbackground\":true,\"ticks\":\"\",\"zerolinecolor\":\"white\",\"gridwidth\":2},\"yaxis\":{\"backgroundcolor\":\"#E5ECF6\",\"gridcolor\":\"white\",\"linecolor\":\"white\",\"showbackground\":true,\"ticks\":\"\",\"zerolinecolor\":\"white\",\"gridwidth\":2},\"zaxis\":{\"backgroundcolor\":\"#E5ECF6\",\"gridcolor\":\"white\",\"linecolor\":\"white\",\"showbackground\":true,\"ticks\":\"\",\"zerolinecolor\":\"white\",\"gridwidth\":2}},\"shapedefaults\":{\"line\":{\"color\":\"#2a3f5f\"}},\"annotationdefaults\":{\"arrowcolor\":\"#2a3f5f\",\"arrowhead\":0,\"arrowwidth\":1},\"geo\":{\"bgcolor\":\"white\",\"landcolor\":\"#E5ECF6\",\"subunitcolor\":\"white\",\"showland\":true,\"showlakes\":true,\"lakecolor\":\"white\"},\"title\":{\"x\":0.05},\"mapbox\":{\"style\":\"light\"}}},\"xaxis\":{\"anchor\":\"y\",\"domain\":[0.0,1.0],\"title\":{\"text\":\"Year\"}},\"yaxis\":{\"anchor\":\"x\",\"domain\":[0.0,1.0],\"title\":{\"text\":\"avg of Distance (mi)\"}},\"legend\":{\"title\":{\"text\":\"Days\"},\"tracegroupgap\":0},\"margin\":{\"t\":0,\"r\":0,\"l\":0,\"b\":0},\"barmode\":\"group\"},                        {\"responsive\": true}                    ).then(function(){\n",
       "                            \n",
       "var gd = document.getElementById('c920dbc2-67c8-4004-82ab-43da51d06cb8');\n",
       "var x = new MutationObserver(function (mutations, observer) {{\n",
       "        var display = window.getComputedStyle(gd).display;\n",
       "        if (!display || display === 'none') {{\n",
       "            console.log([gd, 'removed!']);\n",
       "            Plotly.purge(gd);\n",
       "            observer.disconnect();\n",
       "        }}\n",
       "}});\n",
       "\n",
       "// Listen for the removal of the full notebook cells\n",
       "var notebookContainer = gd.closest('#notebook-container');\n",
       "if (notebookContainer) {{\n",
       "    x.observe(notebookContainer, {childList: true});\n",
       "}}\n",
       "\n",
       "// Listen for the clearing of the current output cell\n",
       "var outputEl = gd.closest('.output');\n",
       "if (outputEl) {{\n",
       "    x.observe(outputEl, {childList: true});\n",
       "}}\n",
       "\n",
       "                        })                };                });            </script>        </div>"
      ]
     },
     "metadata": {},
     "output_type": "display_data"
    }
   ],
   "source": [
    "fig = px.histogram(df.sort_values('Year'), x = \"Year\",y = \"Distance (mi)\",barmode='group',histfunc='avg',color=\"Days\")\n",
    "\n",
    "# reduce whitespace\n",
    "fig.update_layout(margin={\"r\":0,\"t\":0,\"l\":0,\"b\":0})\n",
    "# show the plot\n",
    "fig.show()"
   ]
  },
  {
   "cell_type": "code",
   "execution_count": null,
   "id": "aca6b860-e090-4a37-8f45-daa3815c0f0e",
   "metadata": {},
   "outputs": [],
   "source": [
    "fig = px.histogram(df.sort_values('Year'), x = \"Year\",y = \"Distance (mi)\",barmode='group',histfunc='avg',color=\"Days\")\n",
    "\n",
    "# reduce whitespace\n",
    "fig.update_layout(margin={\"r\":0,\"t\":0,\"l\":0,\"b\":0})\n",
    "# show the plot\n",
    "fig.show()"
   ]
  },
  {
   "cell_type": "code",
   "execution_count": 36,
   "id": "d1e0d346-636a-485b-8fba-db170272ece5",
   "metadata": {},
   "outputs": [],
   "source": [
    "year = []\n",
    "for i in df['Date']:\n",
    "    year.append(i[:4])\n",
    "df['Year'] = year"
   ]
  },
  {
   "cell_type": "code",
   "execution_count": 63,
   "id": "943b30f5-28c6-41dc-a256-3726cb137dd7",
   "metadata": {
    "tags": []
   },
   "outputs": [
    {
     "data": {
      "text/html": [
       "<div>\n",
       "<style scoped>\n",
       "    .dataframe tbody tr th:only-of-type {\n",
       "        vertical-align: middle;\n",
       "    }\n",
       "\n",
       "    .dataframe tbody tr th {\n",
       "        vertical-align: top;\n",
       "    }\n",
       "\n",
       "    .dataframe thead th {\n",
       "        text-align: right;\n",
       "    }\n",
       "</style>\n",
       "<table border=\"1\" class=\"dataframe\">\n",
       "  <thead>\n",
       "    <tr style=\"text-align: right;\">\n",
       "      <th></th>\n",
       "      <th>Unnamed: 0</th>\n",
       "      <th>Name</th>\n",
       "      <th>Distance (mi)</th>\n",
       "      <th>Moving Time (hr)</th>\n",
       "      <th>Elevation Gain (ft)</th>\n",
       "      <th>Average Heartrate (bpm)</th>\n",
       "      <th>Average Power (w)</th>\n",
       "      <th>Date</th>\n",
       "      <th>Days</th>\n",
       "      <th>Week</th>\n",
       "      <th>Year</th>\n",
       "    </tr>\n",
       "  </thead>\n",
       "  <tbody>\n",
       "    <tr>\n",
       "      <th>0</th>\n",
       "      <td>0</td>\n",
       "      <td>Afternoon Ride</td>\n",
       "      <td>28.91</td>\n",
       "      <td>2.80</td>\n",
       "      <td>2791.99</td>\n",
       "      <td>NaN</td>\n",
       "      <td>NaN</td>\n",
       "      <td>2023-11-02</td>\n",
       "      <td>Thursday</td>\n",
       "      <td>44</td>\n",
       "      <td>2023</td>\n",
       "    </tr>\n",
       "    <tr>\n",
       "      <th>1</th>\n",
       "      <td>1</td>\n",
       "      <td>Afternoon Ride</td>\n",
       "      <td>24.29</td>\n",
       "      <td>2.04</td>\n",
       "      <td>2654.20</td>\n",
       "      <td>NaN</td>\n",
       "      <td>NaN</td>\n",
       "      <td>2023-11-01</td>\n",
       "      <td>Wednesday</td>\n",
       "      <td>44</td>\n",
       "      <td>2023</td>\n",
       "    </tr>\n",
       "    <tr>\n",
       "      <th>2</th>\n",
       "      <td>2</td>\n",
       "      <td>pumkin</td>\n",
       "      <td>17.59</td>\n",
       "      <td>1.76</td>\n",
       "      <td>1863.52</td>\n",
       "      <td>NaN</td>\n",
       "      <td>NaN</td>\n",
       "      <td>2023-10-31</td>\n",
       "      <td>Tuesday</td>\n",
       "      <td>44</td>\n",
       "      <td>2023</td>\n",
       "    </tr>\n",
       "    <tr>\n",
       "      <th>3</th>\n",
       "      <td>3</td>\n",
       "      <td>mtb on da road</td>\n",
       "      <td>73.79</td>\n",
       "      <td>4.86</td>\n",
       "      <td>6893.04</td>\n",
       "      <td>155.1</td>\n",
       "      <td>NaN</td>\n",
       "      <td>2023-10-28</td>\n",
       "      <td>Saturday</td>\n",
       "      <td>43</td>\n",
       "      <td>2023</td>\n",
       "    </tr>\n",
       "    <tr>\n",
       "      <th>4</th>\n",
       "      <td>4</td>\n",
       "      <td>Morning Ride</td>\n",
       "      <td>5.84</td>\n",
       "      <td>0.47</td>\n",
       "      <td>226.38</td>\n",
       "      <td>NaN</td>\n",
       "      <td>NaN</td>\n",
       "      <td>2023-10-27</td>\n",
       "      <td>Friday</td>\n",
       "      <td>43</td>\n",
       "      <td>2023</td>\n",
       "    </tr>\n",
       "    <tr>\n",
       "      <th>...</th>\n",
       "      <td>...</td>\n",
       "      <td>...</td>\n",
       "      <td>...</td>\n",
       "      <td>...</td>\n",
       "      <td>...</td>\n",
       "      <td>...</td>\n",
       "      <td>...</td>\n",
       "      <td>...</td>\n",
       "      <td>...</td>\n",
       "      <td>...</td>\n",
       "      <td>...</td>\n",
       "    </tr>\n",
       "    <tr>\n",
       "      <th>713</th>\n",
       "      <td>713</td>\n",
       "      <td>Michael and Max --- 3/11/17</td>\n",
       "      <td>22.20</td>\n",
       "      <td>2.99</td>\n",
       "      <td>1054.13</td>\n",
       "      <td>NaN</td>\n",
       "      <td>NaN</td>\n",
       "      <td>2017-03-11</td>\n",
       "      <td>Saturday</td>\n",
       "      <td>10</td>\n",
       "      <td>2017</td>\n",
       "    </tr>\n",
       "    <tr>\n",
       "      <th>714</th>\n",
       "      <td>714</td>\n",
       "      <td>Thanksgiving ride</td>\n",
       "      <td>15.79</td>\n",
       "      <td>1.79</td>\n",
       "      <td>1328.74</td>\n",
       "      <td>NaN</td>\n",
       "      <td>NaN</td>\n",
       "      <td>2016-11-24</td>\n",
       "      <td>Thursday</td>\n",
       "      <td>47</td>\n",
       "      <td>2016</td>\n",
       "    </tr>\n",
       "    <tr>\n",
       "      <th>715</th>\n",
       "      <td>715</td>\n",
       "      <td>Afternoon Ride</td>\n",
       "      <td>10.40</td>\n",
       "      <td>1.05</td>\n",
       "      <td>484.25</td>\n",
       "      <td>NaN</td>\n",
       "      <td>NaN</td>\n",
       "      <td>2016-11-23</td>\n",
       "      <td>Wednesday</td>\n",
       "      <td>47</td>\n",
       "      <td>2016</td>\n",
       "    </tr>\n",
       "    <tr>\n",
       "      <th>716</th>\n",
       "      <td>716</td>\n",
       "      <td>Veterans Day weekend --- phone dies and 5 mike...</td>\n",
       "      <td>17.12</td>\n",
       "      <td>1.91</td>\n",
       "      <td>1077.76</td>\n",
       "      <td>NaN</td>\n",
       "      <td>NaN</td>\n",
       "      <td>2016-11-13</td>\n",
       "      <td>Sunday</td>\n",
       "      <td>45</td>\n",
       "      <td>2016</td>\n",
       "    </tr>\n",
       "    <tr>\n",
       "      <th>717</th>\n",
       "      <td>717</td>\n",
       "      <td>Dad tried to kill me</td>\n",
       "      <td>17.07</td>\n",
       "      <td>1.74</td>\n",
       "      <td>948.49</td>\n",
       "      <td>NaN</td>\n",
       "      <td>NaN</td>\n",
       "      <td>2016-08-04</td>\n",
       "      <td>Thursday</td>\n",
       "      <td>31</td>\n",
       "      <td>2016</td>\n",
       "    </tr>\n",
       "  </tbody>\n",
       "</table>\n",
       "<p>718 rows × 11 columns</p>\n",
       "</div>"
      ],
      "text/plain": [
       "     Unnamed: 0                                               Name  \\\n",
       "0             0                                     Afternoon Ride   \n",
       "1             1                                     Afternoon Ride   \n",
       "2             2                                             pumkin   \n",
       "3             3                                     mtb on da road   \n",
       "4             4                                       Morning Ride   \n",
       "..          ...                                                ...   \n",
       "713         713                        Michael and Max --- 3/11/17   \n",
       "714         714                                 Thanksgiving ride    \n",
       "715         715                                     Afternoon Ride   \n",
       "716         716  Veterans Day weekend --- phone dies and 5 mike...   \n",
       "717         717                              Dad tried to kill me    \n",
       "\n",
       "     Distance (mi)  Moving Time (hr)  Elevation Gain (ft)  \\\n",
       "0            28.91              2.80              2791.99   \n",
       "1            24.29              2.04              2654.20   \n",
       "2            17.59              1.76              1863.52   \n",
       "3            73.79              4.86              6893.04   \n",
       "4             5.84              0.47               226.38   \n",
       "..             ...               ...                  ...   \n",
       "713          22.20              2.99              1054.13   \n",
       "714          15.79              1.79              1328.74   \n",
       "715          10.40              1.05               484.25   \n",
       "716          17.12              1.91              1077.76   \n",
       "717          17.07              1.74               948.49   \n",
       "\n",
       "     Average Heartrate (bpm)  Average Power (w)        Date       Days Week  \\\n",
       "0                        NaN                NaN  2023-11-02   Thursday   44   \n",
       "1                        NaN                NaN  2023-11-01  Wednesday   44   \n",
       "2                        NaN                NaN  2023-10-31    Tuesday   44   \n",
       "3                      155.1                NaN  2023-10-28   Saturday   43   \n",
       "4                        NaN                NaN  2023-10-27     Friday   43   \n",
       "..                       ...                ...         ...        ...  ...   \n",
       "713                      NaN                NaN  2017-03-11   Saturday   10   \n",
       "714                      NaN                NaN  2016-11-24   Thursday   47   \n",
       "715                      NaN                NaN  2016-11-23  Wednesday   47   \n",
       "716                      NaN                NaN  2016-11-13     Sunday   45   \n",
       "717                      NaN                NaN  2016-08-04   Thursday   31   \n",
       "\n",
       "     Year  \n",
       "0    2023  \n",
       "1    2023  \n",
       "2    2023  \n",
       "3    2023  \n",
       "4    2023  \n",
       "..    ...  \n",
       "713  2017  \n",
       "714  2016  \n",
       "715  2016  \n",
       "716  2016  \n",
       "717  2016  \n",
       "\n",
       "[718 rows x 11 columns]"
      ]
     },
     "execution_count": 63,
     "metadata": {},
     "output_type": "execute_result"
    }
   ],
   "source": [
    "df"
   ]
  },
  {
   "cell_type": "code",
   "execution_count": 66,
   "id": "91dc399d-7890-402a-b740-fcdaba1668b8",
   "metadata": {
    "tags": []
   },
   "outputs": [],
   "source": [
    "df_2022 = df[df['Year'] == '2022'].sort_values('Week')"
   ]
  },
  {
   "cell_type": "code",
   "execution_count": 67,
   "id": "cb333f98-2b99-4de8-a2a9-52b6edff7139",
   "metadata": {
    "tags": []
   },
   "outputs": [
    {
     "data": {
      "application/vnd.plotly.v1+json": {
       "config": {
        "plotlyServerURL": "https://plot.ly"
       },
       "data": [
        {
         "alignmentgroup": "True",
         "bingroup": "x",
         "histfunc": "sum",
         "hovertemplate": "Week=%{x}<br>sum of Distance (mi)=%{y}<extra></extra>",
         "legendgroup": "",
         "marker": {
          "color": "#636efa",
          "pattern": {
           "shape": ""
          }
         },
         "name": "",
         "offsetgroup": "",
         "orientation": "v",
         "showlegend": false,
         "type": "histogram",
         "x": [
          "01",
          "01",
          "01",
          "02",
          "02",
          "02",
          "02",
          "02",
          "02",
          "03",
          "03",
          "03",
          "04",
          "04",
          "04",
          "04",
          "04",
          "04",
          "05",
          "05",
          "05",
          "05",
          "05",
          "05",
          "05",
          "06",
          "06",
          "06",
          "06",
          "06",
          "06",
          "06",
          "07",
          "07",
          "07",
          "07",
          "07",
          "07",
          "08",
          "08",
          "08",
          "08",
          "09",
          "09",
          "09",
          "09",
          "09",
          "09",
          "10",
          "10",
          "10",
          "10",
          "11",
          "11",
          "11",
          "11",
          "11",
          "12",
          "12",
          "13",
          "13",
          "13",
          "13",
          "13",
          "14",
          "14",
          "14",
          "14",
          "14",
          "14",
          "14",
          "15",
          "15",
          "15",
          "15",
          "16",
          "16",
          "16",
          "16",
          "17",
          "17",
          "17",
          "18",
          "18",
          "19",
          "19",
          "19",
          "20",
          "20",
          "20",
          "20",
          "20",
          "20",
          "20",
          "20",
          "21",
          "21",
          "21",
          "21",
          "21",
          "21",
          "21",
          "22",
          "22",
          "22",
          "23",
          "23",
          "23",
          "23",
          "23",
          "24",
          "24",
          "24",
          "24",
          "24",
          "24",
          "25",
          "25",
          "25",
          "25",
          "25",
          "25",
          "26",
          "26",
          "26",
          "26",
          "26",
          "26",
          "26",
          "26",
          "27",
          "27",
          "27",
          "27",
          "27",
          "27",
          "27",
          "27",
          "27",
          "27",
          "28",
          "28",
          "28",
          "28",
          "28",
          "28",
          "28",
          "29",
          "29",
          "29",
          "29",
          "30",
          "30",
          "30",
          "31",
          "31",
          "31",
          "31",
          "31",
          "32",
          "32",
          "32",
          "32",
          "32",
          "33",
          "33",
          "33",
          "33",
          "33",
          "33",
          "33",
          "34",
          "34",
          "34",
          "34",
          "34",
          "35",
          "35",
          "35",
          "36",
          "36",
          "36",
          "36",
          "37",
          "37",
          "37",
          "37",
          "38",
          "38",
          "38",
          "38",
          "39",
          "39",
          "39",
          "39",
          "39",
          "39",
          "39",
          "39",
          "39",
          "40",
          "40",
          "40",
          "40",
          "40",
          "41",
          "41",
          "41",
          "41",
          "41",
          "42",
          "42",
          "42",
          "42",
          "42",
          "42",
          "43",
          "43",
          "43",
          "43",
          "44",
          "44",
          "44",
          "45",
          "45",
          "45",
          "46",
          "46",
          "46",
          "46",
          "46",
          "47",
          "47",
          "47",
          "47",
          "48",
          "51",
          "51",
          "51",
          "51",
          "52",
          "52",
          "52",
          "52",
          "52"
         ],
         "xaxis": "x",
         "y": [
          14.49,
          19.65,
          6.74,
          18.21,
          26.68,
          31,
          29.31,
          73.58,
          44.87,
          23.94,
          31.65,
          91.16,
          38.66,
          29.91,
          17.05,
          61.86,
          15.54,
          20.95,
          11.32,
          11.94,
          41.36,
          9.39,
          19.36,
          21.58,
          23.52,
          52.41,
          9.31,
          55.31,
          47.03,
          22.24,
          14.3,
          27.7,
          14.43,
          10.15,
          13.26,
          20.77,
          24.85,
          25.95,
          1.67,
          64.29,
          24.91,
          32.3,
          34.61,
          1.95,
          1.54,
          23.74,
          20.01,
          39.88,
          7.77,
          9.18,
          100.89,
          43.18,
          18.53,
          30.87,
          40.53,
          69.77,
          14.89,
          82.29,
          31.19,
          54.13,
          12.15,
          29.52,
          18.13,
          33.92,
          56.67,
          10.34,
          67.01,
          16.52,
          12.05,
          18.98,
          41.9,
          35.23,
          14.05,
          43.52,
          41.24,
          23.28,
          18.66,
          35.32,
          19.99,
          31.25,
          11.09,
          134.77,
          38.85,
          30.14,
          18.52,
          61.17,
          33.73,
          10.76,
          18.81,
          80.64,
          34.56,
          29.34,
          15.22,
          36.24,
          16.9,
          18.61,
          9.94,
          1.84,
          26.07,
          15.89,
          113.16,
          19.79,
          23,
          15.62,
          1.71,
          6.47,
          40.34,
          33.47,
          11.1,
          54.73,
          44.68,
          63.97,
          1.19,
          33.86,
          24.12,
          24.87,
          9.36,
          27.09,
          17.05,
          20.51,
          26.33,
          57.1,
          32.43,
          38.47,
          75.81,
          16.42,
          4.14,
          21.83,
          26.26,
          26.43,
          13.39,
          18.46,
          28.75,
          100.15,
          25.51,
          43.31,
          33.4,
          18.59,
          32.73,
          24.58,
          7.33,
          95.51,
          22.07,
          11.61,
          30.59,
          37.05,
          15.55,
          14.26,
          29.16,
          107.11,
          42.16,
          22.2,
          26.35,
          97.83,
          35.52,
          21.02,
          20.73,
          2.11,
          3.82,
          23.73,
          26.54,
          22.63,
          2.21,
          5.22,
          21.24,
          70.85,
          22.83,
          30.15,
          3.23,
          21,
          17.79,
          26.13,
          52.46,
          23.42,
          31.45,
          72.36,
          19.56,
          31.21,
          14.71,
          47.75,
          20.85,
          64.33,
          28.34,
          32.77,
          54.79,
          29.13,
          18.29,
          60.61,
          18.25,
          56.08,
          25.89,
          32.32,
          91.95,
          26.36,
          120.7,
          31.05,
          25.12,
          15.74,
          26.06,
          27.93,
          24.49,
          30.55,
          25.52,
          76.72,
          37.89,
          13.65,
          29.26,
          27.59,
          11.13,
          79.63,
          45.4,
          24.71,
          18.02,
          11.46,
          27.27,
          31.78,
          19.34,
          29.47,
          68.1,
          28.34,
          45.69,
          20.53,
          25.74,
          2.9,
          49.68,
          45.09,
          92.13,
          59.96,
          30.44,
          30.8,
          20.61,
          27.76,
          20.51,
          91.67,
          29.18,
          47.06,
          17.16,
          31.37,
          2.11,
          4.17,
          7.43,
          1.72,
          1.84,
          24.12,
          13.36
         ],
         "yaxis": "y"
        }
       ],
       "layout": {
        "autosize": true,
        "barmode": "relative",
        "legend": {
         "tracegroupgap": 0
        },
        "margin": {
         "t": 60
        },
        "template": {
         "data": {
          "bar": [
           {
            "error_x": {
             "color": "#2a3f5f"
            },
            "error_y": {
             "color": "#2a3f5f"
            },
            "marker": {
             "line": {
              "color": "#E5ECF6",
              "width": 0.5
             },
             "pattern": {
              "fillmode": "overlay",
              "size": 10,
              "solidity": 0.2
             }
            },
            "type": "bar"
           }
          ],
          "barpolar": [
           {
            "marker": {
             "line": {
              "color": "#E5ECF6",
              "width": 0.5
             },
             "pattern": {
              "fillmode": "overlay",
              "size": 10,
              "solidity": 0.2
             }
            },
            "type": "barpolar"
           }
          ],
          "carpet": [
           {
            "aaxis": {
             "endlinecolor": "#2a3f5f",
             "gridcolor": "white",
             "linecolor": "white",
             "minorgridcolor": "white",
             "startlinecolor": "#2a3f5f"
            },
            "baxis": {
             "endlinecolor": "#2a3f5f",
             "gridcolor": "white",
             "linecolor": "white",
             "minorgridcolor": "white",
             "startlinecolor": "#2a3f5f"
            },
            "type": "carpet"
           }
          ],
          "choropleth": [
           {
            "colorbar": {
             "outlinewidth": 0,
             "ticks": ""
            },
            "type": "choropleth"
           }
          ],
          "contour": [
           {
            "colorbar": {
             "outlinewidth": 0,
             "ticks": ""
            },
            "colorscale": [
             [
              0,
              "#0d0887"
             ],
             [
              0.1111111111111111,
              "#46039f"
             ],
             [
              0.2222222222222222,
              "#7201a8"
             ],
             [
              0.3333333333333333,
              "#9c179e"
             ],
             [
              0.4444444444444444,
              "#bd3786"
             ],
             [
              0.5555555555555556,
              "#d8576b"
             ],
             [
              0.6666666666666666,
              "#ed7953"
             ],
             [
              0.7777777777777778,
              "#fb9f3a"
             ],
             [
              0.8888888888888888,
              "#fdca26"
             ],
             [
              1,
              "#f0f921"
             ]
            ],
            "type": "contour"
           }
          ],
          "contourcarpet": [
           {
            "colorbar": {
             "outlinewidth": 0,
             "ticks": ""
            },
            "type": "contourcarpet"
           }
          ],
          "heatmap": [
           {
            "colorbar": {
             "outlinewidth": 0,
             "ticks": ""
            },
            "colorscale": [
             [
              0,
              "#0d0887"
             ],
             [
              0.1111111111111111,
              "#46039f"
             ],
             [
              0.2222222222222222,
              "#7201a8"
             ],
             [
              0.3333333333333333,
              "#9c179e"
             ],
             [
              0.4444444444444444,
              "#bd3786"
             ],
             [
              0.5555555555555556,
              "#d8576b"
             ],
             [
              0.6666666666666666,
              "#ed7953"
             ],
             [
              0.7777777777777778,
              "#fb9f3a"
             ],
             [
              0.8888888888888888,
              "#fdca26"
             ],
             [
              1,
              "#f0f921"
             ]
            ],
            "type": "heatmap"
           }
          ],
          "heatmapgl": [
           {
            "colorbar": {
             "outlinewidth": 0,
             "ticks": ""
            },
            "colorscale": [
             [
              0,
              "#0d0887"
             ],
             [
              0.1111111111111111,
              "#46039f"
             ],
             [
              0.2222222222222222,
              "#7201a8"
             ],
             [
              0.3333333333333333,
              "#9c179e"
             ],
             [
              0.4444444444444444,
              "#bd3786"
             ],
             [
              0.5555555555555556,
              "#d8576b"
             ],
             [
              0.6666666666666666,
              "#ed7953"
             ],
             [
              0.7777777777777778,
              "#fb9f3a"
             ],
             [
              0.8888888888888888,
              "#fdca26"
             ],
             [
              1,
              "#f0f921"
             ]
            ],
            "type": "heatmapgl"
           }
          ],
          "histogram": [
           {
            "marker": {
             "pattern": {
              "fillmode": "overlay",
              "size": 10,
              "solidity": 0.2
             }
            },
            "type": "histogram"
           }
          ],
          "histogram2d": [
           {
            "colorbar": {
             "outlinewidth": 0,
             "ticks": ""
            },
            "colorscale": [
             [
              0,
              "#0d0887"
             ],
             [
              0.1111111111111111,
              "#46039f"
             ],
             [
              0.2222222222222222,
              "#7201a8"
             ],
             [
              0.3333333333333333,
              "#9c179e"
             ],
             [
              0.4444444444444444,
              "#bd3786"
             ],
             [
              0.5555555555555556,
              "#d8576b"
             ],
             [
              0.6666666666666666,
              "#ed7953"
             ],
             [
              0.7777777777777778,
              "#fb9f3a"
             ],
             [
              0.8888888888888888,
              "#fdca26"
             ],
             [
              1,
              "#f0f921"
             ]
            ],
            "type": "histogram2d"
           }
          ],
          "histogram2dcontour": [
           {
            "colorbar": {
             "outlinewidth": 0,
             "ticks": ""
            },
            "colorscale": [
             [
              0,
              "#0d0887"
             ],
             [
              0.1111111111111111,
              "#46039f"
             ],
             [
              0.2222222222222222,
              "#7201a8"
             ],
             [
              0.3333333333333333,
              "#9c179e"
             ],
             [
              0.4444444444444444,
              "#bd3786"
             ],
             [
              0.5555555555555556,
              "#d8576b"
             ],
             [
              0.6666666666666666,
              "#ed7953"
             ],
             [
              0.7777777777777778,
              "#fb9f3a"
             ],
             [
              0.8888888888888888,
              "#fdca26"
             ],
             [
              1,
              "#f0f921"
             ]
            ],
            "type": "histogram2dcontour"
           }
          ],
          "mesh3d": [
           {
            "colorbar": {
             "outlinewidth": 0,
             "ticks": ""
            },
            "type": "mesh3d"
           }
          ],
          "parcoords": [
           {
            "line": {
             "colorbar": {
              "outlinewidth": 0,
              "ticks": ""
             }
            },
            "type": "parcoords"
           }
          ],
          "pie": [
           {
            "automargin": true,
            "type": "pie"
           }
          ],
          "scatter": [
           {
            "fillpattern": {
             "fillmode": "overlay",
             "size": 10,
             "solidity": 0.2
            },
            "type": "scatter"
           }
          ],
          "scatter3d": [
           {
            "line": {
             "colorbar": {
              "outlinewidth": 0,
              "ticks": ""
             }
            },
            "marker": {
             "colorbar": {
              "outlinewidth": 0,
              "ticks": ""
             }
            },
            "type": "scatter3d"
           }
          ],
          "scattercarpet": [
           {
            "marker": {
             "colorbar": {
              "outlinewidth": 0,
              "ticks": ""
             }
            },
            "type": "scattercarpet"
           }
          ],
          "scattergeo": [
           {
            "marker": {
             "colorbar": {
              "outlinewidth": 0,
              "ticks": ""
             }
            },
            "type": "scattergeo"
           }
          ],
          "scattergl": [
           {
            "marker": {
             "colorbar": {
              "outlinewidth": 0,
              "ticks": ""
             }
            },
            "type": "scattergl"
           }
          ],
          "scattermapbox": [
           {
            "marker": {
             "colorbar": {
              "outlinewidth": 0,
              "ticks": ""
             }
            },
            "type": "scattermapbox"
           }
          ],
          "scatterpolar": [
           {
            "marker": {
             "colorbar": {
              "outlinewidth": 0,
              "ticks": ""
             }
            },
            "type": "scatterpolar"
           }
          ],
          "scatterpolargl": [
           {
            "marker": {
             "colorbar": {
              "outlinewidth": 0,
              "ticks": ""
             }
            },
            "type": "scatterpolargl"
           }
          ],
          "scatterternary": [
           {
            "marker": {
             "colorbar": {
              "outlinewidth": 0,
              "ticks": ""
             }
            },
            "type": "scatterternary"
           }
          ],
          "surface": [
           {
            "colorbar": {
             "outlinewidth": 0,
             "ticks": ""
            },
            "colorscale": [
             [
              0,
              "#0d0887"
             ],
             [
              0.1111111111111111,
              "#46039f"
             ],
             [
              0.2222222222222222,
              "#7201a8"
             ],
             [
              0.3333333333333333,
              "#9c179e"
             ],
             [
              0.4444444444444444,
              "#bd3786"
             ],
             [
              0.5555555555555556,
              "#d8576b"
             ],
             [
              0.6666666666666666,
              "#ed7953"
             ],
             [
              0.7777777777777778,
              "#fb9f3a"
             ],
             [
              0.8888888888888888,
              "#fdca26"
             ],
             [
              1,
              "#f0f921"
             ]
            ],
            "type": "surface"
           }
          ],
          "table": [
           {
            "cells": {
             "fill": {
              "color": "#EBF0F8"
             },
             "line": {
              "color": "white"
             }
            },
            "header": {
             "fill": {
              "color": "#C8D4E3"
             },
             "line": {
              "color": "white"
             }
            },
            "type": "table"
           }
          ]
         },
         "layout": {
          "annotationdefaults": {
           "arrowcolor": "#2a3f5f",
           "arrowhead": 0,
           "arrowwidth": 1
          },
          "autotypenumbers": "strict",
          "coloraxis": {
           "colorbar": {
            "outlinewidth": 0,
            "ticks": ""
           }
          },
          "colorscale": {
           "diverging": [
            [
             0,
             "#8e0152"
            ],
            [
             0.1,
             "#c51b7d"
            ],
            [
             0.2,
             "#de77ae"
            ],
            [
             0.3,
             "#f1b6da"
            ],
            [
             0.4,
             "#fde0ef"
            ],
            [
             0.5,
             "#f7f7f7"
            ],
            [
             0.6,
             "#e6f5d0"
            ],
            [
             0.7,
             "#b8e186"
            ],
            [
             0.8,
             "#7fbc41"
            ],
            [
             0.9,
             "#4d9221"
            ],
            [
             1,
             "#276419"
            ]
           ],
           "sequential": [
            [
             0,
             "#0d0887"
            ],
            [
             0.1111111111111111,
             "#46039f"
            ],
            [
             0.2222222222222222,
             "#7201a8"
            ],
            [
             0.3333333333333333,
             "#9c179e"
            ],
            [
             0.4444444444444444,
             "#bd3786"
            ],
            [
             0.5555555555555556,
             "#d8576b"
            ],
            [
             0.6666666666666666,
             "#ed7953"
            ],
            [
             0.7777777777777778,
             "#fb9f3a"
            ],
            [
             0.8888888888888888,
             "#fdca26"
            ],
            [
             1,
             "#f0f921"
            ]
           ],
           "sequentialminus": [
            [
             0,
             "#0d0887"
            ],
            [
             0.1111111111111111,
             "#46039f"
            ],
            [
             0.2222222222222222,
             "#7201a8"
            ],
            [
             0.3333333333333333,
             "#9c179e"
            ],
            [
             0.4444444444444444,
             "#bd3786"
            ],
            [
             0.5555555555555556,
             "#d8576b"
            ],
            [
             0.6666666666666666,
             "#ed7953"
            ],
            [
             0.7777777777777778,
             "#fb9f3a"
            ],
            [
             0.8888888888888888,
             "#fdca26"
            ],
            [
             1,
             "#f0f921"
            ]
           ]
          },
          "colorway": [
           "#636efa",
           "#EF553B",
           "#00cc96",
           "#ab63fa",
           "#FFA15A",
           "#19d3f3",
           "#FF6692",
           "#B6E880",
           "#FF97FF",
           "#FECB52"
          ],
          "font": {
           "color": "#2a3f5f"
          },
          "geo": {
           "bgcolor": "white",
           "lakecolor": "white",
           "landcolor": "#E5ECF6",
           "showlakes": true,
           "showland": true,
           "subunitcolor": "white"
          },
          "hoverlabel": {
           "align": "left"
          },
          "hovermode": "closest",
          "mapbox": {
           "style": "light"
          },
          "paper_bgcolor": "white",
          "plot_bgcolor": "#E5ECF6",
          "polar": {
           "angularaxis": {
            "gridcolor": "white",
            "linecolor": "white",
            "ticks": ""
           },
           "bgcolor": "#E5ECF6",
           "radialaxis": {
            "gridcolor": "white",
            "linecolor": "white",
            "ticks": ""
           }
          },
          "scene": {
           "xaxis": {
            "backgroundcolor": "#E5ECF6",
            "gridcolor": "white",
            "gridwidth": 2,
            "linecolor": "white",
            "showbackground": true,
            "ticks": "",
            "zerolinecolor": "white"
           },
           "yaxis": {
            "backgroundcolor": "#E5ECF6",
            "gridcolor": "white",
            "gridwidth": 2,
            "linecolor": "white",
            "showbackground": true,
            "ticks": "",
            "zerolinecolor": "white"
           },
           "zaxis": {
            "backgroundcolor": "#E5ECF6",
            "gridcolor": "white",
            "gridwidth": 2,
            "linecolor": "white",
            "showbackground": true,
            "ticks": "",
            "zerolinecolor": "white"
           }
          },
          "shapedefaults": {
           "line": {
            "color": "#2a3f5f"
           }
          },
          "ternary": {
           "aaxis": {
            "gridcolor": "white",
            "linecolor": "white",
            "ticks": ""
           },
           "baxis": {
            "gridcolor": "white",
            "linecolor": "white",
            "ticks": ""
           },
           "bgcolor": "#E5ECF6",
           "caxis": {
            "gridcolor": "white",
            "linecolor": "white",
            "ticks": ""
           }
          },
          "title": {
           "x": 0.05
          },
          "xaxis": {
           "automargin": true,
           "gridcolor": "white",
           "linecolor": "white",
           "ticks": "",
           "title": {
            "standoff": 15
           },
           "zerolinecolor": "white",
           "zerolinewidth": 2
          },
          "yaxis": {
           "automargin": true,
           "gridcolor": "white",
           "linecolor": "white",
           "ticks": "",
           "title": {
            "standoff": 15
           },
           "zerolinecolor": "white",
           "zerolinewidth": 2
          }
         }
        },
        "xaxis": {
         "anchor": "y",
         "autorange": true,
         "domain": [
          0,
          1
         ],
         "range": [
          -0.5,
          49.5
         ],
         "title": {
          "text": "Week"
         },
         "type": "category"
        },
        "yaxis": {
         "anchor": "x",
         "autorange": true,
         "domain": [
          0,
          1
         ],
         "range": [
          0,
          418.13684210526316
         ],
         "title": {
          "text": "sum of Distance (mi)"
         },
         "type": "linear"
        }
       }
      },
      "image/png": "[encoded data removed]",
      "text/html": [
       "<div>                            <div id=\"a21102af-6d73-4f90-8310-05cd39bd20f4\" class=\"plotly-graph-div\" style=\"height:525px; width:100%;\"></div>            <script type=\"text/javascript\">                require([\"plotly\"], function(Plotly) {                    window.PLOTLYENV=window.PLOTLYENV || {};                                    if (document.getElementById(\"a21102af-6d73-4f90-8310-05cd39bd20f4\")) {                    Plotly.newPlot(                        \"a21102af-6d73-4f90-8310-05cd39bd20f4\",                        [{\"alignmentgroup\":\"True\",\"bingroup\":\"x\",\"histfunc\":\"sum\",\"hovertemplate\":\"Week=%{x}\\u003cbr\\u003esum of Distance (mi)=%{y}\\u003cextra\\u003e\\u003c\\u002fextra\\u003e\",\"legendgroup\":\"\",\"marker\":{\"color\":\"#636efa\",\"pattern\":{\"shape\":\"\"}},\"name\":\"\",\"offsetgroup\":\"\",\"orientation\":\"v\",\"showlegend\":false,\"x\":[\"01\",\"01\",\"01\",\"02\",\"02\",\"02\",\"02\",\"02\",\"02\",\"03\",\"03\",\"03\",\"04\",\"04\",\"04\",\"04\",\"04\",\"04\",\"05\",\"05\",\"05\",\"05\",\"05\",\"05\",\"05\",\"06\",\"06\",\"06\",\"06\",\"06\",\"06\",\"06\",\"07\",\"07\",\"07\",\"07\",\"07\",\"07\",\"08\",\"08\",\"08\",\"08\",\"09\",\"09\",\"09\",\"09\",\"09\",\"09\",\"10\",\"10\",\"10\",\"10\",\"11\",\"11\",\"11\",\"11\",\"11\",\"12\",\"12\",\"13\",\"13\",\"13\",\"13\",\"13\",\"14\",\"14\",\"14\",\"14\",\"14\",\"14\",\"14\",\"15\",\"15\",\"15\",\"15\",\"16\",\"16\",\"16\",\"16\",\"17\",\"17\",\"17\",\"18\",\"18\",\"19\",\"19\",\"19\",\"20\",\"20\",\"20\",\"20\",\"20\",\"20\",\"20\",\"20\",\"21\",\"21\",\"21\",\"21\",\"21\",\"21\",\"21\",\"22\",\"22\",\"22\",\"23\",\"23\",\"23\",\"23\",\"23\",\"24\",\"24\",\"24\",\"24\",\"24\",\"24\",\"25\",\"25\",\"25\",\"25\",\"25\",\"25\",\"26\",\"26\",\"26\",\"26\",\"26\",\"26\",\"26\",\"26\",\"27\",\"27\",\"27\",\"27\",\"27\",\"27\",\"27\",\"27\",\"27\",\"27\",\"28\",\"28\",\"28\",\"28\",\"28\",\"28\",\"28\",\"29\",\"29\",\"29\",\"29\",\"30\",\"30\",\"30\",\"31\",\"31\",\"31\",\"31\",\"31\",\"32\",\"32\",\"32\",\"32\",\"32\",\"33\",\"33\",\"33\",\"33\",\"33\",\"33\",\"33\",\"34\",\"34\",\"34\",\"34\",\"34\",\"35\",\"35\",\"35\",\"36\",\"36\",\"36\",\"36\",\"37\",\"37\",\"37\",\"37\",\"38\",\"38\",\"38\",\"38\",\"39\",\"39\",\"39\",\"39\",\"39\",\"39\",\"39\",\"39\",\"39\",\"40\",\"40\",\"40\",\"40\",\"40\",\"41\",\"41\",\"41\",\"41\",\"41\",\"42\",\"42\",\"42\",\"42\",\"42\",\"42\",\"43\",\"43\",\"43\",\"43\",\"44\",\"44\",\"44\",\"45\",\"45\",\"45\",\"46\",\"46\",\"46\",\"46\",\"46\",\"47\",\"47\",\"47\",\"47\",\"48\",\"51\",\"51\",\"51\",\"51\",\"52\",\"52\",\"52\",\"52\",\"52\"],\"xaxis\":\"x\",\"y\":[14.49,19.65,6.74,18.21,26.68,31.0,29.31,73.58,44.87,23.94,31.65,91.16,38.66,29.91,17.05,61.86,15.54,20.95,11.32,11.94,41.36,9.39,19.36,21.58,23.52,52.41,9.31,55.31,47.03,22.24,14.3,27.7,14.43,10.15,13.26,20.77,24.85,25.95,1.67,64.29,24.91,32.3,34.61,1.95,1.54,23.74,20.01,39.88,7.77,9.18,100.89,43.18,18.53,30.87,40.53,69.77,14.89,82.29,31.19,54.13,12.15,29.52,18.13,33.92,56.67,10.34,67.01,16.52,12.05,18.98,41.9,35.23,14.05,43.52,41.24,23.28,18.66,35.32,19.99,31.25,11.09,134.77,38.85,30.14,18.52,61.17,33.73,10.76,18.81,80.64,34.56,29.34,15.22,36.24,16.9,18.61,9.94,1.84,26.07,15.89,113.16,19.79,23.0,15.62,1.71,6.47,40.34,33.47,11.1,54.73,44.68,63.97,1.19,33.86,24.12,24.87,9.36,27.09,17.05,20.51,26.33,57.1,32.43,38.47,75.81,16.42,4.14,21.83,26.26,26.43,13.39,18.46,28.75,100.15,25.51,43.31,33.4,18.59,32.73,24.58,7.33,95.51,22.07,11.61,30.59,37.05,15.55,14.26,29.16,107.11,42.16,22.2,26.35,97.83,35.52,21.02,20.73,2.11,3.82,23.73,26.54,22.63,2.21,5.22,21.24,70.85,22.83,30.15,3.23,21.0,17.79,26.13,52.46,23.42,31.45,72.36,19.56,31.21,14.71,47.75,20.85,64.33,28.34,32.77,54.79,29.13,18.29,60.61,18.25,56.08,25.89,32.32,91.95,26.36,120.7,31.05,25.12,15.74,26.06,27.93,24.49,30.55,25.52,76.72,37.89,13.65,29.26,27.59,11.13,79.63,45.4,24.71,18.02,11.46,27.27,31.78,19.34,29.47,68.1,28.34,45.69,20.53,25.74,2.9,49.68,45.09,92.13,59.96,30.44,30.8,20.61,27.76,20.51,91.67,29.18,47.06,17.16,31.37,2.11,4.17,7.43,1.72,1.84,24.12,13.36],\"yaxis\":\"y\",\"type\":\"histogram\"}],                        {\"template\":{\"data\":{\"histogram2dcontour\":[{\"type\":\"histogram2dcontour\",\"colorbar\":{\"outlinewidth\":0,\"ticks\":\"\"},\"colorscale\":[[0.0,\"#0d0887\"],[0.1111111111111111,\"#46039f\"],[0.2222222222222222,\"#7201a8\"],[0.3333333333333333,\"#9c179e\"],[0.4444444444444444,\"#bd3786\"],[0.5555555555555556,\"#d8576b\"],[0.6666666666666666,\"#ed7953\"],[0.7777777777777778,\"#fb9f3a\"],[0.8888888888888888,\"#fdca26\"],[1.0,\"#f0f921\"]]}],\"choropleth\":[{\"type\":\"choropleth\",\"colorbar\":{\"outlinewidth\":0,\"ticks\":\"\"}}],\"histogram2d\":[{\"type\":\"histogram2d\",\"colorbar\":{\"outlinewidth\":0,\"ticks\":\"\"},\"colorscale\":[[0.0,\"#0d0887\"],[0.1111111111111111,\"#46039f\"],[0.2222222222222222,\"#7201a8\"],[0.3333333333333333,\"#9c179e\"],[0.4444444444444444,\"#bd3786\"],[0.5555555555555556,\"#d8576b\"],[0.6666666666666666,\"#ed7953\"],[0.7777777777777778,\"#fb9f3a\"],[0.8888888888888888,\"#fdca26\"],[1.0,\"#f0f921\"]]}],\"heatmap\":[{\"type\":\"heatmap\",\"colorbar\":{\"outlinewidth\":0,\"ticks\":\"\"},\"colorscale\":[[0.0,\"#0d0887\"],[0.1111111111111111,\"#46039f\"],[0.2222222222222222,\"#7201a8\"],[0.3333333333333333,\"#9c179e\"],[0.4444444444444444,\"#bd3786\"],[0.5555555555555556,\"#d8576b\"],[0.6666666666666666,\"#ed7953\"],[0.7777777777777778,\"#fb9f3a\"],[0.8888888888888888,\"#fdca26\"],[1.0,\"#f0f921\"]]}],\"heatmapgl\":[{\"type\":\"heatmapgl\",\"colorbar\":{\"outlinewidth\":0,\"ticks\":\"\"},\"colorscale\":[[0.0,\"#0d0887\"],[0.1111111111111111,\"#46039f\"],[0.2222222222222222,\"#7201a8\"],[0.3333333333333333,\"#9c179e\"],[0.4444444444444444,\"#bd3786\"],[0.5555555555555556,\"#d8576b\"],[0.6666666666666666,\"#ed7953\"],[0.7777777777777778,\"#fb9f3a\"],[0.8888888888888888,\"#fdca26\"],[1.0,\"#f0f921\"]]}],\"contourcarpet\":[{\"type\":\"contourcarpet\",\"colorbar\":{\"outlinewidth\":0,\"ticks\":\"\"}}],\"contour\":[{\"type\":\"contour\",\"colorbar\":{\"outlinewidth\":0,\"ticks\":\"\"},\"colorscale\":[[0.0,\"#0d0887\"],[0.1111111111111111,\"#46039f\"],[0.2222222222222222,\"#7201a8\"],[0.3333333333333333,\"#9c179e\"],[0.4444444444444444,\"#bd3786\"],[0.5555555555555556,\"#d8576b\"],[0.6666666666666666,\"#ed7953\"],[0.7777777777777778,\"#fb9f3a\"],[0.8888888888888888,\"#fdca26\"],[1.0,\"#f0f921\"]]}],\"surface\":[{\"type\":\"surface\",\"colorbar\":{\"outlinewidth\":0,\"ticks\":\"\"},\"colorscale\":[[0.0,\"#0d0887\"],[0.1111111111111111,\"#46039f\"],[0.2222222222222222,\"#7201a8\"],[0.3333333333333333,\"#9c179e\"],[0.4444444444444444,\"#bd3786\"],[0.5555555555555556,\"#d8576b\"],[0.6666666666666666,\"#ed7953\"],[0.7777777777777778,\"#fb9f3a\"],[0.8888888888888888,\"#fdca26\"],[1.0,\"#f0f921\"]]}],\"mesh3d\":[{\"type\":\"mesh3d\",\"colorbar\":{\"outlinewidth\":0,\"ticks\":\"\"}}],\"scatter\":[{\"fillpattern\":{\"fillmode\":\"overlay\",\"size\":10,\"solidity\":0.2},\"type\":\"scatter\"}],\"parcoords\":[{\"type\":\"parcoords\",\"line\":{\"colorbar\":{\"outlinewidth\":0,\"ticks\":\"\"}}}],\"scatterpolargl\":[{\"type\":\"scatterpolargl\",\"marker\":{\"colorbar\":{\"outlinewidth\":0,\"ticks\":\"\"}}}],\"bar\":[{\"error_x\":{\"color\":\"#2a3f5f\"},\"error_y\":{\"color\":\"#2a3f5f\"},\"marker\":{\"line\":{\"color\":\"#E5ECF6\",\"width\":0.5},\"pattern\":{\"fillmode\":\"overlay\",\"size\":10,\"solidity\":0.2}},\"type\":\"bar\"}],\"scattergeo\":[{\"type\":\"scattergeo\",\"marker\":{\"colorbar\":{\"outlinewidth\":0,\"ticks\":\"\"}}}],\"scatterpolar\":[{\"type\":\"scatterpolar\",\"marker\":{\"colorbar\":{\"outlinewidth\":0,\"ticks\":\"\"}}}],\"histogram\":[{\"marker\":{\"pattern\":{\"fillmode\":\"overlay\",\"size\":10,\"solidity\":0.2}},\"type\":\"histogram\"}],\"scattergl\":[{\"type\":\"scattergl\",\"marker\":{\"colorbar\":{\"outlinewidth\":0,\"ticks\":\"\"}}}],\"scatter3d\":[{\"type\":\"scatter3d\",\"line\":{\"colorbar\":{\"outlinewidth\":0,\"ticks\":\"\"}},\"marker\":{\"colorbar\":{\"outlinewidth\":0,\"ticks\":\"\"}}}],\"scattermapbox\":[{\"type\":\"scattermapbox\",\"marker\":{\"colorbar\":{\"outlinewidth\":0,\"ticks\":\"\"}}}],\"scatterternary\":[{\"type\":\"scatterternary\",\"marker\":{\"colorbar\":{\"outlinewidth\":0,\"ticks\":\"\"}}}],\"scattercarpet\":[{\"type\":\"scattercarpet\",\"marker\":{\"colorbar\":{\"outlinewidth\":0,\"ticks\":\"\"}}}],\"carpet\":[{\"aaxis\":{\"endlinecolor\":\"#2a3f5f\",\"gridcolor\":\"white\",\"linecolor\":\"white\",\"minorgridcolor\":\"white\",\"startlinecolor\":\"#2a3f5f\"},\"baxis\":{\"endlinecolor\":\"#2a3f5f\",\"gridcolor\":\"white\",\"linecolor\":\"white\",\"minorgridcolor\":\"white\",\"startlinecolor\":\"#2a3f5f\"},\"type\":\"carpet\"}],\"table\":[{\"cells\":{\"fill\":{\"color\":\"#EBF0F8\"},\"line\":{\"color\":\"white\"}},\"header\":{\"fill\":{\"color\":\"#C8D4E3\"},\"line\":{\"color\":\"white\"}},\"type\":\"table\"}],\"barpolar\":[{\"marker\":{\"line\":{\"color\":\"#E5ECF6\",\"width\":0.5},\"pattern\":{\"fillmode\":\"overlay\",\"size\":10,\"solidity\":0.2}},\"type\":\"barpolar\"}],\"pie\":[{\"automargin\":true,\"type\":\"pie\"}]},\"layout\":{\"autotypenumbers\":\"strict\",\"colorway\":[\"#636efa\",\"#EF553B\",\"#00cc96\",\"#ab63fa\",\"#FFA15A\",\"#19d3f3\",\"#FF6692\",\"#B6E880\",\"#FF97FF\",\"#FECB52\"],\"font\":{\"color\":\"#2a3f5f\"},\"hovermode\":\"closest\",\"hoverlabel\":{\"align\":\"left\"},\"paper_bgcolor\":\"white\",\"plot_bgcolor\":\"#E5ECF6\",\"polar\":{\"bgcolor\":\"#E5ECF6\",\"angularaxis\":{\"gridcolor\":\"white\",\"linecolor\":\"white\",\"ticks\":\"\"},\"radialaxis\":{\"gridcolor\":\"white\",\"linecolor\":\"white\",\"ticks\":\"\"}},\"ternary\":{\"bgcolor\":\"#E5ECF6\",\"aaxis\":{\"gridcolor\":\"white\",\"linecolor\":\"white\",\"ticks\":\"\"},\"baxis\":{\"gridcolor\":\"white\",\"linecolor\":\"white\",\"ticks\":\"\"},\"caxis\":{\"gridcolor\":\"white\",\"linecolor\":\"white\",\"ticks\":\"\"}},\"coloraxis\":{\"colorbar\":{\"outlinewidth\":0,\"ticks\":\"\"}},\"colorscale\":{\"sequential\":[[0.0,\"#0d0887\"],[0.1111111111111111,\"#46039f\"],[0.2222222222222222,\"#7201a8\"],[0.3333333333333333,\"#9c179e\"],[0.4444444444444444,\"#bd3786\"],[0.5555555555555556,\"#d8576b\"],[0.6666666666666666,\"#ed7953\"],[0.7777777777777778,\"#fb9f3a\"],[0.8888888888888888,\"#fdca26\"],[1.0,\"#f0f921\"]],\"sequentialminus\":[[0.0,\"#0d0887\"],[0.1111111111111111,\"#46039f\"],[0.2222222222222222,\"#7201a8\"],[0.3333333333333333,\"#9c179e\"],[0.4444444444444444,\"#bd3786\"],[0.5555555555555556,\"#d8576b\"],[0.6666666666666666,\"#ed7953\"],[0.7777777777777778,\"#fb9f3a\"],[0.8888888888888888,\"#fdca26\"],[1.0,\"#f0f921\"]],\"diverging\":[[0,\"#8e0152\"],[0.1,\"#c51b7d\"],[0.2,\"#de77ae\"],[0.3,\"#f1b6da\"],[0.4,\"#fde0ef\"],[0.5,\"#f7f7f7\"],[0.6,\"#e6f5d0\"],[0.7,\"#b8e186\"],[0.8,\"#7fbc41\"],[0.9,\"#4d9221\"],[1,\"#276419\"]]},\"xaxis\":{\"gridcolor\":\"white\",\"linecolor\":\"white\",\"ticks\":\"\",\"title\":{\"standoff\":15},\"zerolinecolor\":\"white\",\"automargin\":true,\"zerolinewidth\":2},\"yaxis\":{\"gridcolor\":\"white\",\"linecolor\":\"white\",\"ticks\":\"\",\"title\":{\"standoff\":15},\"zerolinecolor\":\"white\",\"automargin\":true,\"zerolinewidth\":2},\"scene\":{\"xaxis\":{\"backgroundcolor\":\"#E5ECF6\",\"gridcolor\":\"white\",\"linecolor\":\"white\",\"showbackground\":true,\"ticks\":\"\",\"zerolinecolor\":\"white\",\"gridwidth\":2},\"yaxis\":{\"backgroundcolor\":\"#E5ECF6\",\"gridcolor\":\"white\",\"linecolor\":\"white\",\"showbackground\":true,\"ticks\":\"\",\"zerolinecolor\":\"white\",\"gridwidth\":2},\"zaxis\":{\"backgroundcolor\":\"#E5ECF6\",\"gridcolor\":\"white\",\"linecolor\":\"white\",\"showbackground\":true,\"ticks\":\"\",\"zerolinecolor\":\"white\",\"gridwidth\":2}},\"shapedefaults\":{\"line\":{\"color\":\"#2a3f5f\"}},\"annotationdefaults\":{\"arrowcolor\":\"#2a3f5f\",\"arrowhead\":0,\"arrowwidth\":1},\"geo\":{\"bgcolor\":\"white\",\"landcolor\":\"#E5ECF6\",\"subunitcolor\":\"white\",\"showland\":true,\"showlakes\":true,\"lakecolor\":\"white\"},\"title\":{\"x\":0.05},\"mapbox\":{\"style\":\"light\"}}},\"xaxis\":{\"anchor\":\"y\",\"domain\":[0.0,1.0],\"title\":{\"text\":\"Week\"}},\"yaxis\":{\"anchor\":\"x\",\"domain\":[0.0,1.0],\"title\":{\"text\":\"sum of Distance (mi)\"}},\"legend\":{\"tracegroupgap\":0},\"margin\":{\"t\":60},\"barmode\":\"relative\"},                        {\"responsive\": true}                    ).then(function(){\n",
       "                            \n",
       "var gd = document.getElementById('a21102af-6d73-4f90-8310-05cd39bd20f4');\n",
       "var x = new MutationObserver(function (mutations, observer) {{\n",
       "        var display = window.getComputedStyle(gd).display;\n",
       "        if (!display || display === 'none') {{\n",
       "            console.log([gd, 'removed!']);\n",
       "            Plotly.purge(gd);\n",
       "            observer.disconnect();\n",
       "        }}\n",
       "}});\n",
       "\n",
       "// Listen for the removal of the full notebook cells\n",
       "var notebookContainer = gd.closest('#notebook-container');\n",
       "if (notebookContainer) {{\n",
       "    x.observe(notebookContainer, {childList: true});\n",
       "}}\n",
       "\n",
       "// Listen for the clearing of the current output cell\n",
       "var outputEl = gd.closest('.output');\n",
       "if (outputEl) {{\n",
       "    x.observe(outputEl, {childList: true});\n",
       "}}\n",
       "\n",
       "                        })                };                });            </script>        </div>"
      ]
     },
     "metadata": {},
     "output_type": "display_data"
    }
   ],
   "source": [
    "import plotly.express as px\n",
    "# Here we use a column with categorical data\n",
    "fig = px.histogram(df_2022, x=\"Week\", y= \"Distance (mi)\")\n",
    "fig.show()"
   ]
  },
  {
   "cell_type": "code",
   "execution_count": null,
   "id": "90196238-9010-405f-9115-53c1eead7241",
   "metadata": {},
   "outputs": [],
   "source": []
  }
 ],
 "metadata": {
  "kernelspec": {
   "display_name": "Python 3 (ipykernel)",
   "language": "python",
   "name": "python3"
  },
  "language_info": {
   "codemirror_mode": {
    "name": "ipython",
    "version": 3
   },
   "file_extension": ".py",
   "mimetype": "text/x-python",
   "name": "python",
   "nbconvert_exporter": "python",
   "pygments_lexer": "ipython3",
   "version": "3.11.6"
  }
 },
 "nbformat": 4,
 "nbformat_minor": 5
}
